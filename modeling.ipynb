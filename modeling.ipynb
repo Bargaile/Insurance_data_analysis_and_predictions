{
 "cells": [
  {
   "cell_type": "markdown",
   "metadata": {},
   "source": [
    "# 1.1. Set up"
   ]
  },
  {
   "cell_type": "code",
   "execution_count": 1,
   "metadata": {},
   "outputs": [],
   "source": [
    "from functions import my_functions as mf\n",
    "import pandas as pd\n",
    "import numpy as np\n",
    "import optuna\n",
    "import matplotlib.pyplot as plt\n",
    "from collections import Counter\n",
    "from imblearn.over_sampling import SMOTE \n",
    "from math import ceil\n",
    "from sklearn.linear_model import LogisticRegression\n",
    "from sklearn.neighbors import KNeighborsClassifier\n",
    "from sklearn.tree import DecisionTreeClassifier\n",
    "from sklearn.ensemble import RandomForestClassifier\n",
    "from sklearn.compose import ColumnTransformer\n",
    "from imblearn.under_sampling import RandomUnderSampler\n",
    "from sklearn.decomposition import PCA\n",
    "from sklearn.svm import LinearSVC, SVC\n",
    "import category_encoders as ce\n",
    "from sklearn.model_selection import RandomizedSearchCV\n",
    "from sklearn.metrics import PrecisionRecallDisplay\n",
    "from sklearn.inspection import permutation_importance\n",
    "from sklearn.model_selection import train_test_split\n",
    "from sklearn.preprocessing import MinMaxScaler, StandardScaler, RobustScaler\n",
    "from sklearn.pipeline import Pipeline\n",
    "from sklearn.model_selection import cross_validate, cross_val_score\n",
    "from sklearn.metrics import accuracy_score, confusion_matrix, precision_score, plot_confusion_matrix, f1_score, recall_score\n",
    "from IPython.display import Image\n",
    "from warnings import filterwarnings\n",
    "filterwarnings(action='ignore')\n",
    "%matplotlib inline   \n",
    "%load_ext blackcellmagic"
   ]
  },
  {
   "cell_type": "code",
   "execution_count": 97,
   "metadata": {},
   "outputs": [],
   "source": [
    "pd.set_option(\"display.max_columns\", None)\n",
    "pd.set_option(\"display.max_rows\", None)\n",
    "pd.set_option(\"float_format\", \"{:.2f}\".format)"
   ]
  },
  {
   "cell_type": "code",
   "execution_count": 98,
   "metadata": {},
   "outputs": [
    {
     "data": {
      "text/html": [
       "<div>\n",
       "<style scoped>\n",
       "    .dataframe tbody tr th:only-of-type {\n",
       "        vertical-align: middle;\n",
       "    }\n",
       "\n",
       "    .dataframe tbody tr th {\n",
       "        vertical-align: top;\n",
       "    }\n",
       "\n",
       "    .dataframe thead th {\n",
       "        text-align: right;\n",
       "    }\n",
       "</style>\n",
       "<table border=\"1\" class=\"dataframe\">\n",
       "  <thead>\n",
       "    <tr style=\"text-align: right;\">\n",
       "      <th></th>\n",
       "      <th>age</th>\n",
       "      <th>employment_type</th>\n",
       "      <th>graduate_or_not</th>\n",
       "      <th>annual_income</th>\n",
       "      <th>family_members</th>\n",
       "      <th>chronic_diseases</th>\n",
       "      <th>frequent_flyer</th>\n",
       "      <th>ever_travelled_abroad</th>\n",
       "      <th>travel_insurance</th>\n",
       "      <th>annual_income_per_person</th>\n",
       "      <th>traveller</th>\n",
       "    </tr>\n",
       "  </thead>\n",
       "  <tbody>\n",
       "    <tr>\n",
       "      <th>0</th>\n",
       "      <td>31</td>\n",
       "      <td>0</td>\n",
       "      <td>1</td>\n",
       "      <td>400000</td>\n",
       "      <td>6</td>\n",
       "      <td>1</td>\n",
       "      <td>0</td>\n",
       "      <td>0</td>\n",
       "      <td>0</td>\n",
       "      <td>66666.67</td>\n",
       "      <td>0</td>\n",
       "    </tr>\n",
       "    <tr>\n",
       "      <th>1</th>\n",
       "      <td>31</td>\n",
       "      <td>1</td>\n",
       "      <td>1</td>\n",
       "      <td>1250000</td>\n",
       "      <td>7</td>\n",
       "      <td>0</td>\n",
       "      <td>0</td>\n",
       "      <td>0</td>\n",
       "      <td>0</td>\n",
       "      <td>178571.43</td>\n",
       "      <td>0</td>\n",
       "    </tr>\n",
       "    <tr>\n",
       "      <th>2</th>\n",
       "      <td>34</td>\n",
       "      <td>1</td>\n",
       "      <td>1</td>\n",
       "      <td>500000</td>\n",
       "      <td>4</td>\n",
       "      <td>1</td>\n",
       "      <td>0</td>\n",
       "      <td>0</td>\n",
       "      <td>1</td>\n",
       "      <td>125000.00</td>\n",
       "      <td>0</td>\n",
       "    </tr>\n",
       "    <tr>\n",
       "      <th>3</th>\n",
       "      <td>28</td>\n",
       "      <td>1</td>\n",
       "      <td>1</td>\n",
       "      <td>700000</td>\n",
       "      <td>3</td>\n",
       "      <td>1</td>\n",
       "      <td>0</td>\n",
       "      <td>0</td>\n",
       "      <td>0</td>\n",
       "      <td>233333.33</td>\n",
       "      <td>0</td>\n",
       "    </tr>\n",
       "    <tr>\n",
       "      <th>4</th>\n",
       "      <td>28</td>\n",
       "      <td>1</td>\n",
       "      <td>1</td>\n",
       "      <td>700000</td>\n",
       "      <td>8</td>\n",
       "      <td>1</td>\n",
       "      <td>1</td>\n",
       "      <td>0</td>\n",
       "      <td>0</td>\n",
       "      <td>87500.00</td>\n",
       "      <td>0</td>\n",
       "    </tr>\n",
       "  </tbody>\n",
       "</table>\n",
       "</div>"
      ],
      "text/plain": [
       "   age  employment_type  graduate_or_not  annual_income  family_members  \\\n",
       "0   31                0                1         400000               6   \n",
       "1   31                1                1        1250000               7   \n",
       "2   34                1                1         500000               4   \n",
       "3   28                1                1         700000               3   \n",
       "4   28                1                1         700000               8   \n",
       "\n",
       "   chronic_diseases  frequent_flyer  ever_travelled_abroad  travel_insurance  \\\n",
       "0                 1               0                      0                 0   \n",
       "1                 0               0                      0                 0   \n",
       "2                 1               0                      0                 1   \n",
       "3                 1               0                      0                 0   \n",
       "4                 1               1                      0                 0   \n",
       "\n",
       "   annual_income_per_person  traveller  \n",
       "0                  66666.67          0  \n",
       "1                 178571.43          0  \n",
       "2                 125000.00          0  \n",
       "3                 233333.33          0  \n",
       "4                  87500.00          0  "
      ]
     },
     "execution_count": 98,
     "metadata": {},
     "output_type": "execute_result"
    }
   ],
   "source": [
    "df = pd.read_csv('insurance_numeric_df.csv')\n",
    "df.head()"
   ]
  },
  {
   "cell_type": "markdown",
   "metadata": {},
   "source": [
    "# 2. Predicting values of travel_insurance column\n",
    "\n",
    "In this part i will try to predict: will a person buy travel insurance with covid-19 coverage or not."
   ]
  },
  {
   "cell_type": "markdown",
   "metadata": {},
   "source": [
    "## 2.1. Feature pre-processing"
   ]
  },
  {
   "cell_type": "markdown",
   "metadata": {},
   "source": [
    "As all features in this usable data set are numeric, the only pre-processing I need to do is scaling for numerical continuous variables: age, annual_income, annual_income_per_person, family_members, as the scale of these values differ quite a lot. Some values were added in the EDA as part of feature engineering."
   ]
  },
  {
   "cell_type": "code",
   "execution_count": 99,
   "metadata": {},
   "outputs": [
    {
     "data": {
      "text/html": [
       "<div>\n",
       "<style scoped>\n",
       "    .dataframe tbody tr th:only-of-type {\n",
       "        vertical-align: middle;\n",
       "    }\n",
       "\n",
       "    .dataframe tbody tr th {\n",
       "        vertical-align: top;\n",
       "    }\n",
       "\n",
       "    .dataframe thead th {\n",
       "        text-align: right;\n",
       "    }\n",
       "</style>\n",
       "<table border=\"1\" class=\"dataframe\">\n",
       "  <thead>\n",
       "    <tr style=\"text-align: right;\">\n",
       "      <th></th>\n",
       "      <th>age</th>\n",
       "      <th>employment_type</th>\n",
       "      <th>graduate_or_not</th>\n",
       "      <th>annual_income</th>\n",
       "      <th>family_members</th>\n",
       "      <th>chronic_diseases</th>\n",
       "      <th>frequent_flyer</th>\n",
       "      <th>ever_travelled_abroad</th>\n",
       "      <th>travel_insurance</th>\n",
       "      <th>annual_income_per_person</th>\n",
       "      <th>traveller</th>\n",
       "    </tr>\n",
       "  </thead>\n",
       "  <tbody>\n",
       "    <tr>\n",
       "      <th>0</th>\n",
       "      <td>31</td>\n",
       "      <td>0</td>\n",
       "      <td>1</td>\n",
       "      <td>400000</td>\n",
       "      <td>6</td>\n",
       "      <td>1</td>\n",
       "      <td>0</td>\n",
       "      <td>0</td>\n",
       "      <td>0</td>\n",
       "      <td>66666.67</td>\n",
       "      <td>0</td>\n",
       "    </tr>\n",
       "    <tr>\n",
       "      <th>1</th>\n",
       "      <td>31</td>\n",
       "      <td>1</td>\n",
       "      <td>1</td>\n",
       "      <td>1250000</td>\n",
       "      <td>7</td>\n",
       "      <td>0</td>\n",
       "      <td>0</td>\n",
       "      <td>0</td>\n",
       "      <td>0</td>\n",
       "      <td>178571.43</td>\n",
       "      <td>0</td>\n",
       "    </tr>\n",
       "    <tr>\n",
       "      <th>2</th>\n",
       "      <td>34</td>\n",
       "      <td>1</td>\n",
       "      <td>1</td>\n",
       "      <td>500000</td>\n",
       "      <td>4</td>\n",
       "      <td>1</td>\n",
       "      <td>0</td>\n",
       "      <td>0</td>\n",
       "      <td>1</td>\n",
       "      <td>125000.00</td>\n",
       "      <td>0</td>\n",
       "    </tr>\n",
       "    <tr>\n",
       "      <th>3</th>\n",
       "      <td>28</td>\n",
       "      <td>1</td>\n",
       "      <td>1</td>\n",
       "      <td>700000</td>\n",
       "      <td>3</td>\n",
       "      <td>1</td>\n",
       "      <td>0</td>\n",
       "      <td>0</td>\n",
       "      <td>0</td>\n",
       "      <td>233333.33</td>\n",
       "      <td>0</td>\n",
       "    </tr>\n",
       "    <tr>\n",
       "      <th>4</th>\n",
       "      <td>28</td>\n",
       "      <td>1</td>\n",
       "      <td>1</td>\n",
       "      <td>700000</td>\n",
       "      <td>8</td>\n",
       "      <td>1</td>\n",
       "      <td>1</td>\n",
       "      <td>0</td>\n",
       "      <td>0</td>\n",
       "      <td>87500.00</td>\n",
       "      <td>0</td>\n",
       "    </tr>\n",
       "  </tbody>\n",
       "</table>\n",
       "</div>"
      ],
      "text/plain": [
       "   age  employment_type  graduate_or_not  annual_income  family_members  \\\n",
       "0   31                0                1         400000               6   \n",
       "1   31                1                1        1250000               7   \n",
       "2   34                1                1         500000               4   \n",
       "3   28                1                1         700000               3   \n",
       "4   28                1                1         700000               8   \n",
       "\n",
       "   chronic_diseases  frequent_flyer  ever_travelled_abroad  travel_insurance  \\\n",
       "0                 1               0                      0                 0   \n",
       "1                 0               0                      0                 0   \n",
       "2                 1               0                      0                 1   \n",
       "3                 1               0                      0                 0   \n",
       "4                 1               1                      0                 0   \n",
       "\n",
       "   annual_income_per_person  traveller  \n",
       "0                  66666.67          0  \n",
       "1                 178571.43          0  \n",
       "2                 125000.00          0  \n",
       "3                 233333.33          0  \n",
       "4                  87500.00          0  "
      ]
     },
     "execution_count": 99,
     "metadata": {},
     "output_type": "execute_result"
    }
   ],
   "source": [
    "df.head()"
   ]
  },
  {
   "cell_type": "code",
   "execution_count": 100,
   "metadata": {},
   "outputs": [],
   "source": [
    "df_result = df.copy()\n",
    "\n",
    "# Identify and drop our target variable 'travel_insurance' from data frame, isolating our independent variables\n",
    "X = df_result.drop(columns = ['travel_insurance'], axis = 1)\n",
    "\n",
    "# Isolate our dependent variable as a feature\n",
    "y = df_result.travel_insurance"
   ]
  },
  {
   "cell_type": "markdown",
   "metadata": {},
   "source": [
    "* Splitting the data sets."
   ]
  },
  {
   "cell_type": "code",
   "execution_count": 101,
   "metadata": {},
   "outputs": [],
   "source": [
    "X_train, X_remain, y_train, y_remain = train_test_split(X, y, train_size=0.8, random_state=123)\n",
    "X_val, X_test, y_val, y_test = train_test_split(X_remain, y_remain, test_size=0.5, random_state=123)"
   ]
  },
  {
   "cell_type": "code",
   "execution_count": 102,
   "metadata": {},
   "outputs": [
    {
     "name": "stdout",
     "output_type": "stream",
     "text": [
      "(1589, 10)\n",
      "(199, 10)\n",
      "(199, 10)\n",
      "(1589,)\n",
      "(199,)\n",
      "(199,)\n"
     ]
    }
   ],
   "source": [
    "print(X_train.shape)\n",
    "print(X_val.shape)\n",
    "print(X_test.shape)\n",
    "print(y_train.shape)\n",
    "print(y_val.shape)\n",
    "print(y_test.shape)"
   ]
  },
  {
   "cell_type": "code",
   "execution_count": 103,
   "metadata": {},
   "outputs": [
    {
     "data": {
      "text/plain": [
       "Counter({1: 579, 0: 1010})"
      ]
     },
     "execution_count": 103,
     "metadata": {},
     "output_type": "execute_result"
    }
   ],
   "source": [
    "# Let's check the number of labels in y-train data set.\n",
    "\n",
    "Counter(y_train)"
   ]
  },
  {
   "cell_type": "markdown",
   "metadata": {},
   "source": [
    "We see, that data is imbalanced, so for the main score I'll use F1. I will select the best models by F1 parameters, as it's the harmonic mean of precision and recall scores. Also my interest is that the model could better predict more false positives than false negatives, as by predicting false negative - when a person is interested in insurance, but the Company will not offer him by prediction - it would be huge disadvantage, I also care about the recall."
   ]
  },
  {
   "cell_type": "code",
   "execution_count": 117,
   "metadata": {},
   "outputs": [],
   "source": [
    "numerical_features = [\n",
    "    \"age\",\n",
    "    \"annual_income\",\n",
    "    \"family_members\",\n",
    "    \"annual_income_per_person\",\n",
    "]\n",
    "\n",
    "numerical_scaler = Pipeline(steps=[(\"scaler\", StandardScaler())])\n",
    "\n",
    "preprocessor = ColumnTransformer(\n",
    "    transformers=[(\"numerical\", numerical_scaler, numerical_features)],\n",
    "    remainder=\"passthrough\",\n",
    ")"
   ]
  },
  {
   "cell_type": "markdown",
   "metadata": {},
   "source": [
    "## 2.2. Cross-validation of different model/Selecting 3 best"
   ]
  },
  {
   "cell_type": "code",
   "execution_count": 11,
   "metadata": {},
   "outputs": [
    {
     "data": {
      "text/html": [
       "<style type=\"text/css\">\n",
       "#T_5e2c2_row0_col0, #T_5e2c2_row0_col2, #T_5e2c2_row0_col4 {\n",
       "  background-color: #eaf7af;\n",
       "  color: #000000;\n",
       "}\n",
       "#T_5e2c2_row0_col1 {\n",
       "  background-color: #f6fcb8;\n",
       "  color: #000000;\n",
       "}\n",
       "#T_5e2c2_row0_col3 {\n",
       "  background-color: #b9e294;\n",
       "  color: #000000;\n",
       "}\n",
       "#T_5e2c2_row0_col5 {\n",
       "  background-color: #98d486;\n",
       "  color: #000000;\n",
       "}\n",
       "#T_5e2c2_row0_col6 {\n",
       "  background-color: #e8f6ae;\n",
       "  color: #000000;\n",
       "}\n",
       "#T_5e2c2_row1_col0, #T_5e2c2_row1_col2 {\n",
       "  background-color: #74c477;\n",
       "  color: #000000;\n",
       "}\n",
       "#T_5e2c2_row1_col1 {\n",
       "  background-color: #fcfed6;\n",
       "  color: #000000;\n",
       "}\n",
       "#T_5e2c2_row1_col3, #T_5e2c2_row1_col5, #T_5e2c2_row1_col6, #T_5e2c2_row3_col0, #T_5e2c2_row3_col1, #T_5e2c2_row3_col2, #T_5e2c2_row3_col4, #T_5e2c2_row5_col6 {\n",
       "  background-color: #ffffe5;\n",
       "  color: #000000;\n",
       "}\n",
       "#T_5e2c2_row1_col4 {\n",
       "  background-color: #a4d98a;\n",
       "  color: #000000;\n",
       "}\n",
       "#T_5e2c2_row2_col0, #T_5e2c2_row2_col2 {\n",
       "  background-color: #006234;\n",
       "  color: #f1f1f1;\n",
       "}\n",
       "#T_5e2c2_row2_col1 {\n",
       "  background-color: #3da559;\n",
       "  color: #f1f1f1;\n",
       "}\n",
       "#T_5e2c2_row2_col3 {\n",
       "  background-color: #7ac77a;\n",
       "  color: #000000;\n",
       "}\n",
       "#T_5e2c2_row2_col4 {\n",
       "  background-color: #10743c;\n",
       "  color: #f1f1f1;\n",
       "}\n",
       "#T_5e2c2_row2_col5 {\n",
       "  background-color: #006435;\n",
       "  color: #f1f1f1;\n",
       "}\n",
       "#T_5e2c2_row2_col6, #T_5e2c2_row4_col0, #T_5e2c2_row4_col1, #T_5e2c2_row4_col2, #T_5e2c2_row4_col3, #T_5e2c2_row4_col4, #T_5e2c2_row4_col5 {\n",
       "  background-color: #004529;\n",
       "  color: #f1f1f1;\n",
       "}\n",
       "#T_5e2c2_row3_col3 {\n",
       "  background-color: #c5e89a;\n",
       "  color: #000000;\n",
       "}\n",
       "#T_5e2c2_row3_col5 {\n",
       "  background-color: #a9db8c;\n",
       "  color: #000000;\n",
       "}\n",
       "#T_5e2c2_row3_col6 {\n",
       "  background-color: #e4f4ab;\n",
       "  color: #000000;\n",
       "}\n",
       "#T_5e2c2_row4_col6 {\n",
       "  background-color: #cfec9e;\n",
       "  color: #000000;\n",
       "}\n",
       "#T_5e2c2_row5_col0, #T_5e2c2_row5_col2 {\n",
       "  background-color: #69bf72;\n",
       "  color: #000000;\n",
       "}\n",
       "#T_5e2c2_row5_col1 {\n",
       "  background-color: #d2eda0;\n",
       "  color: #000000;\n",
       "}\n",
       "#T_5e2c2_row5_col3 {\n",
       "  background-color: #dcf1a5;\n",
       "  color: #000000;\n",
       "}\n",
       "#T_5e2c2_row5_col4 {\n",
       "  background-color: #7fc97c;\n",
       "  color: #000000;\n",
       "}\n",
       "#T_5e2c2_row5_col5 {\n",
       "  background-color: #2f944e;\n",
       "  color: #f1f1f1;\n",
       "}\n",
       "</style>\n",
       "<table id=\"T_5e2c2_\">\n",
       "  <thead>\n",
       "    <tr>\n",
       "      <th class=\"blank level0\" >&nbsp;</th>\n",
       "      <th class=\"col_heading level0 col0\" >Balanced accuracy</th>\n",
       "      <th class=\"col_heading level0 col1\" >Accuracy</th>\n",
       "      <th class=\"col_heading level0 col2\" >Recall</th>\n",
       "      <th class=\"col_heading level0 col3\" >Precision</th>\n",
       "      <th class=\"col_heading level0 col4\" >f1</th>\n",
       "      <th class=\"col_heading level0 col5\" >Roc Auc</th>\n",
       "      <th class=\"col_heading level0 col6\" >Fit_time</th>\n",
       "    </tr>\n",
       "  </thead>\n",
       "  <tbody>\n",
       "    <tr>\n",
       "      <th id=\"T_5e2c2_level0_row0\" class=\"row_heading level0 row0\" >Logistic regression</th>\n",
       "      <td id=\"T_5e2c2_row0_col0\" class=\"data row0 col0\" >0.704085</td>\n",
       "      <td id=\"T_5e2c2_row0_col1\" class=\"data row0 col1\" >0.763383</td>\n",
       "      <td id=\"T_5e2c2_row0_col2\" class=\"data row0 col2\" >0.704085</td>\n",
       "      <td id=\"T_5e2c2_row0_col3\" class=\"data row0 col3\" >0.772373</td>\n",
       "      <td id=\"T_5e2c2_row0_col4\" class=\"data row0 col4\" >0.715721</td>\n",
       "      <td id=\"T_5e2c2_row0_col5\" class=\"data row0 col5\" >0.757942</td>\n",
       "      <td id=\"T_5e2c2_row0_col6\" class=\"data row0 col6\" >0.027789</td>\n",
       "    </tr>\n",
       "    <tr>\n",
       "      <th id=\"T_5e2c2_level0_row1\" class=\"row_heading level0 row1\" >Decision Tree</th>\n",
       "      <td id=\"T_5e2c2_row1_col0\" class=\"data row1 col0\" >0.727381</td>\n",
       "      <td id=\"T_5e2c2_row1_col1\" class=\"data row1 col1\" >0.758342</td>\n",
       "      <td id=\"T_5e2c2_row1_col2\" class=\"data row1 col2\" >0.727381</td>\n",
       "      <td id=\"T_5e2c2_row1_col3\" class=\"data row1 col3\" >0.740751</td>\n",
       "      <td id=\"T_5e2c2_row1_col4\" class=\"data row1 col4\" >0.732307</td>\n",
       "      <td id=\"T_5e2c2_row1_col5\" class=\"data row1 col5\" >0.731940</td>\n",
       "      <td id=\"T_5e2c2_row1_col6\" class=\"data row1 col6\" >0.005870</td>\n",
       "    </tr>\n",
       "    <tr>\n",
       "      <th id=\"T_5e2c2_level0_row2\" class=\"row_heading level0 row2\" >Random Forest</th>\n",
       "      <td id=\"T_5e2c2_row2_col0\" class=\"data row2 col0\" >0.754961</td>\n",
       "      <td id=\"T_5e2c2_row2_col1\" class=\"data row2 col1\" >0.792951</td>\n",
       "      <td id=\"T_5e2c2_row2_col2\" class=\"data row2 col2\" >0.754961</td>\n",
       "      <td id=\"T_5e2c2_row2_col3\" class=\"data row2 col3\" >0.786603</td>\n",
       "      <td id=\"T_5e2c2_row2_col4\" class=\"data row2 col4\" >0.764993</td>\n",
       "      <td id=\"T_5e2c2_row2_col5\" class=\"data row2 col5\" >0.786598</td>\n",
       "      <td id=\"T_5e2c2_row2_col6\" class=\"data row2 col6\" >0.121460</td>\n",
       "    </tr>\n",
       "    <tr>\n",
       "      <th id=\"T_5e2c2_level0_row3\" class=\"row_heading level0 row3\" >Linear SVC</th>\n",
       "      <td id=\"T_5e2c2_row3_col0\" class=\"data row3 col0\" >0.691126</td>\n",
       "      <td id=\"T_5e2c2_row3_col1\" class=\"data row3 col1\" >0.755826</td>\n",
       "      <td id=\"T_5e2c2_row3_col2\" class=\"data row3 col2\" >0.691126</td>\n",
       "      <td id=\"T_5e2c2_row3_col3\" class=\"data row3 col3\" >0.769284</td>\n",
       "      <td id=\"T_5e2c2_row3_col4\" class=\"data row3 col4\" >0.701780</td>\n",
       "      <td id=\"T_5e2c2_row3_col5\" class=\"data row3 col5\" >0.755673</td>\n",
       "      <td id=\"T_5e2c2_row3_col6\" class=\"data row3 col6\" >0.029571</td>\n",
       "    </tr>\n",
       "    <tr>\n",
       "      <th id=\"T_5e2c2_level0_row4\" class=\"row_heading level0 row4\" >SVC</th>\n",
       "      <td id=\"T_5e2c2_row4_col0\" class=\"data row4 col0\" >0.762444</td>\n",
       "      <td id=\"T_5e2c2_row4_col1\" class=\"data row4 col1\" >0.813715</td>\n",
       "      <td id=\"T_5e2c2_row4_col2\" class=\"data row4 col2\" >0.762444</td>\n",
       "      <td id=\"T_5e2c2_row4_col3\" class=\"data row4 col3\" >0.833724</td>\n",
       "      <td id=\"T_5e2c2_row4_col4\" class=\"data row4 col4\" >0.779065</td>\n",
       "      <td id=\"T_5e2c2_row4_col5\" class=\"data row4 col5\" >0.793416</td>\n",
       "      <td id=\"T_5e2c2_row4_col6\" class=\"data row4 col6\" >0.038142</td>\n",
       "    </tr>\n",
       "    <tr>\n",
       "      <th id=\"T_5e2c2_level0_row5\" class=\"row_heading level0 row5\" >KNN</th>\n",
       "      <td id=\"T_5e2c2_row5_col0\" class=\"data row5 col0\" >0.729291</td>\n",
       "      <td id=\"T_5e2c2_row5_col1\" class=\"data row5 col1\" >0.771567</td>\n",
       "      <td id=\"T_5e2c2_row5_col2\" class=\"data row5 col2\" >0.729291</td>\n",
       "      <td id=\"T_5e2c2_row5_col3\" class=\"data row5 col3\" >0.763113</td>\n",
       "      <td id=\"T_5e2c2_row5_col4\" class=\"data row5 col4\" >0.739065</td>\n",
       "      <td id=\"T_5e2c2_row5_col5\" class=\"data row5 col5\" >0.774746</td>\n",
       "      <td id=\"T_5e2c2_row5_col6\" class=\"data row5 col6\" >0.006233</td>\n",
       "    </tr>\n",
       "  </tbody>\n",
       "</table>\n"
      ],
      "text/plain": [
       "<pandas.io.formats.style.Styler at 0x2b0135d6460>"
      ]
     },
     "execution_count": 11,
     "metadata": {},
     "output_type": "execute_result"
    }
   ],
   "source": [
    "mf.base_line(X_train, y_train, preprocessor)"
   ]
  },
  {
   "cell_type": "markdown",
   "metadata": {},
   "source": [
    "Conclusion: by F1 score and recall best models in this cross-validation on all dataset: \n",
    "SVC, KNN, Random forest."
   ]
  },
  {
   "cell_type": "markdown",
   "metadata": {},
   "source": [
    "## 2.3. Support vector machine - SVC"
   ]
  },
  {
   "cell_type": "markdown",
   "metadata": {},
   "source": [
    "### 2.3.1. Simple SVC - no hyper parameters tuned\n",
    "\n",
    "Let's create SVC model with default parameters and fit all training data."
   ]
  },
  {
   "cell_type": "code",
   "execution_count": 12,
   "metadata": {},
   "outputs": [
    {
     "data": {
      "text/html": [
       "<style>#sk-container-id-1 {color: black;background-color: white;}#sk-container-id-1 pre{padding: 0;}#sk-container-id-1 div.sk-toggleable {background-color: white;}#sk-container-id-1 label.sk-toggleable__label {cursor: pointer;display: block;width: 100%;margin-bottom: 0;padding: 0.3em;box-sizing: border-box;text-align: center;}#sk-container-id-1 label.sk-toggleable__label-arrow:before {content: \"▸\";float: left;margin-right: 0.25em;color: #696969;}#sk-container-id-1 label.sk-toggleable__label-arrow:hover:before {color: black;}#sk-container-id-1 div.sk-estimator:hover label.sk-toggleable__label-arrow:before {color: black;}#sk-container-id-1 div.sk-toggleable__content {max-height: 0;max-width: 0;overflow: hidden;text-align: left;background-color: #f0f8ff;}#sk-container-id-1 div.sk-toggleable__content pre {margin: 0.2em;color: black;border-radius: 0.25em;background-color: #f0f8ff;}#sk-container-id-1 input.sk-toggleable__control:checked~div.sk-toggleable__content {max-height: 200px;max-width: 100%;overflow: auto;}#sk-container-id-1 input.sk-toggleable__control:checked~label.sk-toggleable__label-arrow:before {content: \"▾\";}#sk-container-id-1 div.sk-estimator input.sk-toggleable__control:checked~label.sk-toggleable__label {background-color: #d4ebff;}#sk-container-id-1 div.sk-label input.sk-toggleable__control:checked~label.sk-toggleable__label {background-color: #d4ebff;}#sk-container-id-1 input.sk-hidden--visually {border: 0;clip: rect(1px 1px 1px 1px);clip: rect(1px, 1px, 1px, 1px);height: 1px;margin: -1px;overflow: hidden;padding: 0;position: absolute;width: 1px;}#sk-container-id-1 div.sk-estimator {font-family: monospace;background-color: #f0f8ff;border: 1px dotted black;border-radius: 0.25em;box-sizing: border-box;margin-bottom: 0.5em;}#sk-container-id-1 div.sk-estimator:hover {background-color: #d4ebff;}#sk-container-id-1 div.sk-parallel-item::after {content: \"\";width: 100%;border-bottom: 1px solid gray;flex-grow: 1;}#sk-container-id-1 div.sk-label:hover label.sk-toggleable__label {background-color: #d4ebff;}#sk-container-id-1 div.sk-serial::before {content: \"\";position: absolute;border-left: 1px solid gray;box-sizing: border-box;top: 0;bottom: 0;left: 50%;z-index: 0;}#sk-container-id-1 div.sk-serial {display: flex;flex-direction: column;align-items: center;background-color: white;padding-right: 0.2em;padding-left: 0.2em;position: relative;}#sk-container-id-1 div.sk-item {position: relative;z-index: 1;}#sk-container-id-1 div.sk-parallel {display: flex;align-items: stretch;justify-content: center;background-color: white;position: relative;}#sk-container-id-1 div.sk-item::before, #sk-container-id-1 div.sk-parallel-item::before {content: \"\";position: absolute;border-left: 1px solid gray;box-sizing: border-box;top: 0;bottom: 0;left: 50%;z-index: -1;}#sk-container-id-1 div.sk-parallel-item {display: flex;flex-direction: column;z-index: 1;position: relative;background-color: white;}#sk-container-id-1 div.sk-parallel-item:first-child::after {align-self: flex-end;width: 50%;}#sk-container-id-1 div.sk-parallel-item:last-child::after {align-self: flex-start;width: 50%;}#sk-container-id-1 div.sk-parallel-item:only-child::after {width: 0;}#sk-container-id-1 div.sk-dashed-wrapped {border: 1px dashed gray;margin: 0 0.4em 0.5em 0.4em;box-sizing: border-box;padding-bottom: 0.4em;background-color: white;}#sk-container-id-1 div.sk-label label {font-family: monospace;font-weight: bold;display: inline-block;line-height: 1.2em;}#sk-container-id-1 div.sk-label-container {text-align: center;}#sk-container-id-1 div.sk-container {/* jupyter's `normalize.less` sets `[hidden] { display: none; }` but bootstrap.min.css set `[hidden] { display: none !important; }` so we also need the `!important` here to be able to override the default hidden behavior on the sphinx rendered scikit-learn.org. See: https://github.com/scikit-learn/scikit-learn/issues/21755 */display: inline-block !important;position: relative;}#sk-container-id-1 div.sk-text-repr-fallback {display: none;}</style><div id=\"sk-container-id-1\" class=\"sk-top-container\"><div class=\"sk-text-repr-fallback\"><pre>Pipeline(steps=[(&#x27;preprocessor&#x27;,\n",
       "                 ColumnTransformer(remainder=&#x27;passthrough&#x27;,\n",
       "                                   transformers=[(&#x27;numerical&#x27;,\n",
       "                                                  Pipeline(steps=[(&#x27;scaler&#x27;,\n",
       "                                                                   StandardScaler())]),\n",
       "                                                  [&#x27;age&#x27;, &#x27;annual_income&#x27;,\n",
       "                                                   &#x27;family_members&#x27;,\n",
       "                                                   &#x27;annual_income_per_person&#x27;])])),\n",
       "                (&#x27;classifier&#x27;, SVC())])</pre><b>In a Jupyter environment, please rerun this cell to show the HTML representation or trust the notebook. <br />On GitHub, the HTML representation is unable to render, please try loading this page with nbviewer.org.</b></div><div class=\"sk-container\" hidden><div class=\"sk-item sk-dashed-wrapped\"><div class=\"sk-label-container\"><div class=\"sk-label sk-toggleable\"><input class=\"sk-toggleable__control sk-hidden--visually\" id=\"sk-estimator-id-1\" type=\"checkbox\" ><label for=\"sk-estimator-id-1\" class=\"sk-toggleable__label sk-toggleable__label-arrow\">Pipeline</label><div class=\"sk-toggleable__content\"><pre>Pipeline(steps=[(&#x27;preprocessor&#x27;,\n",
       "                 ColumnTransformer(remainder=&#x27;passthrough&#x27;,\n",
       "                                   transformers=[(&#x27;numerical&#x27;,\n",
       "                                                  Pipeline(steps=[(&#x27;scaler&#x27;,\n",
       "                                                                   StandardScaler())]),\n",
       "                                                  [&#x27;age&#x27;, &#x27;annual_income&#x27;,\n",
       "                                                   &#x27;family_members&#x27;,\n",
       "                                                   &#x27;annual_income_per_person&#x27;])])),\n",
       "                (&#x27;classifier&#x27;, SVC())])</pre></div></div></div><div class=\"sk-serial\"><div class=\"sk-item sk-dashed-wrapped\"><div class=\"sk-label-container\"><div class=\"sk-label sk-toggleable\"><input class=\"sk-toggleable__control sk-hidden--visually\" id=\"sk-estimator-id-2\" type=\"checkbox\" ><label for=\"sk-estimator-id-2\" class=\"sk-toggleable__label sk-toggleable__label-arrow\">preprocessor: ColumnTransformer</label><div class=\"sk-toggleable__content\"><pre>ColumnTransformer(remainder=&#x27;passthrough&#x27;,\n",
       "                  transformers=[(&#x27;numerical&#x27;,\n",
       "                                 Pipeline(steps=[(&#x27;scaler&#x27;, StandardScaler())]),\n",
       "                                 [&#x27;age&#x27;, &#x27;annual_income&#x27;, &#x27;family_members&#x27;,\n",
       "                                  &#x27;annual_income_per_person&#x27;])])</pre></div></div></div><div class=\"sk-parallel\"><div class=\"sk-parallel-item\"><div class=\"sk-item\"><div class=\"sk-label-container\"><div class=\"sk-label sk-toggleable\"><input class=\"sk-toggleable__control sk-hidden--visually\" id=\"sk-estimator-id-3\" type=\"checkbox\" ><label for=\"sk-estimator-id-3\" class=\"sk-toggleable__label sk-toggleable__label-arrow\">numerical</label><div class=\"sk-toggleable__content\"><pre>[&#x27;age&#x27;, &#x27;annual_income&#x27;, &#x27;family_members&#x27;, &#x27;annual_income_per_person&#x27;]</pre></div></div></div><div class=\"sk-serial\"><div class=\"sk-item\"><div class=\"sk-serial\"><div class=\"sk-item\"><div class=\"sk-estimator sk-toggleable\"><input class=\"sk-toggleable__control sk-hidden--visually\" id=\"sk-estimator-id-4\" type=\"checkbox\" ><label for=\"sk-estimator-id-4\" class=\"sk-toggleable__label sk-toggleable__label-arrow\">StandardScaler</label><div class=\"sk-toggleable__content\"><pre>StandardScaler()</pre></div></div></div></div></div></div></div></div><div class=\"sk-parallel-item\"><div class=\"sk-item\"><div class=\"sk-label-container\"><div class=\"sk-label sk-toggleable\"><input class=\"sk-toggleable__control sk-hidden--visually\" id=\"sk-estimator-id-5\" type=\"checkbox\" ><label for=\"sk-estimator-id-5\" class=\"sk-toggleable__label sk-toggleable__label-arrow\">remainder</label><div class=\"sk-toggleable__content\"><pre>[&#x27;employment_type&#x27;, &#x27;graduate_or_not&#x27;, &#x27;chronic_diseases&#x27;, &#x27;frequent_flyer&#x27;, &#x27;ever_travelled_abroad&#x27;, &#x27;traveller&#x27;]</pre></div></div></div><div class=\"sk-serial\"><div class=\"sk-item\"><div class=\"sk-estimator sk-toggleable\"><input class=\"sk-toggleable__control sk-hidden--visually\" id=\"sk-estimator-id-6\" type=\"checkbox\" ><label for=\"sk-estimator-id-6\" class=\"sk-toggleable__label sk-toggleable__label-arrow\">passthrough</label><div class=\"sk-toggleable__content\"><pre>passthrough</pre></div></div></div></div></div></div></div></div><div class=\"sk-item\"><div class=\"sk-estimator sk-toggleable\"><input class=\"sk-toggleable__control sk-hidden--visually\" id=\"sk-estimator-id-7\" type=\"checkbox\" ><label for=\"sk-estimator-id-7\" class=\"sk-toggleable__label sk-toggleable__label-arrow\">SVC</label><div class=\"sk-toggleable__content\"><pre>SVC()</pre></div></div></div></div></div></div></div>"
      ],
      "text/plain": [
       "Pipeline(steps=[('preprocessor',\n",
       "                 ColumnTransformer(remainder='passthrough',\n",
       "                                   transformers=[('numerical',\n",
       "                                                  Pipeline(steps=[('scaler',\n",
       "                                                                   StandardScaler())]),\n",
       "                                                  ['age', 'annual_income',\n",
       "                                                   'family_members',\n",
       "                                                   'annual_income_per_person'])])),\n",
       "                ('classifier', SVC())])"
      ]
     },
     "execution_count": 12,
     "metadata": {},
     "output_type": "execute_result"
    }
   ],
   "source": [
    "pipe_sv = Pipeline(steps=[('preprocessor', preprocessor), ('classifier',SVC())])\n",
    "\n",
    "pipe_sv.fit(X_train, y_train)"
   ]
  },
  {
   "cell_type": "code",
   "execution_count": 13,
   "metadata": {},
   "outputs": [],
   "source": [
    "y_hat_train_svc = pipe_sv.predict(X_train)\n",
    "y_hat_val_svc = pipe_sv.predict(X_val)"
   ]
  },
  {
   "cell_type": "markdown",
   "metadata": {},
   "source": [
    "* Evaluating Model Performance"
   ]
  },
  {
   "cell_type": "code",
   "execution_count": 14,
   "metadata": {},
   "outputs": [
    {
     "data": {
      "image/png": "[encoded data removed]",
      "text/plain": [
       "<Figure size 432x288 with 2 Axes>"
      ]
     },
     "metadata": {
      "needs_background": "light"
     },
     "output_type": "display_data"
    },
    {
     "name": "stdout",
     "output_type": "stream",
     "text": [
      "              precision    recall  f1-score   support\n",
      "\n",
      "           0       0.80      0.96      0.87      1010\n",
      "           1       0.88      0.58      0.70       579\n",
      "\n",
      "    accuracy                           0.82      1589\n",
      "   macro avg       0.84      0.77      0.79      1589\n",
      "weighted avg       0.83      0.82      0.81      1589\n",
      "\n",
      "\n"
     ]
    }
   ],
   "source": [
    "mf.plot_classifier_scores(pipe_sv, X_train, y_train, y_hat_train_svc)"
   ]
  },
  {
   "cell_type": "code",
   "execution_count": 15,
   "metadata": {},
   "outputs": [
    {
     "data": {
      "image/png": "[encoded data removed]",
      "text/plain": [
       "<Figure size 432x288 with 2 Axes>"
      ]
     },
     "metadata": {
      "needs_background": "light"
     },
     "output_type": "display_data"
    },
    {
     "name": "stdout",
     "output_type": "stream",
     "text": [
      "              precision    recall  f1-score   support\n",
      "\n",
      "           0       0.83      0.94      0.88       136\n",
      "           1       0.82      0.57      0.67        63\n",
      "\n",
      "    accuracy                           0.82       199\n",
      "   macro avg       0.82      0.76      0.78       199\n",
      "weighted avg       0.82      0.82      0.81       199\n",
      "\n",
      "\n"
     ]
    }
   ],
   "source": [
    "mf.plot_classifier_scores(pipe_sv, X_val, y_val, y_hat_val_svc)"
   ]
  },
  {
   "cell_type": "markdown",
   "metadata": {},
   "source": [
    "* Recall of and f1 score of label '1' does not satisfy me. As I'm interested in better guessing of people who are interested in insurance, than those who are not. So further steps would be to tune the model hyper parameters, maybe use only balanced data (equal number of '0' and '1'), select only some features for prediction."
   ]
  },
  {
   "cell_type": "markdown",
   "metadata": {},
   "source": [
    "### 2.3.2. Hyper parameter tuning SVC with RandomizedSearchCv."
   ]
  },
  {
   "cell_type": "code",
   "execution_count": 16,
   "metadata": {},
   "outputs": [
    {
     "name": "stdout",
     "output_type": "stream",
     "text": [
      "Best params:\n",
      "{'classifier': SVC(C=1.0871332741421738, gamma=1), 'classifier__C': 1.0871332741421738, 'classifier__class_weight': None, 'classifier__gamma': 1, 'classifier__kernel': 'rbf'}\n",
      "Best f1 score in randomized search:\n",
      "0.6828146370191674\n"
     ]
    }
   ],
   "source": [
    "mf.SVC_randomized_search(X_train, y_train, pipe_sv)"
   ]
  },
  {
   "cell_type": "markdown",
   "metadata": {},
   "source": [
    "* Lets' fit training data."
   ]
  },
  {
   "cell_type": "code",
   "execution_count": 17,
   "metadata": {},
   "outputs": [],
   "source": [
    "pipe_sv_tuned = Pipeline(steps=[('preprocessor', preprocessor), ('classifier', SVC(C=1.0871332741421738, gamma=1))])\n",
    "\n",
    "pipe_sv_tuned.fit(X_train, y_train)\n",
    "y_hat_train_SVC = pipe_sv_tuned.predict(X_train)"
   ]
  },
  {
   "cell_type": "code",
   "execution_count": 18,
   "metadata": {},
   "outputs": [
    {
     "data": {
      "image/png": "[encoded data removed]",
      "text/plain": [
       "<Figure size 432x288 with 2 Axes>"
      ]
     },
     "metadata": {
      "needs_background": "light"
     },
     "output_type": "display_data"
    },
    {
     "name": "stdout",
     "output_type": "stream",
     "text": [
      "              precision    recall  f1-score   support\n",
      "\n",
      "           0       0.80      0.96      0.87      1010\n",
      "           1       0.88      0.58      0.70       579\n",
      "\n",
      "    accuracy                           0.82      1589\n",
      "   macro avg       0.84      0.77      0.79      1589\n",
      "weighted avg       0.83      0.82      0.81      1589\n",
      "\n",
      "\n"
     ]
    }
   ],
   "source": [
    "mf.plot_classifier_scores(pipe_sv_tuned, X_train, y_train, y_hat_train_svc)"
   ]
  },
  {
   "cell_type": "code",
   "execution_count": 19,
   "metadata": {},
   "outputs": [],
   "source": [
    "y_hat_val_SVC = pipe_sv_tuned.predict(X_val)"
   ]
  },
  {
   "cell_type": "code",
   "execution_count": 20,
   "metadata": {},
   "outputs": [
    {
     "data": {
      "image/png": "[encoded data removed]",
      "text/plain": [
       "<Figure size 432x288 with 2 Axes>"
      ]
     },
     "metadata": {
      "needs_background": "light"
     },
     "output_type": "display_data"
    },
    {
     "name": "stdout",
     "output_type": "stream",
     "text": [
      "              precision    recall  f1-score   support\n",
      "\n",
      "           0       0.83      0.94      0.88       136\n",
      "           1       0.82      0.57      0.67        63\n",
      "\n",
      "    accuracy                           0.82       199\n",
      "   macro avg       0.82      0.76      0.78       199\n",
      "weighted avg       0.82      0.82      0.81       199\n",
      "\n",
      "\n"
     ]
    }
   ],
   "source": [
    "mf.plot_classifier_scores(pipe_sv_tuned, X_val, y_val, y_hat_val_svc)"
   ]
  },
  {
   "cell_type": "markdown",
   "metadata": {},
   "source": [
    "There is not much of improvement. Of the class '1' the recall is still 0.57, f1 score - 0.67."
   ]
  },
  {
   "cell_type": "markdown",
   "metadata": {},
   "source": [
    "### 2.3.3. SVC without duplicated values"
   ]
  },
  {
   "cell_type": "markdown",
   "metadata": {},
   "source": [
    "From the EDA part we saw, that there are quite a lot duplicated values, which also can cause worse performance of the model. So let's try to train model without duplicated values."
   ]
  },
  {
   "cell_type": "code",
   "execution_count": 108,
   "metadata": {},
   "outputs": [
    {
     "name": "stdout",
     "output_type": "stream",
     "text": [
      "(952, 10)\n",
      "(952,)\n"
     ]
    }
   ],
   "source": [
    "X_train_no_dupl = X_train.copy()\n",
    "X_train_no_dupl.drop_duplicates(inplace = True)\n",
    "\n",
    "# Set y-train to only include entries which correspond with X_train_no_dupl.\n",
    "y_train_no_dupl = y_train.loc[X_train_no_dupl.index]\n",
    "\n",
    "print(X_train_no_dupl.shape)\n",
    "print(y_train_no_dupl.shape)"
   ]
  },
  {
   "cell_type": "code",
   "execution_count": 109,
   "metadata": {},
   "outputs": [],
   "source": [
    "pipe_sv_tuned_no_dupl = Pipeline(steps=[('preprocessor', preprocessor), ('classifier', SVC(C=1.0871332741421738, gamma=1))])\n",
    "\n",
    "pipe_sv_tuned_no_dupl.fit(X_train_no_dupl, y_train_no_dupl)\n",
    "y_hat_train_no_dupl = pipe_sv_tuned_no_dupl.predict(X_train_no_dupl)"
   ]
  },
  {
   "cell_type": "code",
   "execution_count": 110,
   "metadata": {},
   "outputs": [
    {
     "data": {
      "image/png": "[encoded data removed]",
      "text/plain": [
       "<Figure size 432x288 with 2 Axes>"
      ]
     },
     "metadata": {
      "needs_background": "light"
     },
     "output_type": "display_data"
    },
    {
     "name": "stdout",
     "output_type": "stream",
     "text": [
      "              precision    recall  f1-score   support\n",
      "\n",
      "           0       0.84      0.97      0.90       609\n",
      "           1       0.93      0.66      0.78       343\n",
      "\n",
      "    accuracy                           0.86       952\n",
      "   macro avg       0.88      0.82      0.84       952\n",
      "weighted avg       0.87      0.86      0.85       952\n",
      "\n",
      "\n"
     ]
    }
   ],
   "source": [
    "mf.plot_classifier_scores(pipe_sv_tuned_no_dupl, X_train_no_dupl, y_train_no_dupl, y_hat_train_no_dupl)"
   ]
  },
  {
   "cell_type": "markdown",
   "metadata": {},
   "source": [
    "On training data this model predicts better. Let's see on validation data."
   ]
  },
  {
   "cell_type": "code",
   "execution_count": 24,
   "metadata": {},
   "outputs": [],
   "source": [
    "y_hat_val_no_dupl = pipe_sv_tuned_no_dupl.predict(X_val)"
   ]
  },
  {
   "cell_type": "code",
   "execution_count": 25,
   "metadata": {},
   "outputs": [
    {
     "data": {
      "image/png": "[encoded data removed]",
      "text/plain": [
       "<Figure size 432x288 with 2 Axes>"
      ]
     },
     "metadata": {
      "needs_background": "light"
     },
     "output_type": "display_data"
    },
    {
     "name": "stdout",
     "output_type": "stream",
     "text": [
      "              precision    recall  f1-score   support\n",
      "\n",
      "           0       0.84      0.94      0.89       136\n",
      "           1       0.83      0.60      0.70        63\n",
      "\n",
      "    accuracy                           0.83       199\n",
      "   macro avg       0.83      0.77      0.79       199\n",
      "weighted avg       0.83      0.83      0.83       199\n",
      "\n",
      "\n"
     ]
    }
   ],
   "source": [
    "mf.plot_classifier_scores(pipe_sv_tuned_no_dupl, X_val, y_val, y_hat_val_no_dupl)"
   ]
  },
  {
   "cell_type": "markdown",
   "metadata": {},
   "source": [
    "Wohooo, it actually did a little bit better on new data, of the class '1' recall is even 0.6, f1 score - 0.7. Let's try to improve a little bit more."
   ]
  },
  {
   "cell_type": "markdown",
   "metadata": {},
   "source": [
    "### 2.3.4. SVC with under sampled data set, no duplicates"
   ]
  },
  {
   "cell_type": "code",
   "execution_count": 111,
   "metadata": {},
   "outputs": [
    {
     "name": "stdout",
     "output_type": "stream",
     "text": [
      "Counter({0: 343, 1: 343})\n"
     ]
    }
   ],
   "source": [
    "undersample1 = RandomUnderSampler(sampling_strategy='majority')\n",
    "X_train_no_dupl_under, y_train_no_dupl_under = undersample1.fit_resample(X_train_no_dupl, y_train_no_dupl)\n",
    "print(Counter(y_train_no_dupl_under))"
   ]
  },
  {
   "cell_type": "markdown",
   "metadata": {},
   "source": [
    "I got a very very small data set for training, but let's see what happens."
   ]
  },
  {
   "cell_type": "code",
   "execution_count": 112,
   "metadata": {},
   "outputs": [
    {
     "data": {
      "text/html": [
       "<style>#sk-container-id-8 {color: black;background-color: white;}#sk-container-id-8 pre{padding: 0;}#sk-container-id-8 div.sk-toggleable {background-color: white;}#sk-container-id-8 label.sk-toggleable__label {cursor: pointer;display: block;width: 100%;margin-bottom: 0;padding: 0.3em;box-sizing: border-box;text-align: center;}#sk-container-id-8 label.sk-toggleable__label-arrow:before {content: \"▸\";float: left;margin-right: 0.25em;color: #696969;}#sk-container-id-8 label.sk-toggleable__label-arrow:hover:before {color: black;}#sk-container-id-8 div.sk-estimator:hover label.sk-toggleable__label-arrow:before {color: black;}#sk-container-id-8 div.sk-toggleable__content {max-height: 0;max-width: 0;overflow: hidden;text-align: left;background-color: #f0f8ff;}#sk-container-id-8 div.sk-toggleable__content pre {margin: 0.2em;color: black;border-radius: 0.25em;background-color: #f0f8ff;}#sk-container-id-8 input.sk-toggleable__control:checked~div.sk-toggleable__content {max-height: 200px;max-width: 100%;overflow: auto;}#sk-container-id-8 input.sk-toggleable__control:checked~label.sk-toggleable__label-arrow:before {content: \"▾\";}#sk-container-id-8 div.sk-estimator input.sk-toggleable__control:checked~label.sk-toggleable__label {background-color: #d4ebff;}#sk-container-id-8 div.sk-label input.sk-toggleable__control:checked~label.sk-toggleable__label {background-color: #d4ebff;}#sk-container-id-8 input.sk-hidden--visually {border: 0;clip: rect(1px 1px 1px 1px);clip: rect(1px, 1px, 1px, 1px);height: 1px;margin: -1px;overflow: hidden;padding: 0;position: absolute;width: 1px;}#sk-container-id-8 div.sk-estimator {font-family: monospace;background-color: #f0f8ff;border: 1px dotted black;border-radius: 0.25em;box-sizing: border-box;margin-bottom: 0.5em;}#sk-container-id-8 div.sk-estimator:hover {background-color: #d4ebff;}#sk-container-id-8 div.sk-parallel-item::after {content: \"\";width: 100%;border-bottom: 1px solid gray;flex-grow: 1;}#sk-container-id-8 div.sk-label:hover label.sk-toggleable__label {background-color: #d4ebff;}#sk-container-id-8 div.sk-serial::before {content: \"\";position: absolute;border-left: 1px solid gray;box-sizing: border-box;top: 0;bottom: 0;left: 50%;z-index: 0;}#sk-container-id-8 div.sk-serial {display: flex;flex-direction: column;align-items: center;background-color: white;padding-right: 0.2em;padding-left: 0.2em;position: relative;}#sk-container-id-8 div.sk-item {position: relative;z-index: 1;}#sk-container-id-8 div.sk-parallel {display: flex;align-items: stretch;justify-content: center;background-color: white;position: relative;}#sk-container-id-8 div.sk-item::before, #sk-container-id-8 div.sk-parallel-item::before {content: \"\";position: absolute;border-left: 1px solid gray;box-sizing: border-box;top: 0;bottom: 0;left: 50%;z-index: -1;}#sk-container-id-8 div.sk-parallel-item {display: flex;flex-direction: column;z-index: 1;position: relative;background-color: white;}#sk-container-id-8 div.sk-parallel-item:first-child::after {align-self: flex-end;width: 50%;}#sk-container-id-8 div.sk-parallel-item:last-child::after {align-self: flex-start;width: 50%;}#sk-container-id-8 div.sk-parallel-item:only-child::after {width: 0;}#sk-container-id-8 div.sk-dashed-wrapped {border: 1px dashed gray;margin: 0 0.4em 0.5em 0.4em;box-sizing: border-box;padding-bottom: 0.4em;background-color: white;}#sk-container-id-8 div.sk-label label {font-family: monospace;font-weight: bold;display: inline-block;line-height: 1.2em;}#sk-container-id-8 div.sk-label-container {text-align: center;}#sk-container-id-8 div.sk-container {/* jupyter's `normalize.less` sets `[hidden] { display: none; }` but bootstrap.min.css set `[hidden] { display: none !important; }` so we also need the `!important` here to be able to override the default hidden behavior on the sphinx rendered scikit-learn.org. See: https://github.com/scikit-learn/scikit-learn/issues/21755 */display: inline-block !important;position: relative;}#sk-container-id-8 div.sk-text-repr-fallback {display: none;}</style><div id=\"sk-container-id-8\" class=\"sk-top-container\"><div class=\"sk-text-repr-fallback\"><pre>Pipeline(steps=[(&#x27;preprocessor&#x27;,\n",
       "                 ColumnTransformer(remainder=&#x27;passthrough&#x27;,\n",
       "                                   transformers=[(&#x27;numerical&#x27;,\n",
       "                                                  Pipeline(steps=[(&#x27;scaler&#x27;,\n",
       "                                                                   StandardScaler())]),\n",
       "                                                  [&#x27;age&#x27;, &#x27;annual_income&#x27;,\n",
       "                                                   &#x27;family_members&#x27;,\n",
       "                                                   &#x27;annual_income_per_person&#x27;])])),\n",
       "                (&#x27;classifier&#x27;, SVC(C=1.0871332741421738, gamma=1))])</pre><b>In a Jupyter environment, please rerun this cell to show the HTML representation or trust the notebook. <br />On GitHub, the HTML representation is unable to render, please try loading this page with nbviewer.org.</b></div><div class=\"sk-container\" hidden><div class=\"sk-item sk-dashed-wrapped\"><div class=\"sk-label-container\"><div class=\"sk-label sk-toggleable\"><input class=\"sk-toggleable__control sk-hidden--visually\" id=\"sk-estimator-id-32\" type=\"checkbox\" ><label for=\"sk-estimator-id-32\" class=\"sk-toggleable__label sk-toggleable__label-arrow\">Pipeline</label><div class=\"sk-toggleable__content\"><pre>Pipeline(steps=[(&#x27;preprocessor&#x27;,\n",
       "                 ColumnTransformer(remainder=&#x27;passthrough&#x27;,\n",
       "                                   transformers=[(&#x27;numerical&#x27;,\n",
       "                                                  Pipeline(steps=[(&#x27;scaler&#x27;,\n",
       "                                                                   StandardScaler())]),\n",
       "                                                  [&#x27;age&#x27;, &#x27;annual_income&#x27;,\n",
       "                                                   &#x27;family_members&#x27;,\n",
       "                                                   &#x27;annual_income_per_person&#x27;])])),\n",
       "                (&#x27;classifier&#x27;, SVC(C=1.0871332741421738, gamma=1))])</pre></div></div></div><div class=\"sk-serial\"><div class=\"sk-item sk-dashed-wrapped\"><div class=\"sk-label-container\"><div class=\"sk-label sk-toggleable\"><input class=\"sk-toggleable__control sk-hidden--visually\" id=\"sk-estimator-id-33\" type=\"checkbox\" ><label for=\"sk-estimator-id-33\" class=\"sk-toggleable__label sk-toggleable__label-arrow\">preprocessor: ColumnTransformer</label><div class=\"sk-toggleable__content\"><pre>ColumnTransformer(remainder=&#x27;passthrough&#x27;,\n",
       "                  transformers=[(&#x27;numerical&#x27;,\n",
       "                                 Pipeline(steps=[(&#x27;scaler&#x27;, StandardScaler())]),\n",
       "                                 [&#x27;age&#x27;, &#x27;annual_income&#x27;, &#x27;family_members&#x27;,\n",
       "                                  &#x27;annual_income_per_person&#x27;])])</pre></div></div></div><div class=\"sk-parallel\"><div class=\"sk-parallel-item\"><div class=\"sk-item\"><div class=\"sk-label-container\"><div class=\"sk-label sk-toggleable\"><input class=\"sk-toggleable__control sk-hidden--visually\" id=\"sk-estimator-id-34\" type=\"checkbox\" ><label for=\"sk-estimator-id-34\" class=\"sk-toggleable__label sk-toggleable__label-arrow\">numerical</label><div class=\"sk-toggleable__content\"><pre>[&#x27;age&#x27;, &#x27;annual_income&#x27;, &#x27;family_members&#x27;, &#x27;annual_income_per_person&#x27;]</pre></div></div></div><div class=\"sk-serial\"><div class=\"sk-item\"><div class=\"sk-serial\"><div class=\"sk-item\"><div class=\"sk-estimator sk-toggleable\"><input class=\"sk-toggleable__control sk-hidden--visually\" id=\"sk-estimator-id-35\" type=\"checkbox\" ><label for=\"sk-estimator-id-35\" class=\"sk-toggleable__label sk-toggleable__label-arrow\">StandardScaler</label><div class=\"sk-toggleable__content\"><pre>StandardScaler()</pre></div></div></div></div></div></div></div></div><div class=\"sk-parallel-item\"><div class=\"sk-item\"><div class=\"sk-label-container\"><div class=\"sk-label sk-toggleable\"><input class=\"sk-toggleable__control sk-hidden--visually\" id=\"sk-estimator-id-36\" type=\"checkbox\" ><label for=\"sk-estimator-id-36\" class=\"sk-toggleable__label sk-toggleable__label-arrow\">remainder</label><div class=\"sk-toggleable__content\"><pre>[&#x27;employment_type&#x27;, &#x27;graduate_or_not&#x27;, &#x27;chronic_diseases&#x27;, &#x27;frequent_flyer&#x27;, &#x27;ever_travelled_abroad&#x27;, &#x27;traveller&#x27;]</pre></div></div></div><div class=\"sk-serial\"><div class=\"sk-item\"><div class=\"sk-estimator sk-toggleable\"><input class=\"sk-toggleable__control sk-hidden--visually\" id=\"sk-estimator-id-37\" type=\"checkbox\" ><label for=\"sk-estimator-id-37\" class=\"sk-toggleable__label sk-toggleable__label-arrow\">passthrough</label><div class=\"sk-toggleable__content\"><pre>passthrough</pre></div></div></div></div></div></div></div></div><div class=\"sk-item\"><div class=\"sk-estimator sk-toggleable\"><input class=\"sk-toggleable__control sk-hidden--visually\" id=\"sk-estimator-id-38\" type=\"checkbox\" ><label for=\"sk-estimator-id-38\" class=\"sk-toggleable__label sk-toggleable__label-arrow\">SVC</label><div class=\"sk-toggleable__content\"><pre>SVC(C=1.0871332741421738, gamma=1)</pre></div></div></div></div></div></div></div>"
      ],
      "text/plain": [
       "Pipeline(steps=[('preprocessor',\n",
       "                 ColumnTransformer(remainder='passthrough',\n",
       "                                   transformers=[('numerical',\n",
       "                                                  Pipeline(steps=[('scaler',\n",
       "                                                                   StandardScaler())]),\n",
       "                                                  ['age', 'annual_income',\n",
       "                                                   'family_members',\n",
       "                                                   'annual_income_per_person'])])),\n",
       "                ('classifier', SVC(C=1.0871332741421738, gamma=1))])"
      ]
     },
     "execution_count": 112,
     "metadata": {},
     "output_type": "execute_result"
    }
   ],
   "source": [
    "pipe_sv_tuned_no_dupl_under = Pipeline(steps=[('preprocessor', preprocessor), ('classifier', SVC(C=1.0871332741421738, gamma=1))])\n",
    "\n",
    "pipe_sv_tuned_no_dupl_under.fit(X_train_no_dupl_under, y_train_no_dupl_under)"
   ]
  },
  {
   "cell_type": "code",
   "execution_count": 113,
   "metadata": {},
   "outputs": [],
   "source": [
    "y_hat_val_no_dupl_under = pipe_sv_tuned_no_dupl_under.predict(X_val)"
   ]
  },
  {
   "cell_type": "code",
   "execution_count": 114,
   "metadata": {},
   "outputs": [
    {
     "data": {
      "image/png": "[encoded data removed]",
      "text/plain": [
       "<Figure size 432x288 with 2 Axes>"
      ]
     },
     "metadata": {
      "needs_background": "light"
     },
     "output_type": "display_data"
    },
    {
     "name": "stdout",
     "output_type": "stream",
     "text": [
      "              precision    recall  f1-score   support\n",
      "\n",
      "           0       0.83      0.81      0.82       136\n",
      "           1       0.61      0.65      0.63        63\n",
      "\n",
      "    accuracy                           0.76       199\n",
      "   macro avg       0.72      0.73      0.73       199\n",
      "weighted avg       0.76      0.76      0.76       199\n",
      "\n",
      "\n"
     ]
    }
   ],
   "source": [
    "mf.plot_classifier_scores(pipe_sv_tuned_no_dupl_under, X_val, y_val, y_hat_val_no_dupl_under)"
   ]
  },
  {
   "cell_type": "markdown",
   "metadata": {},
   "source": [
    "It's better, but not enough, I think the data set without duplicates and undersampled is just too small for good training of this model."
   ]
  },
  {
   "cell_type": "markdown",
   "metadata": {},
   "source": [
    "### 2.3.5. SVC with less features"
   ]
  },
  {
   "cell_type": "markdown",
   "metadata": {},
   "source": [
    "In SVC I'm using kernel = 'rbf', I'll try to find best features for SVC with sklearn.inspection.permutation_importance and later put only the most important ones into the last model of SVC with no duplicates.\n",
    "The permutation feature importance is defined to be the decrease in a model score when a single feature value is randomly shuffled. This procedure breaks the relationship between the feature and the target, thus the drop in the model score is indicative of how much the model depends on the feature. This technique benefits from being model agnostic and can be calculated many times with different permutations of the feature, [more info here](https://scikit-learn.org/stable/modules/permutation_importance.html)."
   ]
  },
  {
   "cell_type": "code",
   "execution_count": 115,
   "metadata": {},
   "outputs": [
    {
     "data": {
      "text/plain": [
       "Text(0.5, 0, 'Permutation Importance')"
      ]
     },
     "execution_count": 115,
     "metadata": {},
     "output_type": "execute_result"
    },
    {
     "data": {
      "image/png": "[encoded data removed]",
      "text/plain": [
       "<Figure size 432x288 with 1 Axes>"
      ]
     },
     "metadata": {
      "needs_background": "light"
     },
     "output_type": "display_data"
    }
   ],
   "source": [
    "perm_importance = permutation_importance(\n",
    "    pipe_sv_tuned_no_dupl, X_val, y_val, n_repeats=30, random_state=123\n",
    ")\n",
    "\n",
    "feature_names = X_train_no_dupl.columns\n",
    "features = np.array(feature_names)\n",
    "\n",
    "sorted_idx = perm_importance.importances_mean.argsort()\n",
    "plt.barh(features[sorted_idx], perm_importance.importances_mean[sorted_idx])\n",
    "plt.xlabel('Permutation Importance')"
   ]
  },
  {
   "cell_type": "markdown",
   "metadata": {},
   "source": [
    "Let's leave 5 most important by permutation importance."
   ]
  },
  {
   "cell_type": "code",
   "execution_count": 89,
   "metadata": {},
   "outputs": [
    {
     "data": {
      "text/plain": [
       "Index(['age', 'annual_income', 'family_members', 'ever_travelled_abroad',\n",
       "       'annual_income_per_person'],\n",
       "      dtype='object')"
      ]
     },
     "execution_count": 89,
     "metadata": {},
     "output_type": "execute_result"
    }
   ],
   "source": [
    "X_train_perm_imp = X_train_no_dupl.copy()\n",
    "X_train_perm_imp = X_train_perm_imp.drop(\n",
    "    columns=[\n",
    "        \"employment_type\",\n",
    "        \"traveller\",\n",
    "        \"chronic_diseases\",\n",
    "        \"frequent_flyer\",\n",
    "        \"graduate_or_not\",\n",
    "    ],\n",
    "    axis=1,\n",
    ")\n",
    "X_train_perm_imp.columns"
   ]
  },
  {
   "cell_type": "code",
   "execution_count": 32,
   "metadata": {},
   "outputs": [
    {
     "data": {
      "text/plain": [
       "Index(['age', 'annual_income', 'family_members', 'ever_travelled_abroad',\n",
       "       'annual_income_per_person'],\n",
       "      dtype='object')"
      ]
     },
     "execution_count": 32,
     "metadata": {},
     "output_type": "execute_result"
    }
   ],
   "source": [
    "X_val_perm_imp = X_val.copy()\n",
    "X_val_perm_imp = X_val_perm_imp.drop(columns=['employment_type', 'traveller', 'chronic_diseases', 'frequent_flyer', 'graduate_or_not'], axis=1)\n",
    "X_val_perm_imp.columns"
   ]
  },
  {
   "cell_type": "code",
   "execution_count": 87,
   "metadata": {},
   "outputs": [],
   "source": [
    "pipe_sv_tuned_no_dupl_less = Pipeline(\n",
    "    steps=[\n",
    "        (\"preprocessor\", preprocessor),\n",
    "        (\"classifier\", SVC(C=1.0871332741421738, gamma=1)),\n",
    "    ]\n",
    ")\n",
    "\n",
    "pipe_sv_tuned_no_dupl_less.fit(X_train_perm_imp, y_train_no_dupl)\n",
    "y_hat_train_no_dupl_less = pipe_sv_tuned_no_dupl_less.predict(X_train_perm_imp)\n",
    "y_hat_val_no_dupl_less = pipe_sv_tuned_no_dupl_less.predict(X_val_perm_imp)"
   ]
  },
  {
   "cell_type": "code",
   "execution_count": 34,
   "metadata": {},
   "outputs": [
    {
     "data": {
      "image/png": "[encoded data removed]",
      "text/plain": [
       "<Figure size 432x288 with 2 Axes>"
      ]
     },
     "metadata": {
      "needs_background": "light"
     },
     "output_type": "display_data"
    },
    {
     "name": "stdout",
     "output_type": "stream",
     "text": [
      "              precision    recall  f1-score   support\n",
      "\n",
      "           0       0.83      0.93      0.88       136\n",
      "           1       0.80      0.59      0.68        63\n",
      "\n",
      "    accuracy                           0.82       199\n",
      "   macro avg       0.82      0.76      0.78       199\n",
      "weighted avg       0.82      0.82      0.82       199\n",
      "\n",
      "\n"
     ]
    }
   ],
   "source": [
    "mf.plot_classifier_scores(pipe_sv_tuned_no_dupl_less, X_val_perm_imp, y_val, y_hat_val_no_dupl_less)"
   ]
  },
  {
   "cell_type": "markdown",
   "metadata": {},
   "source": [
    "And actually it did not do better with less features. The best model is still SVC trained on data without duplicates."
   ]
  },
  {
   "cell_type": "markdown",
   "metadata": {},
   "source": [
    "## 2.4. K-nearest neighbors"
   ]
  },
  {
   "cell_type": "markdown",
   "metadata": {},
   "source": [
    "### 2.4.1. KNN with tuned hyper parameters"
   ]
  },
  {
   "cell_type": "markdown",
   "metadata": {},
   "source": [
    "In this part first of all I'll try to find best scaler for this data set, to see if dimensionality reduction (PCA) would help and the best hyper parameters for KNN."
   ]
  },
  {
   "cell_type": "code",
   "execution_count": null,
   "metadata": {},
   "outputs": [],
   "source": [
    "study = optuna.create_study(direction='maximize', study_name='SCALER_PCA_KNN') \n",
    "func = lambda trial: mf.KNN_objective(trial, X_train, y_train, numerical_features)\n",
    "study.optimize(func, n_trials=200)"
   ]
  },
  {
   "cell_type": "code",
   "execution_count": 36,
   "metadata": {},
   "outputs": [
    {
     "name": "stdout",
     "output_type": "stream",
     "text": [
      "\t\tscalers: standard\n",
      "\t\tdim_red: None\n",
      "\t\tknn_n_neighbors: 9\n",
      "\t\tknn_metric: manhattan\n",
      "\t\tknn_weights: distance\n",
      "\tBest value (f1): 0.66787\n"
     ]
    }
   ],
   "source": [
    "trial = study.best_trial\n",
    "scaler_pca_KNN = study.best_trial.params\n",
    "for key, value in scaler_pca_KNN.items():\n",
    "    print(f'\\t\\t{key}: {value}')\n",
    "\n",
    "print(f'\\tBest value (f1): {study.best_value:.5f}')\n"
   ]
  },
  {
   "cell_type": "markdown",
   "metadata": {},
   "source": [
    "As we see optuna suggests that scaler should be standard and no dimensionality reduction should be done. But the metric is suggested 'manhattan', 'weights' - distance. So I can train the KNN model on my set 'preprocessor' (with Standard scaler) and set only these KNN hyper parameters."
   ]
  },
  {
   "cell_type": "markdown",
   "metadata": {},
   "source": [
    "* Let's fit all the training data."
   ]
  },
  {
   "cell_type": "code",
   "execution_count": 85,
   "metadata": {},
   "outputs": [],
   "source": [
    "knn = KNeighborsClassifier(n_neighbors=9, metric='manhattan', weights='distance')\n",
    "\n",
    "pipe_knn = Pipeline(steps=[('preprocessor', preprocessor), ('classifier', knn)])\n",
    "\n",
    "pipe_knn.fit(X_train, y_train)\n",
    "y_hat_train_knn = pipe_knn.predict(X_train)\n",
    "y_hat_val_knn = pipe_knn.predict(X_val)"
   ]
  },
  {
   "cell_type": "markdown",
   "metadata": {},
   "source": [
    "* Let's see how it went with the training data."
   ]
  },
  {
   "cell_type": "code",
   "execution_count": 38,
   "metadata": {},
   "outputs": [
    {
     "data": {
      "image/png": "[encoded data removed]",
      "text/plain": [
       "<Figure size 432x288 with 2 Axes>"
      ]
     },
     "metadata": {
      "needs_background": "light"
     },
     "output_type": "display_data"
    },
    {
     "name": "stdout",
     "output_type": "stream",
     "text": [
      "              precision    recall  f1-score   support\n",
      "\n",
      "           0       0.90      0.98      0.94      1010\n",
      "           1       0.97      0.82      0.88       579\n",
      "\n",
      "    accuracy                           0.92      1589\n",
      "   macro avg       0.94      0.90      0.91      1589\n",
      "weighted avg       0.93      0.92      0.92      1589\n",
      "\n",
      "\n"
     ]
    }
   ],
   "source": [
    "mf.plot_classifier_scores(pipe_knn, X_train, y_train, y_hat_train_knn)"
   ]
  },
  {
   "cell_type": "markdown",
   "metadata": {},
   "source": [
    "It seems like over fitting the data."
   ]
  },
  {
   "cell_type": "markdown",
   "metadata": {},
   "source": [
    "* With validation data."
   ]
  },
  {
   "cell_type": "code",
   "execution_count": 39,
   "metadata": {},
   "outputs": [
    {
     "data": {
      "image/png": "[encoded data removed]",
      "text/plain": [
       "<Figure size 432x288 with 2 Axes>"
      ]
     },
     "metadata": {
      "needs_background": "light"
     },
     "output_type": "display_data"
    },
    {
     "name": "stdout",
     "output_type": "stream",
     "text": [
      "              precision    recall  f1-score   support\n",
      "\n",
      "           0       0.81      0.82      0.81       136\n",
      "           1       0.60      0.57      0.59        63\n",
      "\n",
      "    accuracy                           0.74       199\n",
      "   macro avg       0.70      0.70      0.70       199\n",
      "weighted avg       0.74      0.74      0.74       199\n",
      "\n",
      "\n"
     ]
    }
   ],
   "source": [
    "mf.plot_classifier_scores(pipe_knn, X_val, y_val, y_hat_val_knn)"
   ]
  },
  {
   "cell_type": "markdown",
   "metadata": {},
   "source": [
    "So we see that the result is not satisfying, as the model does not predict '1' effective on validation data. We see that it miss classified '1' as '0' even 27 times. Let's try to under sample training data set."
   ]
  },
  {
   "cell_type": "markdown",
   "metadata": {},
   "source": [
    "### 2.4.2. KNN with under sampled examples"
   ]
  },
  {
   "cell_type": "code",
   "execution_count": 40,
   "metadata": {},
   "outputs": [
    {
     "name": "stdout",
     "output_type": "stream",
     "text": [
      "Counter({0: 579, 1: 579})\n"
     ]
    }
   ],
   "source": [
    "# define undersample strategy\n",
    "undersample = RandomUnderSampler(sampling_strategy='majority')\n",
    "# fit and apply the transform\n",
    "X_train_under, y_train_under = undersample.fit_resample(X_train, y_train)\n",
    "# summarize class distribution\n",
    "print(Counter(y_train_under))"
   ]
  },
  {
   "cell_type": "markdown",
   "metadata": {},
   "source": [
    "Let's see what hyper parameters we get on this data set."
   ]
  },
  {
   "cell_type": "code",
   "execution_count": null,
   "metadata": {},
   "outputs": [],
   "source": [
    "study = optuna.create_study(direction='maximize', study_name='SCALER_PCA_KNN')\n",
    "func = lambda trial: mf.KNN_objective(trial, X_train_under, y_train_under, numerical_features)\n",
    "study.optimize(func, n_trials=200)"
   ]
  },
  {
   "cell_type": "code",
   "execution_count": 42,
   "metadata": {},
   "outputs": [
    {
     "name": "stdout",
     "output_type": "stream",
     "text": [
      "\t\tscalers: robust\n",
      "\t\tdim_red: PCA\n",
      "\t\tpca_n_components: 2\n",
      "\t\tknn_n_neighbors: 10\n",
      "\t\tknn_metric: minkowski\n",
      "\t\tknn_weights: distance\n",
      "\tBest value (f1): 0.70309\n"
     ]
    }
   ],
   "source": [
    "trial1 = study.best_trial\n",
    "scaler_pca_KNN1 = study.best_trial.params\n",
    "for key, value in scaler_pca_KNN1.items():\n",
    "    print(f'\\t\\t{key}: {value}')\n",
    "\n",
    "print(f'\\tBest value (f1): {study.best_value:.5f}')\n"
   ]
  },
  {
   "cell_type": "markdown",
   "metadata": {},
   "source": [
    "Scaler is still Standard, no dimensionality reduction, but we have different metrics."
   ]
  },
  {
   "cell_type": "code",
   "execution_count": 84,
   "metadata": {},
   "outputs": [],
   "source": [
    "knn1 = KNeighborsClassifier(n_neighbors=10, metric='minkowski', weights='uniform')\n",
    "pipe_knn_undersample = Pipeline(\n",
    "    steps=[\n",
    "        ('preprocessor', preprocessor),\n",
    "        ('dim_red', PCA(n_components=2)),\n",
    "        ('classifier', knn1),\n",
    "    ]\n",
    ")"
   ]
  },
  {
   "cell_type": "code",
   "execution_count": 44,
   "metadata": {},
   "outputs": [],
   "source": [
    "pipe_knn_undersample.fit(X_train_under, y_train_under)\n",
    "y_hat_train_under = pipe_knn_undersample.predict(X_train_under)\n",
    "y_hat_val_under = pipe_knn_undersample.predict(X_val)"
   ]
  },
  {
   "cell_type": "code",
   "execution_count": 45,
   "metadata": {},
   "outputs": [
    {
     "data": {
      "image/png": "[encoded data removed]",
      "text/plain": [
       "<Figure size 432x288 with 2 Axes>"
      ]
     },
     "metadata": {
      "needs_background": "light"
     },
     "output_type": "display_data"
    },
    {
     "name": "stdout",
     "output_type": "stream",
     "text": [
      "              precision    recall  f1-score   support\n",
      "\n",
      "           0       0.71      0.87      0.78       579\n",
      "           1       0.83      0.64      0.72       579\n",
      "\n",
      "    accuracy                           0.75      1158\n",
      "   macro avg       0.77      0.75      0.75      1158\n",
      "weighted avg       0.77      0.75      0.75      1158\n",
      "\n",
      "\n"
     ]
    }
   ],
   "source": [
    "mf.plot_classifier_scores(pipe_knn_undersample, X_train_under, y_train_under, y_hat_train_under)"
   ]
  },
  {
   "cell_type": "code",
   "execution_count": 46,
   "metadata": {},
   "outputs": [
    {
     "data": {
      "image/png": "[encoded data removed]",
      "text/plain": [
       "<Figure size 432x288 with 2 Axes>"
      ]
     },
     "metadata": {
      "needs_background": "light"
     },
     "output_type": "display_data"
    },
    {
     "name": "stdout",
     "output_type": "stream",
     "text": [
      "              precision    recall  f1-score   support\n",
      "\n",
      "           0       0.81      0.84      0.83       136\n",
      "           1       0.63      0.59      0.61        63\n",
      "\n",
      "    accuracy                           0.76       199\n",
      "   macro avg       0.72      0.71      0.72       199\n",
      "weighted avg       0.76      0.76      0.76       199\n",
      "\n",
      "\n"
     ]
    }
   ],
   "source": [
    "mf.plot_classifier_scores(pipe_knn_undersample, X_val, y_val, y_hat_val_under)"
   ]
  },
  {
   "cell_type": "markdown",
   "metadata": {},
   "source": [
    "All in all I got a little bit better performance, of recall 59 percent in the guessing '1', f1 is 0.61, slightly better than in the previous round. But in total in the base line model I got 0.77 macro f1 and here I got only 0.72, so no tuning and under sampling helped."
   ]
  },
  {
   "cell_type": "markdown",
   "metadata": {},
   "source": [
    "## 2.5. Random Forest"
   ]
  },
  {
   "cell_type": "markdown",
   "metadata": {},
   "source": [
    "### 2.5.1. Random Forest with tuned hyper parameters"
   ]
  },
  {
   "cell_type": "code",
   "execution_count": null,
   "metadata": {},
   "outputs": [],
   "source": [
    "study = optuna.create_study(direction='maximize', study_name='RandomForestClassifier')\n",
    "func = lambda trial: mf.random_forest_objective(trial, X_train, y_train)\n",
    "study.optimize(func, n_trials=200)"
   ]
  },
  {
   "cell_type": "code",
   "execution_count": 81,
   "metadata": {},
   "outputs": [
    {
     "name": "stdout",
     "output_type": "stream",
     "text": [
      "\t\tn_estimators: 81\n",
      "\t\tmax_depth: 5\n",
      "\t\tmin_samples_split: 7\n",
      "\t\tmin_samples_leaf: 2\n",
      "\t\tmax_features: 2\n",
      "\t\tweight: None\n"
     ]
    }
   ],
   "source": [
    "trial_rf = study.best_trial\n",
    "random_forest = trial_rf.params\n",
    "for key, value in random_forest.items():\n",
    "    print(f'\\t\\t{key}: {value}')"
   ]
  },
  {
   "cell_type": "markdown",
   "metadata": {},
   "source": [
    "* Let's fit the training data into RandomForest."
   ]
  },
  {
   "cell_type": "code",
   "execution_count": 49,
   "metadata": {},
   "outputs": [
    {
     "data": {
      "text/html": [
       "<style>#sk-container-id-3 {color: black;background-color: white;}#sk-container-id-3 pre{padding: 0;}#sk-container-id-3 div.sk-toggleable {background-color: white;}#sk-container-id-3 label.sk-toggleable__label {cursor: pointer;display: block;width: 100%;margin-bottom: 0;padding: 0.3em;box-sizing: border-box;text-align: center;}#sk-container-id-3 label.sk-toggleable__label-arrow:before {content: \"▸\";float: left;margin-right: 0.25em;color: #696969;}#sk-container-id-3 label.sk-toggleable__label-arrow:hover:before {color: black;}#sk-container-id-3 div.sk-estimator:hover label.sk-toggleable__label-arrow:before {color: black;}#sk-container-id-3 div.sk-toggleable__content {max-height: 0;max-width: 0;overflow: hidden;text-align: left;background-color: #f0f8ff;}#sk-container-id-3 div.sk-toggleable__content pre {margin: 0.2em;color: black;border-radius: 0.25em;background-color: #f0f8ff;}#sk-container-id-3 input.sk-toggleable__control:checked~div.sk-toggleable__content {max-height: 200px;max-width: 100%;overflow: auto;}#sk-container-id-3 input.sk-toggleable__control:checked~label.sk-toggleable__label-arrow:before {content: \"▾\";}#sk-container-id-3 div.sk-estimator input.sk-toggleable__control:checked~label.sk-toggleable__label {background-color: #d4ebff;}#sk-container-id-3 div.sk-label input.sk-toggleable__control:checked~label.sk-toggleable__label {background-color: #d4ebff;}#sk-container-id-3 input.sk-hidden--visually {border: 0;clip: rect(1px 1px 1px 1px);clip: rect(1px, 1px, 1px, 1px);height: 1px;margin: -1px;overflow: hidden;padding: 0;position: absolute;width: 1px;}#sk-container-id-3 div.sk-estimator {font-family: monospace;background-color: #f0f8ff;border: 1px dotted black;border-radius: 0.25em;box-sizing: border-box;margin-bottom: 0.5em;}#sk-container-id-3 div.sk-estimator:hover {background-color: #d4ebff;}#sk-container-id-3 div.sk-parallel-item::after {content: \"\";width: 100%;border-bottom: 1px solid gray;flex-grow: 1;}#sk-container-id-3 div.sk-label:hover label.sk-toggleable__label {background-color: #d4ebff;}#sk-container-id-3 div.sk-serial::before {content: \"\";position: absolute;border-left: 1px solid gray;box-sizing: border-box;top: 0;bottom: 0;left: 50%;z-index: 0;}#sk-container-id-3 div.sk-serial {display: flex;flex-direction: column;align-items: center;background-color: white;padding-right: 0.2em;padding-left: 0.2em;position: relative;}#sk-container-id-3 div.sk-item {position: relative;z-index: 1;}#sk-container-id-3 div.sk-parallel {display: flex;align-items: stretch;justify-content: center;background-color: white;position: relative;}#sk-container-id-3 div.sk-item::before, #sk-container-id-3 div.sk-parallel-item::before {content: \"\";position: absolute;border-left: 1px solid gray;box-sizing: border-box;top: 0;bottom: 0;left: 50%;z-index: -1;}#sk-container-id-3 div.sk-parallel-item {display: flex;flex-direction: column;z-index: 1;position: relative;background-color: white;}#sk-container-id-3 div.sk-parallel-item:first-child::after {align-self: flex-end;width: 50%;}#sk-container-id-3 div.sk-parallel-item:last-child::after {align-self: flex-start;width: 50%;}#sk-container-id-3 div.sk-parallel-item:only-child::after {width: 0;}#sk-container-id-3 div.sk-dashed-wrapped {border: 1px dashed gray;margin: 0 0.4em 0.5em 0.4em;box-sizing: border-box;padding-bottom: 0.4em;background-color: white;}#sk-container-id-3 div.sk-label label {font-family: monospace;font-weight: bold;display: inline-block;line-height: 1.2em;}#sk-container-id-3 div.sk-label-container {text-align: center;}#sk-container-id-3 div.sk-container {/* jupyter's `normalize.less` sets `[hidden] { display: none; }` but bootstrap.min.css set `[hidden] { display: none !important; }` so we also need the `!important` here to be able to override the default hidden behavior on the sphinx rendered scikit-learn.org. See: https://github.com/scikit-learn/scikit-learn/issues/21755 */display: inline-block !important;position: relative;}#sk-container-id-3 div.sk-text-repr-fallback {display: none;}</style><div id=\"sk-container-id-3\" class=\"sk-top-container\"><div class=\"sk-text-repr-fallback\"><pre>RandomForestClassifier(max_depth=10, max_features=4, min_samples_leaf=2,\n",
       "                       min_samples_split=3, n_estimators=220, oob_score=True)</pre><b>In a Jupyter environment, please rerun this cell to show the HTML representation or trust the notebook. <br />On GitHub, the HTML representation is unable to render, please try loading this page with nbviewer.org.</b></div><div class=\"sk-container\" hidden><div class=\"sk-item\"><div class=\"sk-estimator sk-toggleable\"><input class=\"sk-toggleable__control sk-hidden--visually\" id=\"sk-estimator-id-15\" type=\"checkbox\" checked><label for=\"sk-estimator-id-15\" class=\"sk-toggleable__label sk-toggleable__label-arrow\">RandomForestClassifier</label><div class=\"sk-toggleable__content\"><pre>RandomForestClassifier(max_depth=10, max_features=4, min_samples_leaf=2,\n",
       "                       min_samples_split=3, n_estimators=220, oob_score=True)</pre></div></div></div></div></div>"
      ],
      "text/plain": [
       "RandomForestClassifier(max_depth=10, max_features=4, min_samples_leaf=2,\n",
       "                       min_samples_split=3, n_estimators=220, oob_score=True)"
      ]
     },
     "execution_count": 49,
     "metadata": {},
     "output_type": "execute_result"
    }
   ],
   "source": [
    "rf = RandomForestClassifier(n_estimators=220, max_depth=10, min_samples_split=3, min_samples_leaf=2, max_features=4, bootstrap=True, oob_score=True)\n",
    "rf.fit(X_train, y_train)"
   ]
  },
  {
   "cell_type": "markdown",
   "metadata": {},
   "source": [
    "* We can cher the out of bag score (the same as accuracy) of the samples, that were not used in training."
   ]
  },
  {
   "cell_type": "code",
   "execution_count": 50,
   "metadata": {},
   "outputs": [
    {
     "data": {
      "text/plain": [
       "0.8231592196349906"
      ]
     },
     "execution_count": 50,
     "metadata": {},
     "output_type": "execute_result"
    }
   ],
   "source": [
    "rf.oob_score_"
   ]
  },
  {
   "cell_type": "markdown",
   "metadata": {},
   "source": [
    "So it is very close to the macro accuracy of the bae line Random Forest model."
   ]
  },
  {
   "cell_type": "markdown",
   "metadata": {},
   "source": [
    "* Let's predict on training and validation data."
   ]
  },
  {
   "cell_type": "code",
   "execution_count": 51,
   "metadata": {},
   "outputs": [],
   "source": [
    "y_hat_train_rf = rf.predict(X_train)\n",
    "y_hat_val_rf = rf.predict(X_val)"
   ]
  },
  {
   "cell_type": "markdown",
   "metadata": {},
   "source": [
    "* results on training data."
   ]
  },
  {
   "cell_type": "code",
   "execution_count": 52,
   "metadata": {},
   "outputs": [
    {
     "data": {
      "image/png": "[encoded data removed]",
      "text/plain": [
       "<Figure size 432x288 with 2 Axes>"
      ]
     },
     "metadata": {
      "needs_background": "light"
     },
     "output_type": "display_data"
    },
    {
     "name": "stdout",
     "output_type": "stream",
     "text": [
      "              precision    recall  f1-score   support\n",
      "\n",
      "           0       0.82      0.97      0.89      1010\n",
      "           1       0.93      0.63      0.75       579\n",
      "\n",
      "    accuracy                           0.85      1589\n",
      "   macro avg       0.87      0.80      0.82      1589\n",
      "weighted avg       0.86      0.85      0.84      1589\n",
      "\n",
      "\n"
     ]
    }
   ],
   "source": [
    "mf.plot_classifier_scores(rf, X_train, y_train, y_hat_train_rf)"
   ]
  },
  {
   "cell_type": "code",
   "execution_count": 53,
   "metadata": {},
   "outputs": [
    {
     "data": {
      "image/png": "[encoded data removed]",
      "text/plain": [
       "<Figure size 432x288 with 2 Axes>"
      ]
     },
     "metadata": {
      "needs_background": "light"
     },
     "output_type": "display_data"
    },
    {
     "name": "stdout",
     "output_type": "stream",
     "text": [
      "              precision    recall  f1-score   support\n",
      "\n",
      "           0       0.83      0.96      0.89       136\n",
      "           1       0.86      0.59      0.70        63\n",
      "\n",
      "    accuracy                           0.84       199\n",
      "   macro avg       0.85      0.77      0.79       199\n",
      "weighted avg       0.84      0.84      0.83       199\n",
      "\n",
      "\n"
     ]
    }
   ],
   "source": [
    "mf.plot_classifier_scores(rf, X_val, y_val, y_hat_val_rf)"
   ]
  },
  {
   "cell_type": "markdown",
   "metadata": {},
   "source": [
    "As we see on the new - validation data Random Forest doesn't do so well in predicting '1' correctly and had miss classified 'ones' as 'zeros' even 26 times. Let's see what features were the most important."
   ]
  },
  {
   "cell_type": "markdown",
   "metadata": {},
   "source": [
    "* Scoring features."
   ]
  },
  {
   "cell_type": "code",
   "execution_count": 54,
   "metadata": {},
   "outputs": [
    {
     "name": "stdout",
     "output_type": "stream",
     "text": [
      "age 0.15152900755504115\n",
      "employment_type 0.014308628621769794\n",
      "graduate_or_not 0.014675284932843535\n",
      "annual_income 0.3896414794033552\n",
      "family_members 0.11430627715675719\n",
      "chronic_diseases 0.02155266441575658\n",
      "frequent_flyer 0.020099004959315672\n",
      "ever_travelled_abroad 0.10241772469011443\n",
      "annual_income_per_person 0.12900188786627484\n",
      "traveller 0.04246804039877163\n"
     ]
    }
   ],
   "source": [
    "for name, score in zip(X_train.columns, rf.feature_importances_):\n",
    "    print(name, score)"
   ]
  },
  {
   "cell_type": "markdown",
   "metadata": {},
   "source": [
    "So in the next part let's try to take only those features, which got the coefficient over 0.1."
   ]
  },
  {
   "cell_type": "markdown",
   "metadata": {},
   "source": [
    "### 2.5.2. Random Forest with selected less features"
   ]
  },
  {
   "cell_type": "markdown",
   "metadata": {},
   "source": [
    "Selecting most important features."
   ]
  },
  {
   "cell_type": "code",
   "execution_count": 79,
   "metadata": {},
   "outputs": [
    {
     "data": {
      "text/plain": [
       "Index(['age', 'annual_income', 'family_members', 'ever_travelled_abroad',\n",
       "       'annual_income_per_person'],\n",
       "      dtype='object')"
      ]
     },
     "execution_count": 79,
     "metadata": {},
     "output_type": "execute_result"
    }
   ],
   "source": [
    "X_train_less = X_train.copy()\n",
    "X_train_less = X_train_less.drop(\n",
    "    columns=[\n",
    "        \"employment_type\",\n",
    "        \"graduate_or_not\",\n",
    "        \"chronic_diseases\",\n",
    "        \"frequent_flyer\",\n",
    "        \"traveller\",\n",
    "    ],\n",
    "    axis=1,\n",
    ")\n",
    "X_train_less.columns"
   ]
  },
  {
   "cell_type": "code",
   "execution_count": 56,
   "metadata": {},
   "outputs": [
    {
     "data": {
      "text/plain": [
       "Index(['age', 'annual_income', 'family_members', 'ever_travelled_abroad',\n",
       "       'annual_income_per_person'],\n",
       "      dtype='object')"
      ]
     },
     "execution_count": 56,
     "metadata": {},
     "output_type": "execute_result"
    }
   ],
   "source": [
    "X_val_less = X_val.copy()\n",
    "X_val_less = X_val_less.drop(columns = ['employment_type', 'graduate_or_not', 'chronic_diseases', 'frequent_flyer', 'traveller'], axis=1)\n",
    "X_val_less.columns"
   ]
  },
  {
   "cell_type": "markdown",
   "metadata": {},
   "source": [
    "* Let's see if optuna will suggest something else if training on this data."
   ]
  },
  {
   "cell_type": "code",
   "execution_count": null,
   "metadata": {},
   "outputs": [],
   "source": [
    "study = optuna.create_study(direction='maximize', study_name='RandomForestClassifier')\n",
    "func = lambda trial: mf.random_forest_objective(trial, X_train_less, y_train)\n",
    "study.optimize(func, n_trials=200)"
   ]
  },
  {
   "cell_type": "code",
   "execution_count": 58,
   "metadata": {},
   "outputs": [
    {
     "name": "stdout",
     "output_type": "stream",
     "text": [
      "\t\tn_estimators: 81\n",
      "\t\tmax_depth: 5\n",
      "\t\tmin_samples_split: 7\n",
      "\t\tmin_samples_leaf: 2\n",
      "\t\tmax_features: 2\n",
      "\t\tweight: None\n"
     ]
    }
   ],
   "source": [
    "trial_rf2 = study.best_trial\n",
    "random_forest2 = trial_rf2.params\n",
    "for key, value in random_forest2.items():\n",
    "    print(f\"\\t\\t{key}: {value}\")"
   ]
  },
  {
   "cell_type": "markdown",
   "metadata": {},
   "source": [
    "So hyper parameters had changed, let's fit training data with less features."
   ]
  },
  {
   "cell_type": "code",
   "execution_count": 59,
   "metadata": {},
   "outputs": [
    {
     "data": {
      "text/html": [
       "<style>#sk-container-id-4 {color: black;background-color: white;}#sk-container-id-4 pre{padding: 0;}#sk-container-id-4 div.sk-toggleable {background-color: white;}#sk-container-id-4 label.sk-toggleable__label {cursor: pointer;display: block;width: 100%;margin-bottom: 0;padding: 0.3em;box-sizing: border-box;text-align: center;}#sk-container-id-4 label.sk-toggleable__label-arrow:before {content: \"▸\";float: left;margin-right: 0.25em;color: #696969;}#sk-container-id-4 label.sk-toggleable__label-arrow:hover:before {color: black;}#sk-container-id-4 div.sk-estimator:hover label.sk-toggleable__label-arrow:before {color: black;}#sk-container-id-4 div.sk-toggleable__content {max-height: 0;max-width: 0;overflow: hidden;text-align: left;background-color: #f0f8ff;}#sk-container-id-4 div.sk-toggleable__content pre {margin: 0.2em;color: black;border-radius: 0.25em;background-color: #f0f8ff;}#sk-container-id-4 input.sk-toggleable__control:checked~div.sk-toggleable__content {max-height: 200px;max-width: 100%;overflow: auto;}#sk-container-id-4 input.sk-toggleable__control:checked~label.sk-toggleable__label-arrow:before {content: \"▾\";}#sk-container-id-4 div.sk-estimator input.sk-toggleable__control:checked~label.sk-toggleable__label {background-color: #d4ebff;}#sk-container-id-4 div.sk-label input.sk-toggleable__control:checked~label.sk-toggleable__label {background-color: #d4ebff;}#sk-container-id-4 input.sk-hidden--visually {border: 0;clip: rect(1px 1px 1px 1px);clip: rect(1px, 1px, 1px, 1px);height: 1px;margin: -1px;overflow: hidden;padding: 0;position: absolute;width: 1px;}#sk-container-id-4 div.sk-estimator {font-family: monospace;background-color: #f0f8ff;border: 1px dotted black;border-radius: 0.25em;box-sizing: border-box;margin-bottom: 0.5em;}#sk-container-id-4 div.sk-estimator:hover {background-color: #d4ebff;}#sk-container-id-4 div.sk-parallel-item::after {content: \"\";width: 100%;border-bottom: 1px solid gray;flex-grow: 1;}#sk-container-id-4 div.sk-label:hover label.sk-toggleable__label {background-color: #d4ebff;}#sk-container-id-4 div.sk-serial::before {content: \"\";position: absolute;border-left: 1px solid gray;box-sizing: border-box;top: 0;bottom: 0;left: 50%;z-index: 0;}#sk-container-id-4 div.sk-serial {display: flex;flex-direction: column;align-items: center;background-color: white;padding-right: 0.2em;padding-left: 0.2em;position: relative;}#sk-container-id-4 div.sk-item {position: relative;z-index: 1;}#sk-container-id-4 div.sk-parallel {display: flex;align-items: stretch;justify-content: center;background-color: white;position: relative;}#sk-container-id-4 div.sk-item::before, #sk-container-id-4 div.sk-parallel-item::before {content: \"\";position: absolute;border-left: 1px solid gray;box-sizing: border-box;top: 0;bottom: 0;left: 50%;z-index: -1;}#sk-container-id-4 div.sk-parallel-item {display: flex;flex-direction: column;z-index: 1;position: relative;background-color: white;}#sk-container-id-4 div.sk-parallel-item:first-child::after {align-self: flex-end;width: 50%;}#sk-container-id-4 div.sk-parallel-item:last-child::after {align-self: flex-start;width: 50%;}#sk-container-id-4 div.sk-parallel-item:only-child::after {width: 0;}#sk-container-id-4 div.sk-dashed-wrapped {border: 1px dashed gray;margin: 0 0.4em 0.5em 0.4em;box-sizing: border-box;padding-bottom: 0.4em;background-color: white;}#sk-container-id-4 div.sk-label label {font-family: monospace;font-weight: bold;display: inline-block;line-height: 1.2em;}#sk-container-id-4 div.sk-label-container {text-align: center;}#sk-container-id-4 div.sk-container {/* jupyter's `normalize.less` sets `[hidden] { display: none; }` but bootstrap.min.css set `[hidden] { display: none !important; }` so we also need the `!important` here to be able to override the default hidden behavior on the sphinx rendered scikit-learn.org. See: https://github.com/scikit-learn/scikit-learn/issues/21755 */display: inline-block !important;position: relative;}#sk-container-id-4 div.sk-text-repr-fallback {display: none;}</style><div id=\"sk-container-id-4\" class=\"sk-top-container\"><div class=\"sk-text-repr-fallback\"><pre>RandomForestClassifier(max_depth=5, max_features=2, min_samples_leaf=2,\n",
       "                       min_samples_split=7, n_estimators=81, oob_score=True)</pre><b>In a Jupyter environment, please rerun this cell to show the HTML representation or trust the notebook. <br />On GitHub, the HTML representation is unable to render, please try loading this page with nbviewer.org.</b></div><div class=\"sk-container\" hidden><div class=\"sk-item\"><div class=\"sk-estimator sk-toggleable\"><input class=\"sk-toggleable__control sk-hidden--visually\" id=\"sk-estimator-id-16\" type=\"checkbox\" checked><label for=\"sk-estimator-id-16\" class=\"sk-toggleable__label sk-toggleable__label-arrow\">RandomForestClassifier</label><div class=\"sk-toggleable__content\"><pre>RandomForestClassifier(max_depth=5, max_features=2, min_samples_leaf=2,\n",
       "                       min_samples_split=7, n_estimators=81, oob_score=True)</pre></div></div></div></div></div>"
      ],
      "text/plain": [
       "RandomForestClassifier(max_depth=5, max_features=2, min_samples_leaf=2,\n",
       "                       min_samples_split=7, n_estimators=81, oob_score=True)"
      ]
     },
     "execution_count": 59,
     "metadata": {},
     "output_type": "execute_result"
    }
   ],
   "source": [
    "rf2 = RandomForestClassifier(n_estimators=81, max_depth=5, min_samples_leaf=2, min_samples_split=7, max_features=2, oob_score=True)\n",
    "rf2.fit(X_train_less, y_train)"
   ]
  },
  {
   "cell_type": "code",
   "execution_count": 60,
   "metadata": {},
   "outputs": [
    {
     "data": {
      "text/plain": [
       "0.8256765261170548"
      ]
     },
     "execution_count": 60,
     "metadata": {},
     "output_type": "execute_result"
    }
   ],
   "source": [
    "rf2.oob_score_"
   ]
  },
  {
   "cell_type": "markdown",
   "metadata": {},
   "source": [
    "Accuracy on 'left'from training data looks the same. Let's predict on training and validation data."
   ]
  },
  {
   "cell_type": "code",
   "execution_count": 61,
   "metadata": {},
   "outputs": [],
   "source": [
    "y_hat_train_rf2 = rf2.predict(X_train_less)\n",
    "y_hat_val_rf2 = rf2.predict(X_val_less)"
   ]
  },
  {
   "cell_type": "code",
   "execution_count": 62,
   "metadata": {},
   "outputs": [
    {
     "data": {
      "image/png": "[encoded data removed]",
      "text/plain": [
       "<Figure size 432x288 with 2 Axes>"
      ]
     },
     "metadata": {
      "needs_background": "light"
     },
     "output_type": "display_data"
    },
    {
     "name": "stdout",
     "output_type": "stream",
     "text": [
      "              precision    recall  f1-score   support\n",
      "\n",
      "           0       0.80      0.97      0.88      1010\n",
      "           1       0.93      0.58      0.71       579\n",
      "\n",
      "    accuracy                           0.83      1589\n",
      "   macro avg       0.87      0.78      0.80      1589\n",
      "weighted avg       0.85      0.83      0.82      1589\n",
      "\n",
      "\n"
     ]
    }
   ],
   "source": [
    "mf.plot_classifier_scores(rf2, X_train_less, y_train, y_hat_train_rf2)"
   ]
  },
  {
   "cell_type": "code",
   "execution_count": 63,
   "metadata": {},
   "outputs": [
    {
     "data": {
      "image/png": "[encoded data removed]",
      "text/plain": [
       "<Figure size 432x288 with 2 Axes>"
      ]
     },
     "metadata": {
      "needs_background": "light"
     },
     "output_type": "display_data"
    },
    {
     "name": "stdout",
     "output_type": "stream",
     "text": [
      "              precision    recall  f1-score   support\n",
      "\n",
      "           0       0.84      0.98      0.90       136\n",
      "           1       0.93      0.59      0.72        63\n",
      "\n",
      "    accuracy                           0.85       199\n",
      "   macro avg       0.88      0.78      0.81       199\n",
      "weighted avg       0.86      0.85      0.84       199\n",
      "\n",
      "\n"
     ]
    }
   ],
   "source": [
    "mf.plot_classifier_scores(rf2, X_val_less, y_val, y_hat_val_rf2)"
   ]
  },
  {
   "cell_type": "markdown",
   "metadata": {},
   "source": [
    "This Random Forest model did a little bit better on f1 score, but the recall of guessing '1' is actually totally the same."
   ]
  },
  {
   "cell_type": "markdown",
   "metadata": {},
   "source": [
    "### 2.5.3. Random Forest with up sampled data and most important features"
   ]
  },
  {
   "cell_type": "markdown",
   "metadata": {},
   "source": [
    "* Up sampling data with SMOTE."
   ]
  },
  {
   "cell_type": "code",
   "execution_count": 75,
   "metadata": {},
   "outputs": [
    {
     "name": "stdout",
     "output_type": "stream",
     "text": [
      "Counter({1: 1010, 0: 1010})\n",
      "(2020, 5)\n"
     ]
    }
   ],
   "source": [
    "upsample = SMOTE()\n",
    "X_train_up, y_train_up = upsample.fit_resample(X_train_less, y_train)\n",
    "counter = Counter(y_train_up)\n",
    "print(counter)\n",
    "print(X_train_up.shape)"
   ]
  },
  {
   "cell_type": "markdown",
   "metadata": {},
   "source": [
    "* Let's fit this up sampled data."
   ]
  },
  {
   "cell_type": "code",
   "execution_count": 65,
   "metadata": {},
   "outputs": [
    {
     "data": {
      "text/html": [
       "<style>#sk-container-id-5 {color: black;background-color: white;}#sk-container-id-5 pre{padding: 0;}#sk-container-id-5 div.sk-toggleable {background-color: white;}#sk-container-id-5 label.sk-toggleable__label {cursor: pointer;display: block;width: 100%;margin-bottom: 0;padding: 0.3em;box-sizing: border-box;text-align: center;}#sk-container-id-5 label.sk-toggleable__label-arrow:before {content: \"▸\";float: left;margin-right: 0.25em;color: #696969;}#sk-container-id-5 label.sk-toggleable__label-arrow:hover:before {color: black;}#sk-container-id-5 div.sk-estimator:hover label.sk-toggleable__label-arrow:before {color: black;}#sk-container-id-5 div.sk-toggleable__content {max-height: 0;max-width: 0;overflow: hidden;text-align: left;background-color: #f0f8ff;}#sk-container-id-5 div.sk-toggleable__content pre {margin: 0.2em;color: black;border-radius: 0.25em;background-color: #f0f8ff;}#sk-container-id-5 input.sk-toggleable__control:checked~div.sk-toggleable__content {max-height: 200px;max-width: 100%;overflow: auto;}#sk-container-id-5 input.sk-toggleable__control:checked~label.sk-toggleable__label-arrow:before {content: \"▾\";}#sk-container-id-5 div.sk-estimator input.sk-toggleable__control:checked~label.sk-toggleable__label {background-color: #d4ebff;}#sk-container-id-5 div.sk-label input.sk-toggleable__control:checked~label.sk-toggleable__label {background-color: #d4ebff;}#sk-container-id-5 input.sk-hidden--visually {border: 0;clip: rect(1px 1px 1px 1px);clip: rect(1px, 1px, 1px, 1px);height: 1px;margin: -1px;overflow: hidden;padding: 0;position: absolute;width: 1px;}#sk-container-id-5 div.sk-estimator {font-family: monospace;background-color: #f0f8ff;border: 1px dotted black;border-radius: 0.25em;box-sizing: border-box;margin-bottom: 0.5em;}#sk-container-id-5 div.sk-estimator:hover {background-color: #d4ebff;}#sk-container-id-5 div.sk-parallel-item::after {content: \"\";width: 100%;border-bottom: 1px solid gray;flex-grow: 1;}#sk-container-id-5 div.sk-label:hover label.sk-toggleable__label {background-color: #d4ebff;}#sk-container-id-5 div.sk-serial::before {content: \"\";position: absolute;border-left: 1px solid gray;box-sizing: border-box;top: 0;bottom: 0;left: 50%;z-index: 0;}#sk-container-id-5 div.sk-serial {display: flex;flex-direction: column;align-items: center;background-color: white;padding-right: 0.2em;padding-left: 0.2em;position: relative;}#sk-container-id-5 div.sk-item {position: relative;z-index: 1;}#sk-container-id-5 div.sk-parallel {display: flex;align-items: stretch;justify-content: center;background-color: white;position: relative;}#sk-container-id-5 div.sk-item::before, #sk-container-id-5 div.sk-parallel-item::before {content: \"\";position: absolute;border-left: 1px solid gray;box-sizing: border-box;top: 0;bottom: 0;left: 50%;z-index: -1;}#sk-container-id-5 div.sk-parallel-item {display: flex;flex-direction: column;z-index: 1;position: relative;background-color: white;}#sk-container-id-5 div.sk-parallel-item:first-child::after {align-self: flex-end;width: 50%;}#sk-container-id-5 div.sk-parallel-item:last-child::after {align-self: flex-start;width: 50%;}#sk-container-id-5 div.sk-parallel-item:only-child::after {width: 0;}#sk-container-id-5 div.sk-dashed-wrapped {border: 1px dashed gray;margin: 0 0.4em 0.5em 0.4em;box-sizing: border-box;padding-bottom: 0.4em;background-color: white;}#sk-container-id-5 div.sk-label label {font-family: monospace;font-weight: bold;display: inline-block;line-height: 1.2em;}#sk-container-id-5 div.sk-label-container {text-align: center;}#sk-container-id-5 div.sk-container {/* jupyter's `normalize.less` sets `[hidden] { display: none; }` but bootstrap.min.css set `[hidden] { display: none !important; }` so we also need the `!important` here to be able to override the default hidden behavior on the sphinx rendered scikit-learn.org. See: https://github.com/scikit-learn/scikit-learn/issues/21755 */display: inline-block !important;position: relative;}#sk-container-id-5 div.sk-text-repr-fallback {display: none;}</style><div id=\"sk-container-id-5\" class=\"sk-top-container\"><div class=\"sk-text-repr-fallback\"><pre>RandomForestClassifier(max_depth=5, max_features=2, min_samples_leaf=2,\n",
       "                       n_estimators=471, oob_score=True)</pre><b>In a Jupyter environment, please rerun this cell to show the HTML representation or trust the notebook. <br />On GitHub, the HTML representation is unable to render, please try loading this page with nbviewer.org.</b></div><div class=\"sk-container\" hidden><div class=\"sk-item\"><div class=\"sk-estimator sk-toggleable\"><input class=\"sk-toggleable__control sk-hidden--visually\" id=\"sk-estimator-id-17\" type=\"checkbox\" checked><label for=\"sk-estimator-id-17\" class=\"sk-toggleable__label sk-toggleable__label-arrow\">RandomForestClassifier</label><div class=\"sk-toggleable__content\"><pre>RandomForestClassifier(max_depth=5, max_features=2, min_samples_leaf=2,\n",
       "                       n_estimators=471, oob_score=True)</pre></div></div></div></div></div>"
      ],
      "text/plain": [
       "RandomForestClassifier(max_depth=5, max_features=2, min_samples_leaf=2,\n",
       "                       n_estimators=471, oob_score=True)"
      ]
     },
     "execution_count": 65,
     "metadata": {},
     "output_type": "execute_result"
    }
   ],
   "source": [
    "rf3 = RandomForestClassifier(n_estimators=471, max_depth=5, min_samples_leaf=2, min_samples_split=2, max_features=2, oob_score=True)\n",
    "rf3.fit(X_train_less, y_train)"
   ]
  },
  {
   "cell_type": "code",
   "execution_count": 66,
   "metadata": {},
   "outputs": [
    {
     "data": {
      "text/plain": [
       "0.8256765261170548"
      ]
     },
     "execution_count": 66,
     "metadata": {},
     "output_type": "execute_result"
    }
   ],
   "source": [
    "rf2.oob_score_"
   ]
  },
  {
   "cell_type": "markdown",
   "metadata": {},
   "source": [
    "Accuracy looks the same."
   ]
  },
  {
   "cell_type": "code",
   "execution_count": 68,
   "metadata": {},
   "outputs": [],
   "source": [
    "y_hat_train_rf3 = rf3.predict(X_train_up)\n",
    "y_hat_val_rf3 = rf3.predict(X_val_less)"
   ]
  },
  {
   "cell_type": "code",
   "execution_count": 69,
   "metadata": {},
   "outputs": [
    {
     "data": {
      "image/png": "[encoded data removed]",
      "text/plain": [
       "<Figure size 432x288 with 2 Axes>"
      ]
     },
     "metadata": {
      "needs_background": "light"
     },
     "output_type": "display_data"
    },
    {
     "name": "stdout",
     "output_type": "stream",
     "text": [
      "              precision    recall  f1-score   support\n",
      "\n",
      "           0       0.70      0.97      0.81      1010\n",
      "           1       0.96      0.58      0.72      1010\n",
      "\n",
      "    accuracy                           0.78      2020\n",
      "   macro avg       0.83      0.78      0.77      2020\n",
      "weighted avg       0.83      0.78      0.77      2020\n",
      "\n",
      "\n"
     ]
    }
   ],
   "source": [
    "mf.plot_classifier_scores(rf3, X_train_up, y_train_up, y_hat_train_rf3)"
   ]
  },
  {
   "cell_type": "markdown",
   "metadata": {},
   "source": [
    "Even on training data up sampling did not help, it seems it made more noise and that's all."
   ]
  },
  {
   "cell_type": "code",
   "execution_count": 70,
   "metadata": {},
   "outputs": [
    {
     "data": {
      "image/png": "[encoded data removed]",
      "text/plain": [
       "<Figure size 432x288 with 2 Axes>"
      ]
     },
     "metadata": {
      "needs_background": "light"
     },
     "output_type": "display_data"
    },
    {
     "name": "stdout",
     "output_type": "stream",
     "text": [
      "              precision    recall  f1-score   support\n",
      "\n",
      "           0       0.84      0.98      0.90       136\n",
      "           1       0.93      0.59      0.72        63\n",
      "\n",
      "    accuracy                           0.85       199\n",
      "   macro avg       0.88      0.78      0.81       199\n",
      "weighted avg       0.86      0.85      0.84       199\n",
      "\n",
      "\n"
     ]
    }
   ],
   "source": [
    "mf.plot_classifier_scores(rf3, X_val_less, y_val, y_hat_val_rf3)"
   ]
  },
  {
   "cell_type": "markdown",
   "metadata": {},
   "source": [
    "So up sampling did not help, my Random Forest is still predicting 'ones' - that is people, who have interest in insurance, actually in the same way: racall - 0.59, f1 - 0.72."
   ]
  },
  {
   "cell_type": "markdown",
   "metadata": {},
   "source": [
    "# Conclusion"
   ]
  },
  {
   "cell_type": "markdown",
   "metadata": {},
   "source": [
    "The best performance was from the tuned SVC model, trained on data (with all features), without duplicates.\n",
    "So now, let's try to get the hyper parameters of SVC, given only the data without duplicates, train it one more time and then test on the test data, that was'nt used until now."
   ]
  },
  {
   "cell_type": "code",
   "execution_count": 71,
   "metadata": {},
   "outputs": [
    {
     "name": "stdout",
     "output_type": "stream",
     "text": [
      "Best params:\n",
      "{'classifier': SVC(C=0.750385268090156, class_weight='balanced', gamma=0.1), 'classifier__C': 0.750385268090156, 'classifier__class_weight': 'balanced', 'classifier__gamma': 0.1, 'classifier__kernel': 'rbf'}\n",
      "Best f1 score in randomized search:\n",
      "0.6594154796283853\n"
     ]
    }
   ],
   "source": [
    "mf.SVC_randomized_search(X_train_no_dupl, y_train_no_dupl, pipe_sv)"
   ]
  },
  {
   "cell_type": "code",
   "execution_count": 73,
   "metadata": {},
   "outputs": [
    {
     "data": {
      "text/html": [
       "<style>#sk-container-id-6 {color: black;background-color: white;}#sk-container-id-6 pre{padding: 0;}#sk-container-id-6 div.sk-toggleable {background-color: white;}#sk-container-id-6 label.sk-toggleable__label {cursor: pointer;display: block;width: 100%;margin-bottom: 0;padding: 0.3em;box-sizing: border-box;text-align: center;}#sk-container-id-6 label.sk-toggleable__label-arrow:before {content: \"▸\";float: left;margin-right: 0.25em;color: #696969;}#sk-container-id-6 label.sk-toggleable__label-arrow:hover:before {color: black;}#sk-container-id-6 div.sk-estimator:hover label.sk-toggleable__label-arrow:before {color: black;}#sk-container-id-6 div.sk-toggleable__content {max-height: 0;max-width: 0;overflow: hidden;text-align: left;background-color: #f0f8ff;}#sk-container-id-6 div.sk-toggleable__content pre {margin: 0.2em;color: black;border-radius: 0.25em;background-color: #f0f8ff;}#sk-container-id-6 input.sk-toggleable__control:checked~div.sk-toggleable__content {max-height: 200px;max-width: 100%;overflow: auto;}#sk-container-id-6 input.sk-toggleable__control:checked~label.sk-toggleable__label-arrow:before {content: \"▾\";}#sk-container-id-6 div.sk-estimator input.sk-toggleable__control:checked~label.sk-toggleable__label {background-color: #d4ebff;}#sk-container-id-6 div.sk-label input.sk-toggleable__control:checked~label.sk-toggleable__label {background-color: #d4ebff;}#sk-container-id-6 input.sk-hidden--visually {border: 0;clip: rect(1px 1px 1px 1px);clip: rect(1px, 1px, 1px, 1px);height: 1px;margin: -1px;overflow: hidden;padding: 0;position: absolute;width: 1px;}#sk-container-id-6 div.sk-estimator {font-family: monospace;background-color: #f0f8ff;border: 1px dotted black;border-radius: 0.25em;box-sizing: border-box;margin-bottom: 0.5em;}#sk-container-id-6 div.sk-estimator:hover {background-color: #d4ebff;}#sk-container-id-6 div.sk-parallel-item::after {content: \"\";width: 100%;border-bottom: 1px solid gray;flex-grow: 1;}#sk-container-id-6 div.sk-label:hover label.sk-toggleable__label {background-color: #d4ebff;}#sk-container-id-6 div.sk-serial::before {content: \"\";position: absolute;border-left: 1px solid gray;box-sizing: border-box;top: 0;bottom: 0;left: 50%;z-index: 0;}#sk-container-id-6 div.sk-serial {display: flex;flex-direction: column;align-items: center;background-color: white;padding-right: 0.2em;padding-left: 0.2em;position: relative;}#sk-container-id-6 div.sk-item {position: relative;z-index: 1;}#sk-container-id-6 div.sk-parallel {display: flex;align-items: stretch;justify-content: center;background-color: white;position: relative;}#sk-container-id-6 div.sk-item::before, #sk-container-id-6 div.sk-parallel-item::before {content: \"\";position: absolute;border-left: 1px solid gray;box-sizing: border-box;top: 0;bottom: 0;left: 50%;z-index: -1;}#sk-container-id-6 div.sk-parallel-item {display: flex;flex-direction: column;z-index: 1;position: relative;background-color: white;}#sk-container-id-6 div.sk-parallel-item:first-child::after {align-self: flex-end;width: 50%;}#sk-container-id-6 div.sk-parallel-item:last-child::after {align-self: flex-start;width: 50%;}#sk-container-id-6 div.sk-parallel-item:only-child::after {width: 0;}#sk-container-id-6 div.sk-dashed-wrapped {border: 1px dashed gray;margin: 0 0.4em 0.5em 0.4em;box-sizing: border-box;padding-bottom: 0.4em;background-color: white;}#sk-container-id-6 div.sk-label label {font-family: monospace;font-weight: bold;display: inline-block;line-height: 1.2em;}#sk-container-id-6 div.sk-label-container {text-align: center;}#sk-container-id-6 div.sk-container {/* jupyter's `normalize.less` sets `[hidden] { display: none; }` but bootstrap.min.css set `[hidden] { display: none !important; }` so we also need the `!important` here to be able to override the default hidden behavior on the sphinx rendered scikit-learn.org. See: https://github.com/scikit-learn/scikit-learn/issues/21755 */display: inline-block !important;position: relative;}#sk-container-id-6 div.sk-text-repr-fallback {display: none;}</style><div id=\"sk-container-id-6\" class=\"sk-top-container\"><div class=\"sk-text-repr-fallback\"><pre>Pipeline(steps=[(&#x27;preprocessor&#x27;,\n",
       "                 ColumnTransformer(remainder=&#x27;passthrough&#x27;,\n",
       "                                   transformers=[(&#x27;numerical&#x27;,\n",
       "                                                  Pipeline(steps=[(&#x27;scaler&#x27;,\n",
       "                                                                   StandardScaler())]),\n",
       "                                                  [&#x27;age&#x27;, &#x27;annual_income&#x27;,\n",
       "                                                   &#x27;family_members&#x27;,\n",
       "                                                   &#x27;annual_income_per_person&#x27;])])),\n",
       "                (&#x27;classifier&#x27;,\n",
       "                 SVC(C=0.750385268090156, class_weight=&#x27;balanced&#x27;, gamma=0.1))])</pre><b>In a Jupyter environment, please rerun this cell to show the HTML representation or trust the notebook. <br />On GitHub, the HTML representation is unable to render, please try loading this page with nbviewer.org.</b></div><div class=\"sk-container\" hidden><div class=\"sk-item sk-dashed-wrapped\"><div class=\"sk-label-container\"><div class=\"sk-label sk-toggleable\"><input class=\"sk-toggleable__control sk-hidden--visually\" id=\"sk-estimator-id-18\" type=\"checkbox\" ><label for=\"sk-estimator-id-18\" class=\"sk-toggleable__label sk-toggleable__label-arrow\">Pipeline</label><div class=\"sk-toggleable__content\"><pre>Pipeline(steps=[(&#x27;preprocessor&#x27;,\n",
       "                 ColumnTransformer(remainder=&#x27;passthrough&#x27;,\n",
       "                                   transformers=[(&#x27;numerical&#x27;,\n",
       "                                                  Pipeline(steps=[(&#x27;scaler&#x27;,\n",
       "                                                                   StandardScaler())]),\n",
       "                                                  [&#x27;age&#x27;, &#x27;annual_income&#x27;,\n",
       "                                                   &#x27;family_members&#x27;,\n",
       "                                                   &#x27;annual_income_per_person&#x27;])])),\n",
       "                (&#x27;classifier&#x27;,\n",
       "                 SVC(C=0.750385268090156, class_weight=&#x27;balanced&#x27;, gamma=0.1))])</pre></div></div></div><div class=\"sk-serial\"><div class=\"sk-item sk-dashed-wrapped\"><div class=\"sk-label-container\"><div class=\"sk-label sk-toggleable\"><input class=\"sk-toggleable__control sk-hidden--visually\" id=\"sk-estimator-id-19\" type=\"checkbox\" ><label for=\"sk-estimator-id-19\" class=\"sk-toggleable__label sk-toggleable__label-arrow\">preprocessor: ColumnTransformer</label><div class=\"sk-toggleable__content\"><pre>ColumnTransformer(remainder=&#x27;passthrough&#x27;,\n",
       "                  transformers=[(&#x27;numerical&#x27;,\n",
       "                                 Pipeline(steps=[(&#x27;scaler&#x27;, StandardScaler())]),\n",
       "                                 [&#x27;age&#x27;, &#x27;annual_income&#x27;, &#x27;family_members&#x27;,\n",
       "                                  &#x27;annual_income_per_person&#x27;])])</pre></div></div></div><div class=\"sk-parallel\"><div class=\"sk-parallel-item\"><div class=\"sk-item\"><div class=\"sk-label-container\"><div class=\"sk-label sk-toggleable\"><input class=\"sk-toggleable__control sk-hidden--visually\" id=\"sk-estimator-id-20\" type=\"checkbox\" ><label for=\"sk-estimator-id-20\" class=\"sk-toggleable__label sk-toggleable__label-arrow\">numerical</label><div class=\"sk-toggleable__content\"><pre>[&#x27;age&#x27;, &#x27;annual_income&#x27;, &#x27;family_members&#x27;, &#x27;annual_income_per_person&#x27;]</pre></div></div></div><div class=\"sk-serial\"><div class=\"sk-item\"><div class=\"sk-serial\"><div class=\"sk-item\"><div class=\"sk-estimator sk-toggleable\"><input class=\"sk-toggleable__control sk-hidden--visually\" id=\"sk-estimator-id-21\" type=\"checkbox\" ><label for=\"sk-estimator-id-21\" class=\"sk-toggleable__label sk-toggleable__label-arrow\">StandardScaler</label><div class=\"sk-toggleable__content\"><pre>StandardScaler()</pre></div></div></div></div></div></div></div></div><div class=\"sk-parallel-item\"><div class=\"sk-item\"><div class=\"sk-label-container\"><div class=\"sk-label sk-toggleable\"><input class=\"sk-toggleable__control sk-hidden--visually\" id=\"sk-estimator-id-22\" type=\"checkbox\" ><label for=\"sk-estimator-id-22\" class=\"sk-toggleable__label sk-toggleable__label-arrow\">remainder</label><div class=\"sk-toggleable__content\"><pre>[&#x27;employment_type&#x27;, &#x27;graduate_or_not&#x27;, &#x27;chronic_diseases&#x27;, &#x27;frequent_flyer&#x27;, &#x27;ever_travelled_abroad&#x27;, &#x27;traveller&#x27;]</pre></div></div></div><div class=\"sk-serial\"><div class=\"sk-item\"><div class=\"sk-estimator sk-toggleable\"><input class=\"sk-toggleable__control sk-hidden--visually\" id=\"sk-estimator-id-23\" type=\"checkbox\" ><label for=\"sk-estimator-id-23\" class=\"sk-toggleable__label sk-toggleable__label-arrow\">passthrough</label><div class=\"sk-toggleable__content\"><pre>passthrough</pre></div></div></div></div></div></div></div></div><div class=\"sk-item\"><div class=\"sk-estimator sk-toggleable\"><input class=\"sk-toggleable__control sk-hidden--visually\" id=\"sk-estimator-id-24\" type=\"checkbox\" ><label for=\"sk-estimator-id-24\" class=\"sk-toggleable__label sk-toggleable__label-arrow\">SVC</label><div class=\"sk-toggleable__content\"><pre>SVC(C=0.750385268090156, class_weight=&#x27;balanced&#x27;, gamma=0.1)</pre></div></div></div></div></div></div></div>"
      ],
      "text/plain": [
       "Pipeline(steps=[('preprocessor',\n",
       "                 ColumnTransformer(remainder='passthrough',\n",
       "                                   transformers=[('numerical',\n",
       "                                                  Pipeline(steps=[('scaler',\n",
       "                                                                   StandardScaler())]),\n",
       "                                                  ['age', 'annual_income',\n",
       "                                                   'family_members',\n",
       "                                                   'annual_income_per_person'])])),\n",
       "                ('classifier',\n",
       "                 SVC(C=0.750385268090156, class_weight='balanced', gamma=0.1))])"
      ]
     },
     "execution_count": 73,
     "metadata": {},
     "output_type": "execute_result"
    }
   ],
   "source": [
    "final_SVC = Pipeline(\n",
    "    steps=[\n",
    "        (\"preprocessor\", preprocessor),\n",
    "        (\"classifier\", SVC(C=0.750385268090156, class_weight=\"balanced\", gamma=0.1)),\n",
    "    ]\n",
    ")\n",
    "final_SVC.fit(X_train_no_dupl, y_train_no_dupl)"
   ]
  },
  {
   "cell_type": "code",
   "execution_count": 76,
   "metadata": {},
   "outputs": [
    {
     "data": {
      "image/png": "[encoded data removed]",
      "text/plain": [
       "<Figure size 432x288 with 2 Axes>"
      ]
     },
     "metadata": {
      "needs_background": "light"
     },
     "output_type": "display_data"
    },
    {
     "name": "stdout",
     "output_type": "stream",
     "text": [
      "              precision    recall  f1-score   support\n",
      "\n",
      "           0       0.86      0.89      0.87       131\n",
      "           1       0.77      0.72      0.74        68\n",
      "\n",
      "    accuracy                           0.83       199\n",
      "   macro avg       0.81      0.80      0.81       199\n",
      "weighted avg       0.83      0.83      0.83       199\n",
      "\n",
      "\n"
     ]
    }
   ],
   "source": [
    "y_hat_test = final_SVC.predict(X_test)\n",
    "mf.plot_classifier_scores(final_SVC, X_test, y_test, y_hat_test)"
   ]
  },
  {
   "cell_type": "markdown",
   "metadata": {},
   "source": [
    "So we got the highest recall and f1 score, in the predicting '1' - people, who are interested in insurance, the number of miss classified '1' - got a little bit lower. Total accuracy is actually the highest. Let's see the precision/recall curve as it is used having data imbalance."
   ]
  },
  {
   "cell_type": "code",
   "execution_count": 77,
   "metadata": {},
   "outputs": [
    {
     "data": {
      "image/png": "[encoded data removed]",
      "text/plain": [
       "<Figure size 432x288 with 1 Axes>"
      ]
     },
     "metadata": {
      "needs_background": "light"
     },
     "output_type": "display_data"
    }
   ],
   "source": [
    "display = PrecisionRecallDisplay.from_estimator(\n",
    "    final_SVC, X_test, y_test, name='SVC'\n",
    ")\n",
    "_ = display.ax_.set_title('Precision-Recall curve')"
   ]
  },
  {
   "cell_type": "markdown",
   "metadata": {},
   "source": [
    "It seems my classifier is doing better than baseline classifier, so in that point it's ok.\n",
    "For further improvement, i think it need's more data to be sampled, as it is too small (the age feature is to narrow, more information about health and etc.). Then, with larger data set, more features could be engineered."
   ]
  }
 ],
 "metadata": {
  "kernelspec": {
   "display_name": "Python 3.9.7 ('base')",
   "language": "python",
   "name": "python3"
  },
  "language_info": {
   "codemirror_mode": {
    "name": "ipython",
    "version": 3
   },
   "file_extension": ".py",
   "mimetype": "text/x-python",
   "name": "python",
   "nbconvert_exporter": "python",
   "pygments_lexer": "ipython3",
   "version": "3.9.7"
  },
  "orig_nbformat": 4,
  "vscode": {
   "interpreter": {
    "hash": "0c5fee0f00ea2c742b92b76075fa8dbcc0b49d869dc703f5f6953fe6305a2f31"
   }
  }
 },
 "nbformat": 4,
 "nbformat_minor": 2
}
