{
 "cells": [
  {
   "cell_type": "markdown",
   "metadata": {},
   "source": [
    "# Introduction\n"
   ]
  },
  {
   "cell_type": "markdown",
   "metadata": {},
   "source": [
    "It will be already three years from the start of the covid-19 pandemic, but situation is still unpredictable. People all around the world start traveling again, but there are different restrictions and rules due to covid-19 in different countries. So you'll never know, what and when you can get sick and how to deal with it abroad. So better be prepared. \n",
    "\n",
    "Tour & Travels Company wants to offer travel insurance package with covid-19 coverage to some and later maybe to all of their customers.\n",
    "The Company requires to know (predict) which of their customers would have interest to buy this insurance package. It can be predicted based on Companies database history. In 2019 this type of insurance was offered to some segment of the customers and Company has extracted the Performance/Sales of the travel insurance package with coverage from covid-19 during that period. Company need a tool, which could 'forsee' if certain customer could be interested in the travel insurance package with covid-19 coverage and in that case to offer it him/her. After some testing time Company wants to gather more information (about claims also) and with this data make some deeper predictions, is it profitable to offer this package to all of the clients, or only to some groups of them.\n",
    "So it is the first stage of this research, to find basic patterns and make a tool for basic predictions of interest in covid-19 insurance."
   ]
  },
  {
   "cell_type": "markdown",
   "metadata": {},
   "source": [
    "## 1.1. Data set up"
   ]
  },
  {
   "cell_type": "code",
   "execution_count": 1,
   "metadata": {},
   "outputs": [],
   "source": [
    "import numpy as np\n",
    "import pandas as pd\n",
    "import matplotlib.pyplot as plt\n",
    "import seaborn as sns\n",
    "import statsmodels.stats.api as sms\n",
    "import statsmodels.api as sm\n",
    "import scipy.stats.distributions as dist\n",
    "import scipy.stats as stats\n",
    "from statsmodels.tools.tools import add_constant\n",
    "from statsmodels.genmod import families\n",
    "# from skimpy import clean_columns\n",
    "from math import ceil\n",
    "import matplotlib as mpl\n",
    "# from functions import my_functions as mf\n",
    "from IPython.display import Image\n",
    "from warnings import filterwarnings\n",
    "filterwarnings(action='ignore')\n",
    "%matplotlib inline   \n",
    "%load_ext blackcellmagic"
   ]
  },
  {
   "cell_type": "code",
   "execution_count": 2,
   "metadata": {},
   "outputs": [],
   "source": [
    "pd.set_option('float_format', '{:.2f}'.format)"
   ]
  },
  {
   "cell_type": "code",
   "execution_count": 3,
   "metadata": {},
   "outputs": [],
   "source": [
    "pd.set_option('display.max_columns', None) \n",
    "pd.set_option('display.max_rows', None) "
   ]
  },
  {
   "cell_type": "code",
   "execution_count": 4,
   "metadata": {},
   "outputs": [],
   "source": [
    "sns.set_theme(style='darkgrid')"
   ]
  },
  {
   "cell_type": "code",
   "execution_count": 5,
   "metadata": {},
   "outputs": [],
   "source": [
    "df = pd.read_csv('TravelInsurancePrediction.csv', index_col=0)"
   ]
  },
  {
   "cell_type": "code",
   "execution_count": 6,
   "metadata": {},
   "outputs": [
    {
     "data": {
      "text/html": [
       "<div>\n",
       "<style scoped>\n",
       "    .dataframe tbody tr th:only-of-type {\n",
       "        vertical-align: middle;\n",
       "    }\n",
       "\n",
       "    .dataframe tbody tr th {\n",
       "        vertical-align: top;\n",
       "    }\n",
       "\n",
       "    .dataframe thead th {\n",
       "        text-align: right;\n",
       "    }\n",
       "</style>\n",
       "<table border=\"1\" class=\"dataframe\">\n",
       "  <thead>\n",
       "    <tr style=\"text-align: right;\">\n",
       "      <th></th>\n",
       "      <th>Age</th>\n",
       "      <th>Employment Type</th>\n",
       "      <th>GraduateOrNot</th>\n",
       "      <th>AnnualIncome</th>\n",
       "      <th>FamilyMembers</th>\n",
       "      <th>ChronicDiseases</th>\n",
       "      <th>FrequentFlyer</th>\n",
       "      <th>EverTravelledAbroad</th>\n",
       "      <th>TravelInsurance</th>\n",
       "    </tr>\n",
       "  </thead>\n",
       "  <tbody>\n",
       "    <tr>\n",
       "      <th>0</th>\n",
       "      <td>31</td>\n",
       "      <td>Government Sector</td>\n",
       "      <td>Yes</td>\n",
       "      <td>400000</td>\n",
       "      <td>6</td>\n",
       "      <td>1</td>\n",
       "      <td>No</td>\n",
       "      <td>No</td>\n",
       "      <td>0</td>\n",
       "    </tr>\n",
       "    <tr>\n",
       "      <th>1</th>\n",
       "      <td>31</td>\n",
       "      <td>Private Sector/Self Employed</td>\n",
       "      <td>Yes</td>\n",
       "      <td>1250000</td>\n",
       "      <td>7</td>\n",
       "      <td>0</td>\n",
       "      <td>No</td>\n",
       "      <td>No</td>\n",
       "      <td>0</td>\n",
       "    </tr>\n",
       "    <tr>\n",
       "      <th>2</th>\n",
       "      <td>34</td>\n",
       "      <td>Private Sector/Self Employed</td>\n",
       "      <td>Yes</td>\n",
       "      <td>500000</td>\n",
       "      <td>4</td>\n",
       "      <td>1</td>\n",
       "      <td>No</td>\n",
       "      <td>No</td>\n",
       "      <td>1</td>\n",
       "    </tr>\n",
       "    <tr>\n",
       "      <th>3</th>\n",
       "      <td>28</td>\n",
       "      <td>Private Sector/Self Employed</td>\n",
       "      <td>Yes</td>\n",
       "      <td>700000</td>\n",
       "      <td>3</td>\n",
       "      <td>1</td>\n",
       "      <td>No</td>\n",
       "      <td>No</td>\n",
       "      <td>0</td>\n",
       "    </tr>\n",
       "    <tr>\n",
       "      <th>4</th>\n",
       "      <td>28</td>\n",
       "      <td>Private Sector/Self Employed</td>\n",
       "      <td>Yes</td>\n",
       "      <td>700000</td>\n",
       "      <td>8</td>\n",
       "      <td>1</td>\n",
       "      <td>Yes</td>\n",
       "      <td>No</td>\n",
       "      <td>0</td>\n",
       "    </tr>\n",
       "  </tbody>\n",
       "</table>\n",
       "</div>"
      ],
      "text/plain": [
       "   Age               Employment Type GraduateOrNot  AnnualIncome  \\\n",
       "0   31             Government Sector           Yes        400000   \n",
       "1   31  Private Sector/Self Employed           Yes       1250000   \n",
       "2   34  Private Sector/Self Employed           Yes        500000   \n",
       "3   28  Private Sector/Self Employed           Yes        700000   \n",
       "4   28  Private Sector/Self Employed           Yes        700000   \n",
       "\n",
       "   FamilyMembers  ChronicDiseases FrequentFlyer EverTravelledAbroad  \\\n",
       "0              6                1            No                  No   \n",
       "1              7                0            No                  No   \n",
       "2              4                1            No                  No   \n",
       "3              3                1            No                  No   \n",
       "4              8                1           Yes                  No   \n",
       "\n",
       "   TravelInsurance  \n",
       "0                0  \n",
       "1                0  \n",
       "2                1  \n",
       "3                0  \n",
       "4                0  "
      ]
     },
     "execution_count": 6,
     "metadata": {},
     "output_type": "execute_result"
    }
   ],
   "source": [
    "df.head()"
   ]
  },
  {
   "cell_type": "markdown",
   "metadata": {},
   "source": [
    "## 1.2. Data cleaning "
   ]
  },
  {
   "cell_type": "markdown",
   "metadata": {},
   "source": [
    "* Changing te column names."
   ]
  },
  {
   "cell_type": "code",
   "execution_count": 7,
   "metadata": {},
   "outputs": [
    {
     "data": {
      "text/html": [
       "<pre style=\"white-space:pre;overflow-x:auto;line-height:normal;font-family:Menlo,'DejaVu Sans Mono',consolas,'Courier New',monospace\"><span style=\"color: #008080; text-decoration-color: #008080; font-weight: bold\">9</span> column names have been cleaned\n",
       "</pre>\n"
      ],
      "text/plain": [
       "\u001b[1;36m9\u001b[0m column names have been cleaned\n"
      ]
     },
     "metadata": {},
     "output_type": "display_data"
    },
    {
     "data": {
      "text/plain": [
       "['age',\n",
       " 'employment_type',\n",
       " 'graduate_or_not',\n",
       " 'annual_income',\n",
       " 'family_members',\n",
       " 'chronic_diseases',\n",
       " 'frequent_flyer',\n",
       " 'ever_travelled_abroad',\n",
       " 'travel_insurance']"
      ]
     },
     "execution_count": 7,
     "metadata": {},
     "output_type": "execute_result"
    }
   ],
   "source": [
    "insurance_df = clean_columns(df)\n",
    "insurance_df.columns.tolist()"
   ]
  },
  {
   "cell_type": "markdown",
   "metadata": {},
   "source": [
    "* Changing column values into lower case."
   ]
  },
  {
   "cell_type": "code",
   "execution_count": 8,
   "metadata": {},
   "outputs": [],
   "source": [
    "insurance_df = insurance_df.applymap(lambda s: s.lower() if type(s) == str else s)"
   ]
  },
  {
   "cell_type": "markdown",
   "metadata": {},
   "source": [
    "* Temporarily for the purpose of easier understanding in the EDA, let's change the values: 1 into 'yes' - and 0 into 'no' - columns: 'travel_insurance', 'chronic_diseases'."
   ]
  },
  {
   "cell_type": "code",
   "execution_count": 9,
   "metadata": {},
   "outputs": [],
   "source": [
    "insurance_df[['chronic_diseases','travel_insurance']] = insurance_df[['chronic_diseases','travel_insurance']].replace({1: 'yes', 0 : 'no'})"
   ]
  },
  {
   "cell_type": "code",
   "execution_count": 10,
   "metadata": {},
   "outputs": [
    {
     "data": {
      "text/html": [
       "<div>\n",
       "<style scoped>\n",
       "    .dataframe tbody tr th:only-of-type {\n",
       "        vertical-align: middle;\n",
       "    }\n",
       "\n",
       "    .dataframe tbody tr th {\n",
       "        vertical-align: top;\n",
       "    }\n",
       "\n",
       "    .dataframe thead th {\n",
       "        text-align: right;\n",
       "    }\n",
       "</style>\n",
       "<table border=\"1\" class=\"dataframe\">\n",
       "  <thead>\n",
       "    <tr style=\"text-align: right;\">\n",
       "      <th></th>\n",
       "      <th>age</th>\n",
       "      <th>employment_type</th>\n",
       "      <th>graduate_or_not</th>\n",
       "      <th>annual_income</th>\n",
       "      <th>family_members</th>\n",
       "      <th>chronic_diseases</th>\n",
       "      <th>frequent_flyer</th>\n",
       "      <th>ever_travelled_abroad</th>\n",
       "      <th>travel_insurance</th>\n",
       "    </tr>\n",
       "  </thead>\n",
       "  <tbody>\n",
       "    <tr>\n",
       "      <th>0</th>\n",
       "      <td>31</td>\n",
       "      <td>government sector</td>\n",
       "      <td>yes</td>\n",
       "      <td>400000</td>\n",
       "      <td>6</td>\n",
       "      <td>yes</td>\n",
       "      <td>no</td>\n",
       "      <td>no</td>\n",
       "      <td>no</td>\n",
       "    </tr>\n",
       "    <tr>\n",
       "      <th>1</th>\n",
       "      <td>31</td>\n",
       "      <td>private sector/self employed</td>\n",
       "      <td>yes</td>\n",
       "      <td>1250000</td>\n",
       "      <td>7</td>\n",
       "      <td>no</td>\n",
       "      <td>no</td>\n",
       "      <td>no</td>\n",
       "      <td>no</td>\n",
       "    </tr>\n",
       "    <tr>\n",
       "      <th>2</th>\n",
       "      <td>34</td>\n",
       "      <td>private sector/self employed</td>\n",
       "      <td>yes</td>\n",
       "      <td>500000</td>\n",
       "      <td>4</td>\n",
       "      <td>yes</td>\n",
       "      <td>no</td>\n",
       "      <td>no</td>\n",
       "      <td>yes</td>\n",
       "    </tr>\n",
       "    <tr>\n",
       "      <th>3</th>\n",
       "      <td>28</td>\n",
       "      <td>private sector/self employed</td>\n",
       "      <td>yes</td>\n",
       "      <td>700000</td>\n",
       "      <td>3</td>\n",
       "      <td>yes</td>\n",
       "      <td>no</td>\n",
       "      <td>no</td>\n",
       "      <td>no</td>\n",
       "    </tr>\n",
       "    <tr>\n",
       "      <th>4</th>\n",
       "      <td>28</td>\n",
       "      <td>private sector/self employed</td>\n",
       "      <td>yes</td>\n",
       "      <td>700000</td>\n",
       "      <td>8</td>\n",
       "      <td>yes</td>\n",
       "      <td>yes</td>\n",
       "      <td>no</td>\n",
       "      <td>no</td>\n",
       "    </tr>\n",
       "  </tbody>\n",
       "</table>\n",
       "</div>"
      ],
      "text/plain": [
       "   age               employment_type graduate_or_not  annual_income  \\\n",
       "0   31             government sector             yes         400000   \n",
       "1   31  private sector/self employed             yes        1250000   \n",
       "2   34  private sector/self employed             yes         500000   \n",
       "3   28  private sector/self employed             yes         700000   \n",
       "4   28  private sector/self employed             yes         700000   \n",
       "\n",
       "   family_members chronic_diseases frequent_flyer ever_travelled_abroad  \\\n",
       "0               6              yes             no                    no   \n",
       "1               7               no             no                    no   \n",
       "2               4              yes             no                    no   \n",
       "3               3              yes             no                    no   \n",
       "4               8              yes            yes                    no   \n",
       "\n",
       "  travel_insurance  \n",
       "0               no  \n",
       "1               no  \n",
       "2              yes  \n",
       "3               no  \n",
       "4               no  "
      ]
     },
     "execution_count": 10,
     "metadata": {},
     "output_type": "execute_result"
    }
   ],
   "source": [
    "insurance_df.head()"
   ]
  },
  {
   "cell_type": "markdown",
   "metadata": {},
   "source": [
    "* Checking for null values."
   ]
  },
  {
   "cell_type": "code",
   "execution_count": 11,
   "metadata": {},
   "outputs": [
    {
     "data": {
      "text/plain": [
       "age                      0\n",
       "employment_type          0\n",
       "graduate_or_not          0\n",
       "annual_income            0\n",
       "family_members           0\n",
       "chronic_diseases         0\n",
       "frequent_flyer           0\n",
       "ever_travelled_abroad    0\n",
       "travel_insurance         0\n",
       "dtype: int64"
      ]
     },
     "execution_count": 11,
     "metadata": {},
     "output_type": "execute_result"
    }
   ],
   "source": [
    "insurance_df.isna().sum()"
   ]
  },
  {
   "cell_type": "markdown",
   "metadata": {},
   "source": [
    "So, luckily there are no null values at all. Nothing to clean. "
   ]
  },
  {
   "cell_type": "markdown",
   "metadata": {},
   "source": [
    "* Checking for duplicates."
   ]
  },
  {
   "cell_type": "code",
   "execution_count": 12,
   "metadata": {},
   "outputs": [
    {
     "data": {
      "text/plain": [
       "738"
      ]
     },
     "execution_count": 12,
     "metadata": {},
     "output_type": "execute_result"
    }
   ],
   "source": [
    "insurance_df.duplicated().sum()"
   ]
  },
  {
   "cell_type": "markdown",
   "metadata": {},
   "source": [
    "So there are lot's of duplicates. But as most of the values in this data set are boolean (yes/no answers), that probably could be the case of many identic instances. But I'l have this in mind."
   ]
  },
  {
   "cell_type": "markdown",
   "metadata": {},
   "source": [
    "# 1.2.  Description of all features in the data set."
   ]
  },
  {
   "cell_type": "markdown",
   "metadata": {},
   "source": [
    "**Predictors (independent feature) variables:**\n",
    "\n",
    "1.  **age** - numerical continuous: variable: age of the customer.\n",
    "2. **employment_type** - categorical variable: the sector in which customer is employed. Possible outcomes:\n",
    "- government sector - 0;\n",
    "- private sector/self/employed - 1.\n",
    "3. **graduate_or_not** - boolean: yes/no: whether the customer is college graduate or not.\n",
    "4. **annual_income** - numerical continuous variable: the yearly income of the customer in Indian Rupees: rounded to nearest 50 thousand rupees.\n",
    "5. **family_members** - numerical discrete variable: number of members in customer's family.\n",
    "6. **chronic_disease** - boolean: 1-yes/0-no: whether the customer suffers from any major disease or conditions like diabetes/high BP or asthma, etc. - increases the possibility of heavier forms of Covid-19.\n",
    "7. **frequent_flyer** - boolean: yes/no: derived data based on customer's history of booking air tickets on at least 4 different instances in the last 2 years: 2017-2019.\n",
    "8. **ever_travelled_abroad** - boolean: yes/no: has the customer ever travelled to a foreign country (not necessarily using the company's services).\n",
    "\n",
    "\n",
    "**Target (dependent feature) variable:**\n",
    "\n",
    "9. **travel_insurance** - boolean:0-no/1-yes: did the customer buy travel insurance package during introductory offering held in the year 2019."
   ]
  },
  {
   "cell_type": "markdown",
   "metadata": {},
   "source": [
    "# 2. EDA"
   ]
  },
  {
   "cell_type": "markdown",
   "metadata": {},
   "source": [
    "## 2.1. Target variable - travel_insurance. \n",
    "\n",
    "How many persons got travel insurance in this dataset?"
   ]
  },
  {
   "cell_type": "code",
   "execution_count": 13,
   "metadata": {},
   "outputs": [
    {
     "data": {
      "text/plain": [
       "1987"
      ]
     },
     "execution_count": 13,
     "metadata": {},
     "output_type": "execute_result"
    }
   ],
   "source": [
    "len(insurance_df.travel_insurance)"
   ]
  },
  {
   "cell_type": "markdown",
   "metadata": {},
   "source": [
    "So total number of observations is 1987. From them:"
   ]
  },
  {
   "cell_type": "code",
   "execution_count": 14,
   "metadata": {},
   "outputs": [
    {
     "data": {
      "image/png": "[encoded data removed]",
      "text/plain": [
       "<Figure size 576x288 with 1 Axes>"
      ]
     },
     "metadata": {},
     "output_type": "display_data"
    }
   ],
   "source": [
    "mf.plot_countplot(\n",
    "    insurance_df,\n",
    "    \"travel_insurance\",\n",
    "    None,\n",
    "    \"Number of (not)bought Travel insurance packages with covid-19 coverage\",\n",
    ")"
   ]
  },
  {
   "cell_type": "markdown",
   "metadata": {},
   "source": [
    "1277 people did not buy this package of travel insurance and 710 did. Now let's see all independent features and what relationship between each of them and the target variable could be identified. So data set is imbalanced. We have more outcome of non purchased travel insurance packages. Let's see how many duplicates are there, as those for sure can be removed."
   ]
  },
  {
   "cell_type": "code",
   "execution_count": 17,
   "metadata": {},
   "outputs": [
    {
     "data": {
      "text/plain": [
       "511"
      ]
     },
     "execution_count": 17,
     "metadata": {},
     "output_type": "execute_result"
    }
   ],
   "source": [
    "insurance_df[insurance_df['travel_insurance'] == 'no'].duplicated().sum()"
   ]
  },
  {
   "cell_type": "markdown",
   "metadata": {},
   "source": [
    "So these values for sure could be removed in the feature preprocessing stage."
   ]
  },
  {
   "cell_type": "markdown",
   "metadata": {},
   "source": [
    "## 2.2. Independent features\n",
    "### 2.2.1. **age**"
   ]
  },
  {
   "cell_type": "code",
   "execution_count": 15,
   "metadata": {},
   "outputs": [
    {
     "data": {
      "text/plain": [
       "count   1987.00\n",
       "mean      29.65\n",
       "std        2.91\n",
       "min       25.00\n",
       "25%       28.00\n",
       "50%       29.00\n",
       "75%       32.00\n",
       "max       35.00\n",
       "Name: age, dtype: float64"
      ]
     },
     "execution_count": 15,
     "metadata": {},
     "output_type": "execute_result"
    }
   ],
   "source": [
    "insurance_df.age.describe()"
   ]
  },
  {
   "cell_type": "markdown",
   "metadata": {},
   "source": [
    "So we see that, travel insurance with included covid-19 package was offered to people in age between 25 and 35, mostly to almost thirty yer olds."
   ]
  },
  {
   "cell_type": "code",
   "execution_count": 16,
   "metadata": {},
   "outputs": [
    {
     "data": {
      "image/png": "[encoded data removed]",
      "text/plain": [
       "<Figure size 576x288 with 1 Axes>"
      ]
     },
     "metadata": {},
     "output_type": "display_data"
    }
   ],
   "source": [
    "mf.plot_countplot(insurance_df, \"age\", None, \"Number of respondents by age\")"
   ]
  },
  {
   "cell_type": "markdown",
   "metadata": {},
   "source": [
    "The count plot confirms that mostly this covid-19 insurance package was offered to people of age 28 (506 times), the next largest group were people of age 34 years old - 266 times and 31 years old - 234 times. In total the range of age is very narrow and it doesn't cover older people, which are in the risk group of more complicated covid-19 forms and could be more interested in this kind of insurance."
   ]
  },
  {
   "cell_type": "code",
   "execution_count": 18,
   "metadata": {},
   "outputs": [
    {
     "data": {
      "text/html": [
       "<div>\n",
       "<style scoped>\n",
       "    .dataframe tbody tr th:only-of-type {\n",
       "        vertical-align: middle;\n",
       "    }\n",
       "\n",
       "    .dataframe tbody tr th {\n",
       "        vertical-align: top;\n",
       "    }\n",
       "\n",
       "    .dataframe thead th {\n",
       "        text-align: right;\n",
       "    }\n",
       "</style>\n",
       "<table border=\"1\" class=\"dataframe\">\n",
       "  <thead>\n",
       "    <tr style=\"text-align: right;\">\n",
       "      <th></th>\n",
       "      <th>age</th>\n",
       "      <th>travel_insurance</th>\n",
       "      <th>number_by_age</th>\n",
       "      <th>percentage</th>\n",
       "    </tr>\n",
       "  </thead>\n",
       "  <tbody>\n",
       "    <tr>\n",
       "      <th>0</th>\n",
       "      <td>25</td>\n",
       "      <td>yes</td>\n",
       "      <td>92</td>\n",
       "      <td>63.01</td>\n",
       "    </tr>\n",
       "    <tr>\n",
       "      <th>1</th>\n",
       "      <td>25</td>\n",
       "      <td>no</td>\n",
       "      <td>54</td>\n",
       "      <td>36.99</td>\n",
       "    </tr>\n",
       "    <tr>\n",
       "      <th>2</th>\n",
       "      <td>26</td>\n",
       "      <td>no</td>\n",
       "      <td>74</td>\n",
       "      <td>50.00</td>\n",
       "    </tr>\n",
       "    <tr>\n",
       "      <th>3</th>\n",
       "      <td>26</td>\n",
       "      <td>yes</td>\n",
       "      <td>74</td>\n",
       "      <td>50.00</td>\n",
       "    </tr>\n",
       "    <tr>\n",
       "      <th>4</th>\n",
       "      <td>27</td>\n",
       "      <td>no</td>\n",
       "      <td>104</td>\n",
       "      <td>79.39</td>\n",
       "    </tr>\n",
       "    <tr>\n",
       "      <th>5</th>\n",
       "      <td>27</td>\n",
       "      <td>yes</td>\n",
       "      <td>27</td>\n",
       "      <td>20.61</td>\n",
       "    </tr>\n",
       "    <tr>\n",
       "      <th>6</th>\n",
       "      <td>28</td>\n",
       "      <td>no</td>\n",
       "      <td>401</td>\n",
       "      <td>79.25</td>\n",
       "    </tr>\n",
       "    <tr>\n",
       "      <th>7</th>\n",
       "      <td>28</td>\n",
       "      <td>yes</td>\n",
       "      <td>105</td>\n",
       "      <td>20.75</td>\n",
       "    </tr>\n",
       "    <tr>\n",
       "      <th>8</th>\n",
       "      <td>29</td>\n",
       "      <td>no</td>\n",
       "      <td>141</td>\n",
       "      <td>73.44</td>\n",
       "    </tr>\n",
       "    <tr>\n",
       "      <th>9</th>\n",
       "      <td>29</td>\n",
       "      <td>yes</td>\n",
       "      <td>51</td>\n",
       "      <td>26.56</td>\n",
       "    </tr>\n",
       "    <tr>\n",
       "      <th>10</th>\n",
       "      <td>30</td>\n",
       "      <td>no</td>\n",
       "      <td>37</td>\n",
       "      <td>56.92</td>\n",
       "    </tr>\n",
       "    <tr>\n",
       "      <th>11</th>\n",
       "      <td>30</td>\n",
       "      <td>yes</td>\n",
       "      <td>28</td>\n",
       "      <td>43.08</td>\n",
       "    </tr>\n",
       "    <tr>\n",
       "      <th>12</th>\n",
       "      <td>31</td>\n",
       "      <td>no</td>\n",
       "      <td>159</td>\n",
       "      <td>67.95</td>\n",
       "    </tr>\n",
       "    <tr>\n",
       "      <th>13</th>\n",
       "      <td>31</td>\n",
       "      <td>yes</td>\n",
       "      <td>75</td>\n",
       "      <td>32.05</td>\n",
       "    </tr>\n",
       "    <tr>\n",
       "      <th>14</th>\n",
       "      <td>32</td>\n",
       "      <td>no</td>\n",
       "      <td>72</td>\n",
       "      <td>79.12</td>\n",
       "    </tr>\n",
       "    <tr>\n",
       "      <th>15</th>\n",
       "      <td>32</td>\n",
       "      <td>yes</td>\n",
       "      <td>19</td>\n",
       "      <td>20.88</td>\n",
       "    </tr>\n",
       "    <tr>\n",
       "      <th>16</th>\n",
       "      <td>33</td>\n",
       "      <td>yes</td>\n",
       "      <td>78</td>\n",
       "      <td>52.70</td>\n",
       "    </tr>\n",
       "    <tr>\n",
       "      <th>17</th>\n",
       "      <td>33</td>\n",
       "      <td>no</td>\n",
       "      <td>70</td>\n",
       "      <td>47.30</td>\n",
       "    </tr>\n",
       "    <tr>\n",
       "      <th>18</th>\n",
       "      <td>34</td>\n",
       "      <td>no</td>\n",
       "      <td>133</td>\n",
       "      <td>50.00</td>\n",
       "    </tr>\n",
       "    <tr>\n",
       "      <th>19</th>\n",
       "      <td>34</td>\n",
       "      <td>yes</td>\n",
       "      <td>133</td>\n",
       "      <td>50.00</td>\n",
       "    </tr>\n",
       "    <tr>\n",
       "      <th>20</th>\n",
       "      <td>35</td>\n",
       "      <td>no</td>\n",
       "      <td>32</td>\n",
       "      <td>53.33</td>\n",
       "    </tr>\n",
       "    <tr>\n",
       "      <th>21</th>\n",
       "      <td>35</td>\n",
       "      <td>yes</td>\n",
       "      <td>28</td>\n",
       "      <td>46.67</td>\n",
       "    </tr>\n",
       "  </tbody>\n",
       "</table>\n",
       "</div>"
      ],
      "text/plain": [
       "    age travel_insurance  number_by_age  percentage\n",
       "0    25              yes             92       63.01\n",
       "1    25               no             54       36.99\n",
       "2    26               no             74       50.00\n",
       "3    26              yes             74       50.00\n",
       "4    27               no            104       79.39\n",
       "5    27              yes             27       20.61\n",
       "6    28               no            401       79.25\n",
       "7    28              yes            105       20.75\n",
       "8    29               no            141       73.44\n",
       "9    29              yes             51       26.56\n",
       "10   30               no             37       56.92\n",
       "11   30              yes             28       43.08\n",
       "12   31               no            159       67.95\n",
       "13   31              yes             75       32.05\n",
       "14   32               no             72       79.12\n",
       "15   32              yes             19       20.88\n",
       "16   33              yes             78       52.70\n",
       "17   33               no             70       47.30\n",
       "18   34               no            133       50.00\n",
       "19   34              yes            133       50.00\n",
       "20   35               no             32       53.33\n",
       "21   35              yes             28       46.67"
      ]
     },
     "execution_count": 18,
     "metadata": {},
     "output_type": "execute_result"
    }
   ],
   "source": [
    "age_insurance = pd.DataFrame(\n",
    "    {\n",
    "        'number_by_age': insurance_df.groupby(['age'])[\n",
    "            'travel_insurance'\n",
    "        ].value_counts(),\n",
    "        'percentage': insurance_df.groupby(['age'])['travel_insurance'].value_counts(\n",
    "            normalize=True\n",
    "        )\n",
    "        * 100,\n",
    "    }\n",
    ").reset_index()\n",
    "age_insurance['travel_insurance'] = age_insurance['travel_insurance'].replace(\n",
    "    {1: 'yes', 0: 'no'}\n",
    ")\n",
    "age_insurance['percentage'] = age_insurance['percentage'].round(2)\n",
    "age_insurance"
   ]
  },
  {
   "cell_type": "code",
   "execution_count": 19,
   "metadata": {},
   "outputs": [
    {
     "data": {
      "application/vnd.plotly.v1+json": {
       "config": {
        "plotlyServerURL": "https://plot.ly"
       },
       "data": [
        {
         "hovertemplate": "travel_insurance=yes<br>age=%{x}<br>number_by_age=%{text}<extra></extra>",
         "legendgroup": "yes",
         "line": {
          "color": "#636efa",
          "dash": "solid"
         },
         "marker": {
          "symbol": "circle"
         },
         "mode": "lines+markers+text",
         "name": "yes",
         "orientation": "v",
         "showlegend": true,
         "text": [
          92,
          74,
          27,
          105,
          51,
          28,
          75,
          19,
          78,
          133,
          28
         ],
         "textposition": "top left",
         "type": "scatter",
         "x": [
          25,
          26,
          27,
          28,
          29,
          30,
          31,
          32,
          33,
          34,
          35
         ],
         "xaxis": "x",
         "y": [
          92,
          74,
          27,
          105,
          51,
          28,
          75,
          19,
          78,
          133,
          28
         ],
         "yaxis": "y"
        },
        {
         "hovertemplate": "travel_insurance=no<br>age=%{x}<br>number_by_age=%{text}<extra></extra>",
         "legendgroup": "no",
         "line": {
          "color": "#EF553B",
          "dash": "solid"
         },
         "marker": {
          "symbol": "circle"
         },
         "mode": "lines+markers+text",
         "name": "no",
         "orientation": "v",
         "showlegend": true,
         "text": [
          54,
          74,
          104,
          401,
          141,
          37,
          159,
          72,
          70,
          133,
          32
         ],
         "textposition": "top left",
         "type": "scatter",
         "x": [
          25,
          26,
          27,
          28,
          29,
          30,
          31,
          32,
          33,
          34,
          35
         ],
         "xaxis": "x",
         "y": [
          54,
          74,
          104,
          401,
          141,
          37,
          159,
          72,
          70,
          133,
          32
         ],
         "yaxis": "y"
        }
       ],
       "layout": {
        "legend": {
         "title": {
          "text": ""
         },
         "tracegroupgap": 0
        },
        "margin": {
         "t": 60
        },
        "template": {
         "data": {
          "bar": [
           {
            "error_x": {
             "color": "#2a3f5f"
            },
            "error_y": {
             "color": "#2a3f5f"
            },
            "marker": {
             "line": {
              "color": "#E5ECF6",
              "width": 0.5
             },
             "pattern": {
              "fillmode": "overlay",
              "size": 10,
              "solidity": 0.2
             }
            },
            "type": "bar"
           }
          ],
          "barpolar": [
           {
            "marker": {
             "line": {
              "color": "#E5ECF6",
              "width": 0.5
             },
             "pattern": {
              "fillmode": "overlay",
              "size": 10,
              "solidity": 0.2
             }
            },
            "type": "barpolar"
           }
          ],
          "carpet": [
           {
            "aaxis": {
             "endlinecolor": "#2a3f5f",
             "gridcolor": "white",
             "linecolor": "white",
             "minorgridcolor": "white",
             "startlinecolor": "#2a3f5f"
            },
            "baxis": {
             "endlinecolor": "#2a3f5f",
             "gridcolor": "white",
             "linecolor": "white",
             "minorgridcolor": "white",
             "startlinecolor": "#2a3f5f"
            },
            "type": "carpet"
           }
          ],
          "choropleth": [
           {
            "colorbar": {
             "outlinewidth": 0,
             "ticks": ""
            },
            "type": "choropleth"
           }
          ],
          "contour": [
           {
            "colorbar": {
             "outlinewidth": 0,
             "ticks": ""
            },
            "colorscale": [
             [
              0,
              "#0d0887"
             ],
             [
              0.1111111111111111,
              "#46039f"
             ],
             [
              0.2222222222222222,
              "#7201a8"
             ],
             [
              0.3333333333333333,
              "#9c179e"
             ],
             [
              0.4444444444444444,
              "#bd3786"
             ],
             [
              0.5555555555555556,
              "#d8576b"
             ],
             [
              0.6666666666666666,
              "#ed7953"
             ],
             [
              0.7777777777777778,
              "#fb9f3a"
             ],
             [
              0.8888888888888888,
              "#fdca26"
             ],
             [
              1,
              "#f0f921"
             ]
            ],
            "type": "contour"
           }
          ],
          "contourcarpet": [
           {
            "colorbar": {
             "outlinewidth": 0,
             "ticks": ""
            },
            "type": "contourcarpet"
           }
          ],
          "heatmap": [
           {
            "colorbar": {
             "outlinewidth": 0,
             "ticks": ""
            },
            "colorscale": [
             [
              0,
              "#0d0887"
             ],
             [
              0.1111111111111111,
              "#46039f"
             ],
             [
              0.2222222222222222,
              "#7201a8"
             ],
             [
              0.3333333333333333,
              "#9c179e"
             ],
             [
              0.4444444444444444,
              "#bd3786"
             ],
             [
              0.5555555555555556,
              "#d8576b"
             ],
             [
              0.6666666666666666,
              "#ed7953"
             ],
             [
              0.7777777777777778,
              "#fb9f3a"
             ],
             [
              0.8888888888888888,
              "#fdca26"
             ],
             [
              1,
              "#f0f921"
             ]
            ],
            "type": "heatmap"
           }
          ],
          "heatmapgl": [
           {
            "colorbar": {
             "outlinewidth": 0,
             "ticks": ""
            },
            "colorscale": [
             [
              0,
              "#0d0887"
             ],
             [
              0.1111111111111111,
              "#46039f"
             ],
             [
              0.2222222222222222,
              "#7201a8"
             ],
             [
              0.3333333333333333,
              "#9c179e"
             ],
             [
              0.4444444444444444,
              "#bd3786"
             ],
             [
              0.5555555555555556,
              "#d8576b"
             ],
             [
              0.6666666666666666,
              "#ed7953"
             ],
             [
              0.7777777777777778,
              "#fb9f3a"
             ],
             [
              0.8888888888888888,
              "#fdca26"
             ],
             [
              1,
              "#f0f921"
             ]
            ],
            "type": "heatmapgl"
           }
          ],
          "histogram": [
           {
            "marker": {
             "pattern": {
              "fillmode": "overlay",
              "size": 10,
              "solidity": 0.2
             }
            },
            "type": "histogram"
           }
          ],
          "histogram2d": [
           {
            "colorbar": {
             "outlinewidth": 0,
             "ticks": ""
            },
            "colorscale": [
             [
              0,
              "#0d0887"
             ],
             [
              0.1111111111111111,
              "#46039f"
             ],
             [
              0.2222222222222222,
              "#7201a8"
             ],
             [
              0.3333333333333333,
              "#9c179e"
             ],
             [
              0.4444444444444444,
              "#bd3786"
             ],
             [
              0.5555555555555556,
              "#d8576b"
             ],
             [
              0.6666666666666666,
              "#ed7953"
             ],
             [
              0.7777777777777778,
              "#fb9f3a"
             ],
             [
              0.8888888888888888,
              "#fdca26"
             ],
             [
              1,
              "#f0f921"
             ]
            ],
            "type": "histogram2d"
           }
          ],
          "histogram2dcontour": [
           {
            "colorbar": {
             "outlinewidth": 0,
             "ticks": ""
            },
            "colorscale": [
             [
              0,
              "#0d0887"
             ],
             [
              0.1111111111111111,
              "#46039f"
             ],
             [
              0.2222222222222222,
              "#7201a8"
             ],
             [
              0.3333333333333333,
              "#9c179e"
             ],
             [
              0.4444444444444444,
              "#bd3786"
             ],
             [
              0.5555555555555556,
              "#d8576b"
             ],
             [
              0.6666666666666666,
              "#ed7953"
             ],
             [
              0.7777777777777778,
              "#fb9f3a"
             ],
             [
              0.8888888888888888,
              "#fdca26"
             ],
             [
              1,
              "#f0f921"
             ]
            ],
            "type": "histogram2dcontour"
           }
          ],
          "mesh3d": [
           {
            "colorbar": {
             "outlinewidth": 0,
             "ticks": ""
            },
            "type": "mesh3d"
           }
          ],
          "parcoords": [
           {
            "line": {
             "colorbar": {
              "outlinewidth": 0,
              "ticks": ""
             }
            },
            "type": "parcoords"
           }
          ],
          "pie": [
           {
            "automargin": true,
            "type": "pie"
           }
          ],
          "scatter": [
           {
            "fillpattern": {
             "fillmode": "overlay",
             "size": 10,
             "solidity": 0.2
            },
            "type": "scatter"
           }
          ],
          "scatter3d": [
           {
            "line": {
             "colorbar": {
              "outlinewidth": 0,
              "ticks": ""
             }
            },
            "marker": {
             "colorbar": {
              "outlinewidth": 0,
              "ticks": ""
             }
            },
            "type": "scatter3d"
           }
          ],
          "scattercarpet": [
           {
            "marker": {
             "colorbar": {
              "outlinewidth": 0,
              "ticks": ""
             }
            },
            "type": "scattercarpet"
           }
          ],
          "scattergeo": [
           {
            "marker": {
             "colorbar": {
              "outlinewidth": 0,
              "ticks": ""
             }
            },
            "type": "scattergeo"
           }
          ],
          "scattergl": [
           {
            "marker": {
             "colorbar": {
              "outlinewidth": 0,
              "ticks": ""
             }
            },
            "type": "scattergl"
           }
          ],
          "scattermapbox": [
           {
            "marker": {
             "colorbar": {
              "outlinewidth": 0,
              "ticks": ""
             }
            },
            "type": "scattermapbox"
           }
          ],
          "scatterpolar": [
           {
            "marker": {
             "colorbar": {
              "outlinewidth": 0,
              "ticks": ""
             }
            },
            "type": "scatterpolar"
           }
          ],
          "scatterpolargl": [
           {
            "marker": {
             "colorbar": {
              "outlinewidth": 0,
              "ticks": ""
             }
            },
            "type": "scatterpolargl"
           }
          ],
          "scatterternary": [
           {
            "marker": {
             "colorbar": {
              "outlinewidth": 0,
              "ticks": ""
             }
            },
            "type": "scatterternary"
           }
          ],
          "surface": [
           {
            "colorbar": {
             "outlinewidth": 0,
             "ticks": ""
            },
            "colorscale": [
             [
              0,
              "#0d0887"
             ],
             [
              0.1111111111111111,
              "#46039f"
             ],
             [
              0.2222222222222222,
              "#7201a8"
             ],
             [
              0.3333333333333333,
              "#9c179e"
             ],
             [
              0.4444444444444444,
              "#bd3786"
             ],
             [
              0.5555555555555556,
              "#d8576b"
             ],
             [
              0.6666666666666666,
              "#ed7953"
             ],
             [
              0.7777777777777778,
              "#fb9f3a"
             ],
             [
              0.8888888888888888,
              "#fdca26"
             ],
             [
              1,
              "#f0f921"
             ]
            ],
            "type": "surface"
           }
          ],
          "table": [
           {
            "cells": {
             "fill": {
              "color": "#EBF0F8"
             },
             "line": {
              "color": "white"
             }
            },
            "header": {
             "fill": {
              "color": "#C8D4E3"
             },
             "line": {
              "color": "white"
             }
            },
            "type": "table"
           }
          ]
         },
         "layout": {
          "annotationdefaults": {
           "arrowcolor": "#2a3f5f",
           "arrowhead": 0,
           "arrowwidth": 1
          },
          "autotypenumbers": "strict",
          "coloraxis": {
           "colorbar": {
            "outlinewidth": 0,
            "ticks": ""
           }
          },
          "colorscale": {
           "diverging": [
            [
             0,
             "#8e0152"
            ],
            [
             0.1,
             "#c51b7d"
            ],
            [
             0.2,
             "#de77ae"
            ],
            [
             0.3,
             "#f1b6da"
            ],
            [
             0.4,
             "#fde0ef"
            ],
            [
             0.5,
             "#f7f7f7"
            ],
            [
             0.6,
             "#e6f5d0"
            ],
            [
             0.7,
             "#b8e186"
            ],
            [
             0.8,
             "#7fbc41"
            ],
            [
             0.9,
             "#4d9221"
            ],
            [
             1,
             "#276419"
            ]
           ],
           "sequential": [
            [
             0,
             "#0d0887"
            ],
            [
             0.1111111111111111,
             "#46039f"
            ],
            [
             0.2222222222222222,
             "#7201a8"
            ],
            [
             0.3333333333333333,
             "#9c179e"
            ],
            [
             0.4444444444444444,
             "#bd3786"
            ],
            [
             0.5555555555555556,
             "#d8576b"
            ],
            [
             0.6666666666666666,
             "#ed7953"
            ],
            [
             0.7777777777777778,
             "#fb9f3a"
            ],
            [
             0.8888888888888888,
             "#fdca26"
            ],
            [
             1,
             "#f0f921"
            ]
           ],
           "sequentialminus": [
            [
             0,
             "#0d0887"
            ],
            [
             0.1111111111111111,
             "#46039f"
            ],
            [
             0.2222222222222222,
             "#7201a8"
            ],
            [
             0.3333333333333333,
             "#9c179e"
            ],
            [
             0.4444444444444444,
             "#bd3786"
            ],
            [
             0.5555555555555556,
             "#d8576b"
            ],
            [
             0.6666666666666666,
             "#ed7953"
            ],
            [
             0.7777777777777778,
             "#fb9f3a"
            ],
            [
             0.8888888888888888,
             "#fdca26"
            ],
            [
             1,
             "#f0f921"
            ]
           ]
          },
          "colorway": [
           "#636efa",
           "#EF553B",
           "#00cc96",
           "#ab63fa",
           "#FFA15A",
           "#19d3f3",
           "#FF6692",
           "#B6E880",
           "#FF97FF",
           "#FECB52"
          ],
          "font": {
           "color": "#2a3f5f"
          },
          "geo": {
           "bgcolor": "white",
           "lakecolor": "white",
           "landcolor": "#E5ECF6",
           "showlakes": true,
           "showland": true,
           "subunitcolor": "white"
          },
          "hoverlabel": {
           "align": "left"
          },
          "hovermode": "closest",
          "mapbox": {
           "style": "light"
          },
          "paper_bgcolor": "white",
          "plot_bgcolor": "#E5ECF6",
          "polar": {
           "angularaxis": {
            "gridcolor": "white",
            "linecolor": "white",
            "ticks": ""
           },
           "bgcolor": "#E5ECF6",
           "radialaxis": {
            "gridcolor": "white",
            "linecolor": "white",
            "ticks": ""
           }
          },
          "scene": {
           "xaxis": {
            "backgroundcolor": "#E5ECF6",
            "gridcolor": "white",
            "gridwidth": 2,
            "linecolor": "white",
            "showbackground": true,
            "ticks": "",
            "zerolinecolor": "white"
           },
           "yaxis": {
            "backgroundcolor": "#E5ECF6",
            "gridcolor": "white",
            "gridwidth": 2,
            "linecolor": "white",
            "showbackground": true,
            "ticks": "",
            "zerolinecolor": "white"
           },
           "zaxis": {
            "backgroundcolor": "#E5ECF6",
            "gridcolor": "white",
            "gridwidth": 2,
            "linecolor": "white",
            "showbackground": true,
            "ticks": "",
            "zerolinecolor": "white"
           }
          },
          "shapedefaults": {
           "line": {
            "color": "#2a3f5f"
           }
          },
          "ternary": {
           "aaxis": {
            "gridcolor": "white",
            "linecolor": "white",
            "ticks": ""
           },
           "baxis": {
            "gridcolor": "white",
            "linecolor": "white",
            "ticks": ""
           },
           "bgcolor": "#E5ECF6",
           "caxis": {
            "gridcolor": "white",
            "linecolor": "white",
            "ticks": ""
           }
          },
          "title": {
           "x": 0.05
          },
          "xaxis": {
           "automargin": true,
           "gridcolor": "white",
           "linecolor": "white",
           "ticks": "",
           "title": {
            "standoff": 15
           },
           "zerolinecolor": "white",
           "zerolinewidth": 2
          },
          "yaxis": {
           "automargin": true,
           "gridcolor": "white",
           "linecolor": "white",
           "ticks": "",
           "title": {
            "standoff": 15
           },
           "zerolinecolor": "white",
           "zerolinewidth": 2
          }
         }
        },
        "title": {
         "text": "Number of (not)purchased travel insurance by age"
        },
        "xaxis": {
         "anchor": "y",
         "domain": [
          0,
          1
         ],
         "title": {
          "text": "age"
         }
        },
        "yaxis": {
         "anchor": "x",
         "domain": [
          0,
          1
         ],
         "title": {
          "text": "number_by_age"
         }
        }
       }
      }
     },
     "metadata": {},
     "output_type": "display_data"
    }
   ],
   "source": [
    "mf.plot_line_plot_plotly(age_insurance, 'age', 'number_by_age', 'travel_insurance', 'Number of (not)purchased travel insurance by age')"
   ]
  },
  {
   "cell_type": "code",
   "execution_count": 22,
   "metadata": {},
   "outputs": [
    {
     "data": {
      "image/png": "[encoded data removed]",
      "text/plain": [
       "<IPython.core.display.Image object>"
      ]
     },
     "execution_count": 22,
     "metadata": {},
     "output_type": "execute_result"
    }
   ],
   "source": [
    "# If plotly doesn't show a chart, here it is.\n",
    "Image(filename='png\\line_chart_by_age.png')"
   ]
  },
  {
   "cell_type": "markdown",
   "metadata": {},
   "source": [
    "Despite the fact, that the largest group of people offered with this insurance was of age 28 (in total 506, bought only 105), the largest number of people that actually bought this insurance was in the age of 34 - bought 133. "
   ]
  },
  {
   "cell_type": "code",
   "execution_count": 20,
   "metadata": {},
   "outputs": [],
   "source": [
    "# data preparation for plotting\n",
    "age_insurance_yes = age_insurance[age_insurance['travel_insurance'] == 'yes'][\n",
    "    ['age', 'percentage']\n",
    "]\n",
    "age_insurance_no = age_insurance[age_insurance['travel_insurance'] == 'no'][\n",
    "    ['age', 'percentage']\n",
    "]\n",
    "age_insurance_perc = pd.merge(\n",
    "    age_insurance_yes, age_insurance_no, on='age', suffixes=('_yes', '_no')\n",
    ")"
   ]
  },
  {
   "cell_type": "code",
   "execution_count": 21,
   "metadata": {},
   "outputs": [
    {
     "data": {
      "application/vnd.plotly.v1+json": {
       "config": {
        "plotlyServerURL": "https://plot.ly"
       },
       "data": [
        {
         "alignmentgroup": "True",
         "hovertemplate": "variable=percentage_yes<br>age=%{x}<br>value=%{y}<extra></extra>",
         "legendgroup": "percentage_yes",
         "marker": {
          "color": "#26828e",
          "pattern": {
           "shape": ""
          }
         },
         "name": "percentage_yes",
         "offsetgroup": "percentage_yes",
         "orientation": "v",
         "showlegend": true,
         "textposition": "auto",
         "texttemplate": "%{y}",
         "type": "bar",
         "x": [
          25,
          26,
          27,
          28,
          29,
          30,
          31,
          32,
          33,
          34,
          35
         ],
         "xaxis": "x",
         "y": [
          63.01,
          50,
          20.61,
          20.75,
          26.56,
          43.08,
          32.05,
          20.88,
          52.7,
          50,
          46.67
         ],
         "yaxis": "y"
        },
        {
         "alignmentgroup": "True",
         "hovertemplate": "variable=percentage_no<br>age=%{x}<br>value=%{y}<extra></extra>",
         "legendgroup": "percentage_no",
         "marker": {
          "color": "#35b779",
          "pattern": {
           "shape": ""
          }
         },
         "name": "percentage_no",
         "offsetgroup": "percentage_no",
         "orientation": "v",
         "showlegend": true,
         "textposition": "auto",
         "texttemplate": "%{y}",
         "type": "bar",
         "x": [
          25,
          26,
          27,
          28,
          29,
          30,
          31,
          32,
          33,
          34,
          35
         ],
         "xaxis": "x",
         "y": [
          36.99,
          50,
          79.39,
          79.25,
          73.44,
          56.92,
          67.95,
          79.12,
          47.3,
          50,
          53.33
         ],
         "yaxis": "y"
        }
       ],
       "layout": {
        "barmode": "relative",
        "legend": {
         "title": {
          "text": "Bought insurance:"
         },
         "tracegroupgap": 0
        },
        "template": {
         "data": {
          "bar": [
           {
            "error_x": {
             "color": "#2a3f5f"
            },
            "error_y": {
             "color": "#2a3f5f"
            },
            "marker": {
             "line": {
              "color": "#E5ECF6",
              "width": 0.5
             },
             "pattern": {
              "fillmode": "overlay",
              "size": 10,
              "solidity": 0.2
             }
            },
            "type": "bar"
           }
          ],
          "barpolar": [
           {
            "marker": {
             "line": {
              "color": "#E5ECF6",
              "width": 0.5
             },
             "pattern": {
              "fillmode": "overlay",
              "size": 10,
              "solidity": 0.2
             }
            },
            "type": "barpolar"
           }
          ],
          "carpet": [
           {
            "aaxis": {
             "endlinecolor": "#2a3f5f",
             "gridcolor": "white",
             "linecolor": "white",
             "minorgridcolor": "white",
             "startlinecolor": "#2a3f5f"
            },
            "baxis": {
             "endlinecolor": "#2a3f5f",
             "gridcolor": "white",
             "linecolor": "white",
             "minorgridcolor": "white",
             "startlinecolor": "#2a3f5f"
            },
            "type": "carpet"
           }
          ],
          "choropleth": [
           {
            "colorbar": {
             "outlinewidth": 0,
             "ticks": ""
            },
            "type": "choropleth"
           }
          ],
          "contour": [
           {
            "colorbar": {
             "outlinewidth": 0,
             "ticks": ""
            },
            "colorscale": [
             [
              0,
              "#0d0887"
             ],
             [
              0.1111111111111111,
              "#46039f"
             ],
             [
              0.2222222222222222,
              "#7201a8"
             ],
             [
              0.3333333333333333,
              "#9c179e"
             ],
             [
              0.4444444444444444,
              "#bd3786"
             ],
             [
              0.5555555555555556,
              "#d8576b"
             ],
             [
              0.6666666666666666,
              "#ed7953"
             ],
             [
              0.7777777777777778,
              "#fb9f3a"
             ],
             [
              0.8888888888888888,
              "#fdca26"
             ],
             [
              1,
              "#f0f921"
             ]
            ],
            "type": "contour"
           }
          ],
          "contourcarpet": [
           {
            "colorbar": {
             "outlinewidth": 0,
             "ticks": ""
            },
            "type": "contourcarpet"
           }
          ],
          "heatmap": [
           {
            "colorbar": {
             "outlinewidth": 0,
             "ticks": ""
            },
            "colorscale": [
             [
              0,
              "#0d0887"
             ],
             [
              0.1111111111111111,
              "#46039f"
             ],
             [
              0.2222222222222222,
              "#7201a8"
             ],
             [
              0.3333333333333333,
              "#9c179e"
             ],
             [
              0.4444444444444444,
              "#bd3786"
             ],
             [
              0.5555555555555556,
              "#d8576b"
             ],
             [
              0.6666666666666666,
              "#ed7953"
             ],
             [
              0.7777777777777778,
              "#fb9f3a"
             ],
             [
              0.8888888888888888,
              "#fdca26"
             ],
             [
              1,
              "#f0f921"
             ]
            ],
            "type": "heatmap"
           }
          ],
          "heatmapgl": [
           {
            "colorbar": {
             "outlinewidth": 0,
             "ticks": ""
            },
            "colorscale": [
             [
              0,
              "#0d0887"
             ],
             [
              0.1111111111111111,
              "#46039f"
             ],
             [
              0.2222222222222222,
              "#7201a8"
             ],
             [
              0.3333333333333333,
              "#9c179e"
             ],
             [
              0.4444444444444444,
              "#bd3786"
             ],
             [
              0.5555555555555556,
              "#d8576b"
             ],
             [
              0.6666666666666666,
              "#ed7953"
             ],
             [
              0.7777777777777778,
              "#fb9f3a"
             ],
             [
              0.8888888888888888,
              "#fdca26"
             ],
             [
              1,
              "#f0f921"
             ]
            ],
            "type": "heatmapgl"
           }
          ],
          "histogram": [
           {
            "marker": {
             "pattern": {
              "fillmode": "overlay",
              "size": 10,
              "solidity": 0.2
             }
            },
            "type": "histogram"
           }
          ],
          "histogram2d": [
           {
            "colorbar": {
             "outlinewidth": 0,
             "ticks": ""
            },
            "colorscale": [
             [
              0,
              "#0d0887"
             ],
             [
              0.1111111111111111,
              "#46039f"
             ],
             [
              0.2222222222222222,
              "#7201a8"
             ],
             [
              0.3333333333333333,
              "#9c179e"
             ],
             [
              0.4444444444444444,
              "#bd3786"
             ],
             [
              0.5555555555555556,
              "#d8576b"
             ],
             [
              0.6666666666666666,
              "#ed7953"
             ],
             [
              0.7777777777777778,
              "#fb9f3a"
             ],
             [
              0.8888888888888888,
              "#fdca26"
             ],
             [
              1,
              "#f0f921"
             ]
            ],
            "type": "histogram2d"
           }
          ],
          "histogram2dcontour": [
           {
            "colorbar": {
             "outlinewidth": 0,
             "ticks": ""
            },
            "colorscale": [
             [
              0,
              "#0d0887"
             ],
             [
              0.1111111111111111,
              "#46039f"
             ],
             [
              0.2222222222222222,
              "#7201a8"
             ],
             [
              0.3333333333333333,
              "#9c179e"
             ],
             [
              0.4444444444444444,
              "#bd3786"
             ],
             [
              0.5555555555555556,
              "#d8576b"
             ],
             [
              0.6666666666666666,
              "#ed7953"
             ],
             [
              0.7777777777777778,
              "#fb9f3a"
             ],
             [
              0.8888888888888888,
              "#fdca26"
             ],
             [
              1,
              "#f0f921"
             ]
            ],
            "type": "histogram2dcontour"
           }
          ],
          "mesh3d": [
           {
            "colorbar": {
             "outlinewidth": 0,
             "ticks": ""
            },
            "type": "mesh3d"
           }
          ],
          "parcoords": [
           {
            "line": {
             "colorbar": {
              "outlinewidth": 0,
              "ticks": ""
             }
            },
            "type": "parcoords"
           }
          ],
          "pie": [
           {
            "automargin": true,
            "type": "pie"
           }
          ],
          "scatter": [
           {
            "fillpattern": {
             "fillmode": "overlay",
             "size": 10,
             "solidity": 0.2
            },
            "type": "scatter"
           }
          ],
          "scatter3d": [
           {
            "line": {
             "colorbar": {
              "outlinewidth": 0,
              "ticks": ""
             }
            },
            "marker": {
             "colorbar": {
              "outlinewidth": 0,
              "ticks": ""
             }
            },
            "type": "scatter3d"
           }
          ],
          "scattercarpet": [
           {
            "marker": {
             "colorbar": {
              "outlinewidth": 0,
              "ticks": ""
             }
            },
            "type": "scattercarpet"
           }
          ],
          "scattergeo": [
           {
            "marker": {
             "colorbar": {
              "outlinewidth": 0,
              "ticks": ""
             }
            },
            "type": "scattergeo"
           }
          ],
          "scattergl": [
           {
            "marker": {
             "colorbar": {
              "outlinewidth": 0,
              "ticks": ""
             }
            },
            "type": "scattergl"
           }
          ],
          "scattermapbox": [
           {
            "marker": {
             "colorbar": {
              "outlinewidth": 0,
              "ticks": ""
             }
            },
            "type": "scattermapbox"
           }
          ],
          "scatterpolar": [
           {
            "marker": {
             "colorbar": {
              "outlinewidth": 0,
              "ticks": ""
             }
            },
            "type": "scatterpolar"
           }
          ],
          "scatterpolargl": [
           {
            "marker": {
             "colorbar": {
              "outlinewidth": 0,
              "ticks": ""
             }
            },
            "type": "scatterpolargl"
           }
          ],
          "scatterternary": [
           {
            "marker": {
             "colorbar": {
              "outlinewidth": 0,
              "ticks": ""
             }
            },
            "type": "scatterternary"
           }
          ],
          "surface": [
           {
            "colorbar": {
             "outlinewidth": 0,
             "ticks": ""
            },
            "colorscale": [
             [
              0,
              "#0d0887"
             ],
             [
              0.1111111111111111,
              "#46039f"
             ],
             [
              0.2222222222222222,
              "#7201a8"
             ],
             [
              0.3333333333333333,
              "#9c179e"
             ],
             [
              0.4444444444444444,
              "#bd3786"
             ],
             [
              0.5555555555555556,
              "#d8576b"
             ],
             [
              0.6666666666666666,
              "#ed7953"
             ],
             [
              0.7777777777777778,
              "#fb9f3a"
             ],
             [
              0.8888888888888888,
              "#fdca26"
             ],
             [
              1,
              "#f0f921"
             ]
            ],
            "type": "surface"
           }
          ],
          "table": [
           {
            "cells": {
             "fill": {
              "color": "#EBF0F8"
             },
             "line": {
              "color": "white"
             }
            },
            "header": {
             "fill": {
              "color": "#C8D4E3"
             },
             "line": {
              "color": "white"
             }
            },
            "type": "table"
           }
          ]
         },
         "layout": {
          "annotationdefaults": {
           "arrowcolor": "#2a3f5f",
           "arrowhead": 0,
           "arrowwidth": 1
          },
          "autotypenumbers": "strict",
          "coloraxis": {
           "colorbar": {
            "outlinewidth": 0,
            "ticks": ""
           }
          },
          "colorscale": {
           "diverging": [
            [
             0,
             "#8e0152"
            ],
            [
             0.1,
             "#c51b7d"
            ],
            [
             0.2,
             "#de77ae"
            ],
            [
             0.3,
             "#f1b6da"
            ],
            [
             0.4,
             "#fde0ef"
            ],
            [
             0.5,
             "#f7f7f7"
            ],
            [
             0.6,
             "#e6f5d0"
            ],
            [
             0.7,
             "#b8e186"
            ],
            [
             0.8,
             "#7fbc41"
            ],
            [
             0.9,
             "#4d9221"
            ],
            [
             1,
             "#276419"
            ]
           ],
           "sequential": [
            [
             0,
             "#0d0887"
            ],
            [
             0.1111111111111111,
             "#46039f"
            ],
            [
             0.2222222222222222,
             "#7201a8"
            ],
            [
             0.3333333333333333,
             "#9c179e"
            ],
            [
             0.4444444444444444,
             "#bd3786"
            ],
            [
             0.5555555555555556,
             "#d8576b"
            ],
            [
             0.6666666666666666,
             "#ed7953"
            ],
            [
             0.7777777777777778,
             "#fb9f3a"
            ],
            [
             0.8888888888888888,
             "#fdca26"
            ],
            [
             1,
             "#f0f921"
            ]
           ],
           "sequentialminus": [
            [
             0,
             "#0d0887"
            ],
            [
             0.1111111111111111,
             "#46039f"
            ],
            [
             0.2222222222222222,
             "#7201a8"
            ],
            [
             0.3333333333333333,
             "#9c179e"
            ],
            [
             0.4444444444444444,
             "#bd3786"
            ],
            [
             0.5555555555555556,
             "#d8576b"
            ],
            [
             0.6666666666666666,
             "#ed7953"
            ],
            [
             0.7777777777777778,
             "#fb9f3a"
            ],
            [
             0.8888888888888888,
             "#fdca26"
            ],
            [
             1,
             "#f0f921"
            ]
           ]
          },
          "colorway": [
           "#636efa",
           "#EF553B",
           "#00cc96",
           "#ab63fa",
           "#FFA15A",
           "#19d3f3",
           "#FF6692",
           "#B6E880",
           "#FF97FF",
           "#FECB52"
          ],
          "font": {
           "color": "#2a3f5f"
          },
          "geo": {
           "bgcolor": "white",
           "lakecolor": "white",
           "landcolor": "#E5ECF6",
           "showlakes": true,
           "showland": true,
           "subunitcolor": "white"
          },
          "hoverlabel": {
           "align": "left"
          },
          "hovermode": "closest",
          "mapbox": {
           "style": "light"
          },
          "paper_bgcolor": "white",
          "plot_bgcolor": "#E5ECF6",
          "polar": {
           "angularaxis": {
            "gridcolor": "white",
            "linecolor": "white",
            "ticks": ""
           },
           "bgcolor": "#E5ECF6",
           "radialaxis": {
            "gridcolor": "white",
            "linecolor": "white",
            "ticks": ""
           }
          },
          "scene": {
           "xaxis": {
            "backgroundcolor": "#E5ECF6",
            "gridcolor": "white",
            "gridwidth": 2,
            "linecolor": "white",
            "showbackground": true,
            "ticks": "",
            "zerolinecolor": "white"
           },
           "yaxis": {
            "backgroundcolor": "#E5ECF6",
            "gridcolor": "white",
            "gridwidth": 2,
            "linecolor": "white",
            "showbackground": true,
            "ticks": "",
            "zerolinecolor": "white"
           },
           "zaxis": {
            "backgroundcolor": "#E5ECF6",
            "gridcolor": "white",
            "gridwidth": 2,
            "linecolor": "white",
            "showbackground": true,
            "ticks": "",
            "zerolinecolor": "white"
           }
          },
          "shapedefaults": {
           "line": {
            "color": "#2a3f5f"
           }
          },
          "ternary": {
           "aaxis": {
            "gridcolor": "white",
            "linecolor": "white",
            "ticks": ""
           },
           "baxis": {
            "gridcolor": "white",
            "linecolor": "white",
            "ticks": ""
           },
           "bgcolor": "#E5ECF6",
           "caxis": {
            "gridcolor": "white",
            "linecolor": "white",
            "ticks": ""
           }
          },
          "title": {
           "x": 0.05
          },
          "xaxis": {
           "automargin": true,
           "gridcolor": "white",
           "linecolor": "white",
           "ticks": "",
           "title": {
            "standoff": 15
           },
           "zerolinecolor": "white",
           "zerolinewidth": 2
          },
          "yaxis": {
           "automargin": true,
           "gridcolor": "white",
           "linecolor": "white",
           "ticks": "",
           "title": {
            "standoff": 15
           },
           "zerolinecolor": "white",
           "zerolinewidth": 2
          }
         }
        },
        "title": {
         "text": "Percentage of (not)purchased insurances by age groups"
        },
        "xaxis": {
         "anchor": "y",
         "domain": [
          0,
          1
         ],
         "title": {
          "text": ""
         }
        },
        "yaxis": {
         "anchor": "x",
         "domain": [
          0,
          1
         ],
         "title": {
          "text": ""
         }
        }
       }
      }
     },
     "metadata": {},
     "output_type": "display_data"
    }
   ],
   "source": [
    "mf.plot_stacked_barchart_plotly(\n",
    "    age_insurance_perc,\n",
    "    'age',\n",
    "    ['percentage_yes', 'percentage_no'],\n",
    "    'Percentage of (not)purchased insurances by age groups',\n",
    "    'Bought insurance:',\n",
    ")"
   ]
  },
  {
   "cell_type": "code",
   "execution_count": 2,
   "metadata": {},
   "outputs": [
    {
     "data": {
      "image/png": "[encoded data removed]",
      "text/plain": [
       "<IPython.core.display.Image object>"
      ]
     },
     "execution_count": 2,
     "metadata": {},
     "output_type": "execute_result"
    }
   ],
   "source": [
    "# If plotly doesn't show a chart, here it is.\n",
    "Image(filename='png\\\\age_groups.png')"
   ]
  },
  {
   "cell_type": "markdown",
   "metadata": {},
   "source": [
    "By percentage we see that most likely to buy the covid-19 insurance were people of age 25, 26, 33, 34. But all in all this dataset is quite small and the total amount of covid-19 insurance was offered to quite small group of people by age and it is hard to see some patterns here. Some younger people and people over 33 by this data are tend to buy more than the others."
   ]
  },
  {
   "cell_type": "markdown",
   "metadata": {},
   "source": [
    "### 2.2.2. **employment_type**"
   ]
  },
  {
   "cell_type": "code",
   "execution_count": 25,
   "metadata": {},
   "outputs": [
    {
     "data": {
      "text/plain": [
       "private sector/self employed    1417\n",
       "government sector                570\n",
       "Name: employment_type, dtype: int64"
      ]
     },
     "execution_count": 25,
     "metadata": {},
     "output_type": "execute_result"
    }
   ],
   "source": [
    "insurance_df.employment_type.value_counts()"
   ]
  },
  {
   "cell_type": "markdown",
   "metadata": {},
   "source": [
    "As we see the majority of people were employed in private sector (self employed). Let's see how travel insurance buyers and not variates according to this feature."
   ]
  },
  {
   "cell_type": "code",
   "execution_count": 22,
   "metadata": {},
   "outputs": [
    {
     "data": {
      "text/html": [
       "<div>\n",
       "<style scoped>\n",
       "    .dataframe tbody tr th:only-of-type {\n",
       "        vertical-align: middle;\n",
       "    }\n",
       "\n",
       "    .dataframe tbody tr th {\n",
       "        vertical-align: top;\n",
       "    }\n",
       "\n",
       "    .dataframe thead th {\n",
       "        text-align: right;\n",
       "    }\n",
       "</style>\n",
       "<table border=\"1\" class=\"dataframe\">\n",
       "  <thead>\n",
       "    <tr style=\"text-align: right;\">\n",
       "      <th>travel_insurance</th>\n",
       "      <th>no</th>\n",
       "      <th>yes</th>\n",
       "    </tr>\n",
       "    <tr>\n",
       "      <th>employment_type</th>\n",
       "      <th></th>\n",
       "      <th></th>\n",
       "    </tr>\n",
       "  </thead>\n",
       "  <tbody>\n",
       "    <tr>\n",
       "      <th>government sector</th>\n",
       "      <td>430</td>\n",
       "      <td>140</td>\n",
       "    </tr>\n",
       "    <tr>\n",
       "      <th>private sector/self employed</th>\n",
       "      <td>847</td>\n",
       "      <td>570</td>\n",
       "    </tr>\n",
       "  </tbody>\n",
       "</table>\n",
       "</div>"
      ],
      "text/plain": [
       "travel_insurance               no  yes\n",
       "employment_type                       \n",
       "government sector             430  140\n",
       "private sector/self employed  847  570"
      ]
     },
     "execution_count": 22,
     "metadata": {},
     "output_type": "execute_result"
    }
   ],
   "source": [
    "mf.make_crosstab_number(insurance_df, 'employment_type', 'travel_insurance')"
   ]
  },
  {
   "cell_type": "markdown",
   "metadata": {},
   "source": [
    "Let's see the percentage."
   ]
  },
  {
   "cell_type": "code",
   "execution_count": 23,
   "metadata": {},
   "outputs": [
    {
     "data": {
      "text/html": [
       "<div>\n",
       "<style scoped>\n",
       "    .dataframe tbody tr th:only-of-type {\n",
       "        vertical-align: middle;\n",
       "    }\n",
       "\n",
       "    .dataframe tbody tr th {\n",
       "        vertical-align: top;\n",
       "    }\n",
       "\n",
       "    .dataframe thead th {\n",
       "        text-align: right;\n",
       "    }\n",
       "</style>\n",
       "<table border=\"1\" class=\"dataframe\">\n",
       "  <thead>\n",
       "    <tr style=\"text-align: right;\">\n",
       "      <th>travel_insurance</th>\n",
       "      <th>no</th>\n",
       "      <th>yes</th>\n",
       "    </tr>\n",
       "    <tr>\n",
       "      <th>employment_type</th>\n",
       "      <th></th>\n",
       "      <th></th>\n",
       "    </tr>\n",
       "  </thead>\n",
       "  <tbody>\n",
       "    <tr>\n",
       "      <th>government sector</th>\n",
       "      <td>75.44</td>\n",
       "      <td>24.56</td>\n",
       "    </tr>\n",
       "    <tr>\n",
       "      <th>private sector/self employed</th>\n",
       "      <td>59.77</td>\n",
       "      <td>40.23</td>\n",
       "    </tr>\n",
       "  </tbody>\n",
       "</table>\n",
       "</div>"
      ],
      "text/plain": [
       "travel_insurance                no   yes\n",
       "employment_type                         \n",
       "government sector            75.44 24.56\n",
       "private sector/self employed 59.77 40.23"
      ]
     },
     "execution_count": 23,
     "metadata": {},
     "output_type": "execute_result"
    }
   ],
   "source": [
    "mf.make_crosstab_percent(insurance_df, 'employment_type', 'travel_insurance')"
   ]
  },
  {
   "cell_type": "markdown",
   "metadata": {},
   "source": [
    "It seems that travel insurance with covid-19 coverage was more often offered to the people, who tend to work in private sector and over 40 percent of them bought this insurance. While working in the government sector only 25 percent bought this insurance. It could be an indication, that people, working in private sector, are more likely to buy travel insurance. Let's see is the difference of these proportions statistically significant."
   ]
  },
  {
   "cell_type": "markdown",
   "metadata": {},
   "source": [
    "* **Inferential statistical analysis:**"
   ]
  },
  {
   "cell_type": "code",
   "execution_count": 24,
   "metadata": {},
   "outputs": [
    {
     "data": {
      "text/html": [
       "<div>\n",
       "<style scoped>\n",
       "    .dataframe tbody tr th:only-of-type {\n",
       "        vertical-align: middle;\n",
       "    }\n",
       "\n",
       "    .dataframe tbody tr th {\n",
       "        vertical-align: top;\n",
       "    }\n",
       "\n",
       "    .dataframe thead th {\n",
       "        text-align: right;\n",
       "    }\n",
       "</style>\n",
       "<table border=\"1\" class=\"dataframe\">\n",
       "  <thead>\n",
       "    <tr style=\"text-align: right;\">\n",
       "      <th></th>\n",
       "      <th>with_insurance</th>\n",
       "      <th>number_of_people</th>\n",
       "      <th>number_of_insurances</th>\n",
       "    </tr>\n",
       "  </thead>\n",
       "  <tbody>\n",
       "    <tr>\n",
       "      <th>government_sector</th>\n",
       "      <td>0.25</td>\n",
       "      <td>570</td>\n",
       "      <td>140</td>\n",
       "    </tr>\n",
       "    <tr>\n",
       "      <th>private_sector</th>\n",
       "      <td>0.40</td>\n",
       "      <td>1417</td>\n",
       "      <td>570</td>\n",
       "    </tr>\n",
       "  </tbody>\n",
       "</table>\n",
       "</div>"
      ],
      "text/plain": [
       "                   with_insurance  number_of_people  number_of_insurances\n",
       "government_sector            0.25               570                   140\n",
       "private_sector               0.40              1417                   570"
      ]
     },
     "execution_count": 24,
     "metadata": {},
     "output_type": "execute_result"
    }
   ],
   "source": [
    "table1 = pd.DataFrame(\n",
    "    {\n",
    "        'with_insurance': [140/570, 570/1417],\n",
    "        'number_of_people': [570, 1417],\n",
    "        'number_of_insurances': [140, 570],\n",
    "    },\n",
    "    index=['government_sector', 'private_sector'],\n",
    ")\n",
    "table1"
   ]
  },
  {
   "cell_type": "markdown",
   "metadata": {},
   "source": [
    "**Research question:**\n",
    "Is the difference in proportions of insurance buyers, working in government/private sector, statistically significant?\n",
    "\n",
    "**Population** All people, who were interviewed.\n",
    "\n",
    "People, who claimed, to work in government sector = 570.\n",
    "\n",
    "People, who claimed, to work in private sector = 1417.\n",
    "\n",
    "**Parameter of interest:** \n",
    "Difference in population proportions: (p(1) - p(2)) -> 0.25-0.40 = -0.15\n",
    "                                      \n",
    "\n",
    "**Power of the test:** ($1 - \\beta$) - 0.8 \n",
    "\n",
    "**Significance level**: 0.05\n",
    "\n",
    "**Null Hypothesis:** p1 - p2 = 0  (there is no difference)\n",
    "\n",
    "**Alternative Hypothesis:** p1 - p2 < 0\n",
    "\n",
    "One tail testing, the difference is < 0.\n",
    "\n",
    "**Assumptions**:\n",
    "1. Our samples are independent from each other (taken from different people, different time)."
   ]
  },
  {
   "cell_type": "markdown",
   "metadata": {},
   "source": [
    "* Preliminary power test analysis, to get the needed sample size to avoid p-hacking."
   ]
  },
  {
   "cell_type": "code",
   "execution_count": 25,
   "metadata": {},
   "outputs": [
    {
     "name": "stdout",
     "output_type": "stream",
     "text": [
      "Required sample size:152\n"
     ]
    }
   ],
   "source": [
    "effect_size = sms.proportion_effectsize(\n",
    "        0.25, 0.40\n",
    ")\n",
    "\n",
    "required_n = sms.NormalIndPower().solve_power(\n",
    "    effect_size, power=0.8, alpha=0.05, ratio=1\n",
    ")  \n",
    "required_n = ceil(required_n)\n",
    "print(\n",
    "    f'Required sample size:{required_n}'\n",
    ")"
   ]
  },
  {
   "cell_type": "markdown",
   "metadata": {},
   "source": [
    "I have a much larger sample size, so I think p-hacking should be avoided."
   ]
  },
  {
   "cell_type": "markdown",
   "metadata": {},
   "source": [
    "* **Calculations**"
   ]
  },
  {
   "cell_type": "code",
   "execution_count": 26,
   "metadata": {},
   "outputs": [
    {
     "name": "stdout",
     "output_type": "stream",
     "text": [
      "T-statistics: -6.310850942337212, p-value: 2.7750537292478084e-10\n"
     ]
    }
   ],
   "source": [
    "p_comb = (298+412)/1987  # the mean of all insurances\n",
    "va = p_comb * (1 - p_comb)\n",
    "se = np.sqrt(va * (1 / 570 + 1 / 1417))\n",
    "\n",
    "# Calculate the test statistic and its p-value\n",
    "test_stat = (0.25-0.40) / se\n",
    "pvalue = 2 * dist.norm.cdf(-np.abs(test_stat))\n",
    "print(f'T-statistics: {test_stat}, p-value: {pvalue}')"
   ]
  },
  {
   "cell_type": "markdown",
   "metadata": {},
   "source": [
    "The difference of the proportions of insurance buyers among people, who work in government and private sector is very large: - 0.15. The aim was to check is this difference statistically significant, or maybe made by a chance. \n",
    "From this observed data we got, that the T -statistics in the difference of two proportions is large -6.31, so our observed difference in sample proportions is -6.31 estimated standard errors below our hypothesized mean (0) of equal population proportions. Based on our sample and our p-value is 2.7750537292478084e-10, that is almost equal to 0 and is smaller than our set alpha value of 0.05, we have enough evidence to reject the null hypothesis. \n",
    "In this case, we conclude that there is significant difference between the population proportions of insurance buyers among people, who work in government and private sector. People from private sector tend to buy more travel insurances. \n",
    "\n",
    "Let's check the Confidence interval."
   ]
  },
  {
   "cell_type": "markdown",
   "metadata": {},
   "source": [
    "**Confidence intervals**\n",
    "\n",
    "1. Confidence level of 95%.\n",
    "2. Significant level alpha = 0.05"
   ]
  },
  {
   "cell_type": "code",
   "execution_count": 27,
   "metadata": {},
   "outputs": [
    {
     "data": {
      "text/html": [
       "<div>\n",
       "<style scoped>\n",
       "    .dataframe tbody tr th:only-of-type {\n",
       "        vertical-align: middle;\n",
       "    }\n",
       "\n",
       "    .dataframe tbody tr th {\n",
       "        vertical-align: top;\n",
       "    }\n",
       "\n",
       "    .dataframe thead th {\n",
       "        text-align: right;\n",
       "    }\n",
       "</style>\n",
       "<table border=\"1\" class=\"dataframe\">\n",
       "  <thead>\n",
       "    <tr style=\"text-align: right;\">\n",
       "      <th></th>\n",
       "      <th>with_insurance</th>\n",
       "      <th>number_of_people</th>\n",
       "      <th>number_of_insurances</th>\n",
       "    </tr>\n",
       "  </thead>\n",
       "  <tbody>\n",
       "    <tr>\n",
       "      <th>government_sector</th>\n",
       "      <td>0.25</td>\n",
       "      <td>570</td>\n",
       "      <td>140</td>\n",
       "    </tr>\n",
       "    <tr>\n",
       "      <th>private_sector</th>\n",
       "      <td>0.40</td>\n",
       "      <td>1417</td>\n",
       "      <td>570</td>\n",
       "    </tr>\n",
       "  </tbody>\n",
       "</table>\n",
       "</div>"
      ],
      "text/plain": [
       "                   with_insurance  number_of_people  number_of_insurances\n",
       "government_sector            0.25               570                   140\n",
       "private_sector               0.40              1417                   570"
      ]
     },
     "execution_count": 27,
     "metadata": {},
     "output_type": "execute_result"
    }
   ],
   "source": [
    "table1"
   ]
  },
  {
   "cell_type": "code",
   "execution_count": 28,
   "metadata": {},
   "outputs": [
    {
     "name": "stdout",
     "output_type": "stream",
     "text": [
      "CI in proportion of insurances among people, who work in government and private sector: (-0.19464613223616267, -0.10535386776383732)\n"
     ]
    }
   ],
   "source": [
    "se_government = np.sqrt(0.25* (1 - 0.25) / 570)\n",
    "se_private = np.sqrt(0.40 * (1 - 0.40) / 1417)\n",
    "\n",
    "se_diff = np.sqrt(se_government**2 + se_private**2)\n",
    "\n",
    "lcb = -0.15- 2*se_diff\n",
    "ucb = -0.15 + 2*se_diff\n",
    "print(f'CI in proportion of insurances among people, who work in government and private sector: {lcb, ucb}')"
   ]
  },
  {
   "cell_type": "markdown",
   "metadata": {},
   "source": [
    "The 95% confidence interval above shows us that any value for the difference of population proportions (between insurance buyers, working in government and private sectors) is lying between -0.19 and -0.10, this is consistent with the observed data, and our estimated difference was -0.15, which is in that range. 0 in not in this range, so the null hypothesis, that the difference between proportions could be 0 was rejected correctly. It is confirmed, that there tend to be from 10 to 19 percent more insurance buyers in private sector that in government sector employees."
   ]
  },
  {
   "cell_type": "markdown",
   "metadata": {},
   "source": [
    "### 2.2.3. **graduate_or_not**"
   ]
  },
  {
   "cell_type": "code",
   "execution_count": 29,
   "metadata": {},
   "outputs": [
    {
     "data": {
      "text/plain": [
       "yes    1692\n",
       "no      295\n",
       "Name: graduate_or_not, dtype: int64"
      ]
     },
     "execution_count": 29,
     "metadata": {},
     "output_type": "execute_result"
    }
   ],
   "source": [
    "insurance_df.graduate_or_not.value_counts()"
   ]
  },
  {
   "cell_type": "markdown",
   "metadata": {},
   "source": [
    "The majority of people were graduates of the college. Let's see their opinion on travel insurance from covid - 19."
   ]
  },
  {
   "cell_type": "code",
   "execution_count": 32,
   "metadata": {},
   "outputs": [
    {
     "data": {
      "image/png": "[encoded data removed]",
      "text/plain": [
       "<Figure size 576x288 with 1 Axes>"
      ]
     },
     "metadata": {},
     "output_type": "display_data"
    }
   ],
   "source": [
    "mf.plot_countplot(\n",
    "    insurance_df,\n",
    "    \"travel_insurance\",\n",
    "    \"graduate_or_not\",\n",
    "    \"Travel insurance (not) purchased by education level\",\n",
    ")"
   ]
  },
  {
   "cell_type": "code",
   "execution_count": 34,
   "metadata": {},
   "outputs": [
    {
     "data": {
      "text/html": [
       "<div>\n",
       "<style scoped>\n",
       "    .dataframe tbody tr th:only-of-type {\n",
       "        vertical-align: middle;\n",
       "    }\n",
       "\n",
       "    .dataframe tbody tr th {\n",
       "        vertical-align: top;\n",
       "    }\n",
       "\n",
       "    .dataframe thead th {\n",
       "        text-align: right;\n",
       "    }\n",
       "</style>\n",
       "<table border=\"1\" class=\"dataframe\">\n",
       "  <thead>\n",
       "    <tr style=\"text-align: right;\">\n",
       "      <th>travel_insurance</th>\n",
       "      <th>no</th>\n",
       "      <th>yes</th>\n",
       "    </tr>\n",
       "    <tr>\n",
       "      <th>graduate_or_not</th>\n",
       "      <th></th>\n",
       "      <th></th>\n",
       "    </tr>\n",
       "  </thead>\n",
       "  <tbody>\n",
       "    <tr>\n",
       "      <th>no</th>\n",
       "      <td>66.44</td>\n",
       "      <td>33.56</td>\n",
       "    </tr>\n",
       "    <tr>\n",
       "      <th>yes</th>\n",
       "      <td>63.89</td>\n",
       "      <td>36.11</td>\n",
       "    </tr>\n",
       "  </tbody>\n",
       "</table>\n",
       "</div>"
      ],
      "text/plain": [
       "travel_insurance    no   yes\n",
       "graduate_or_not             \n",
       "no               66.44 33.56\n",
       "yes              63.89 36.11"
      ]
     },
     "execution_count": 34,
     "metadata": {},
     "output_type": "execute_result"
    }
   ],
   "source": [
    "mf.make_crosstab_percent(insurance_df, 'graduate_or_not', 'travel_insurance')"
   ]
  },
  {
   "cell_type": "markdown",
   "metadata": {},
   "source": [
    "Actually we see that almost the same percentage of graduates and non graduates tend to buy this insurance - about 34-36 percent, the difference is only couple of percent. But the majority of people, who were offered by this insurance - were college graduates (1692 out of 1987). All in all it doesn't seem  that education level could be a very could indicator for predicting."
   ]
  },
  {
   "cell_type": "markdown",
   "metadata": {},
   "source": [
    "### 2.2.4. **annual_income**"
   ]
  },
  {
   "cell_type": "code",
   "execution_count": 35,
   "metadata": {},
   "outputs": [
    {
     "data": {
      "text/plain": [
       "count      1987.00\n",
       "mean     932762.96\n",
       "std      376855.68\n",
       "min      300000.00\n",
       "25%      600000.00\n",
       "50%      900000.00\n",
       "75%     1250000.00\n",
       "max     1800000.00\n",
       "Name: annual_income, dtype: float64"
      ]
     },
     "execution_count": 35,
     "metadata": {},
     "output_type": "execute_result"
    }
   ],
   "source": [
    "insurance_df.annual_income.describe()"
   ]
  },
  {
   "cell_type": "code",
   "execution_count": 36,
   "metadata": {},
   "outputs": [
    {
     "data": {
      "image/png": "[encoded data removed]",
      "text/plain": [
       "<Figure size 360x360 with 1 Axes>"
      ]
     },
     "metadata": {},
     "output_type": "display_data"
    }
   ],
   "source": [
    "plt.figure(figsize=(5,5))\n",
    "sns.distplot(insurance_df.annual_income, color='#35b779')\n",
    "plt.title('Distribution of annual income')\n",
    "sns.despine(trim=True, left=True);"
   ]
  },
  {
   "cell_type": "code",
   "execution_count": 37,
   "metadata": {},
   "outputs": [
    {
     "data": {
      "text/plain": [
       "1800000     4\n",
       "1750000    15\n",
       "1700000    37\n",
       "1650000     2\n",
       "1550000     5\n",
       "Name: annual_income, dtype: int64"
      ]
     },
     "execution_count": 37,
     "metadata": {},
     "output_type": "execute_result"
    }
   ],
   "source": [
    "insurance_df.annual_income.value_counts().sort_index(ascending = False).head()"
   ]
  },
  {
   "cell_type": "markdown",
   "metadata": {},
   "source": [
    "It seems, that all values are quite possible and the largest sum for annual income - 1800 000 rupees is given four times, the closest 'neighbor' is not so far - 1750 000 rupees, so I don't think that this value is an outlier, which should be fixed."
   ]
  },
  {
   "cell_type": "code",
   "execution_count": 39,
   "metadata": {},
   "outputs": [
    {
     "data": {
      "image/png": "[encoded data removed]",
      "text/plain": [
       "<Figure size 720x360 with 1 Axes>"
      ]
     },
     "metadata": {},
     "output_type": "display_data"
    }
   ],
   "source": [
    "mf.plot_box_stripplot(\n",
    "    insurance_df, \"travel_insurance\", \"annual_income\", \"Annual income in rupees\"\n",
    ")"
   ]
  },
  {
   "cell_type": "markdown",
   "metadata": {},
   "source": [
    "We can see that people, who tend to buy travel insurance with covid-19 protection have much higher mean of the annual income, the difference is more than 400 000 rupees, also the 25 and 75 percentiles of the annual income are a lot higher. Let's see is this difference in means statistically significant."
   ]
  },
  {
   "cell_type": "markdown",
   "metadata": {},
   "source": [
    "* **Inferential statistical analysis:**\n",
    "\n",
    "**Research question**\n",
    "When considering people, who had bought travel insurance and who hadn't, is the difference in means of annual income in these two groups statistically significant? (hypothesis test comparing means of two independent populations)\n",
    "\n",
    "**Population**: people, who were interviewed, after offering them to buy travel insurance.\n",
    "\n",
    "**Population subgroups**: \n",
    "1. people, who have bought travel insurance;\n",
    "\n",
    "2. people who haven't bought travel insurance.\n",
    "\n",
    "**Parameter of Interest**: difference in population subgroups mean annual income (in rupees).\n",
    "\n",
    "**Explanation**:\n",
    "$\\mu$ (1)- mean annual income of people, who had bought travel insurance\n",
    "\n",
    "$\\mu$ (2) - mean annual income of people, who hadn't bought travel insurance\n",
    "\n",
    "**Power of the test** ($1 - \\beta$) - This represents the probability of finding a statistical difference between the groups in our test when a difference is actually present. This is usually set at 0.8 as a convention.\n",
    "\n",
    "**Significance level**: 0.05\n",
    "\n",
    "**Null Hypothesis:** H(O): $\\mu$ (1) -$\\mu$ (2) = 0\n",
    "\n",
    "**Alternative Hypothesis:** $\\mu$ (1) - $\\mu$ (2) > 0\n",
    "\n",
    "This will be a *one tail* testing.\n"
   ]
  },
  {
   "cell_type": "code",
   "execution_count": 40,
   "metadata": {},
   "outputs": [
    {
     "data": {
      "text/html": [
       "<div>\n",
       "<style scoped>\n",
       "    .dataframe tbody tr th:only-of-type {\n",
       "        vertical-align: middle;\n",
       "    }\n",
       "\n",
       "    .dataframe tbody tr th {\n",
       "        vertical-align: top;\n",
       "    }\n",
       "\n",
       "    .dataframe thead th {\n",
       "        text-align: right;\n",
       "    }\n",
       "</style>\n",
       "<table border=\"1\" class=\"dataframe\">\n",
       "  <thead>\n",
       "    <tr style=\"text-align: right;\">\n",
       "      <th></th>\n",
       "      <th>annual_income</th>\n",
       "    </tr>\n",
       "  </thead>\n",
       "  <tbody>\n",
       "    <tr>\n",
       "      <th>2</th>\n",
       "      <td>500000</td>\n",
       "    </tr>\n",
       "    <tr>\n",
       "      <th>7</th>\n",
       "      <td>1350000</td>\n",
       "    </tr>\n",
       "    <tr>\n",
       "      <th>8</th>\n",
       "      <td>1450000</td>\n",
       "    </tr>\n",
       "    <tr>\n",
       "      <th>11</th>\n",
       "      <td>1400000</td>\n",
       "    </tr>\n",
       "    <tr>\n",
       "      <th>12</th>\n",
       "      <td>850000</td>\n",
       "    </tr>\n",
       "  </tbody>\n",
       "</table>\n",
       "</div>"
      ],
      "text/plain": [
       "    annual_income\n",
       "2          500000\n",
       "7         1350000\n",
       "8         1450000\n",
       "11        1400000\n",
       "12         850000"
      ]
     },
     "execution_count": 40,
     "metadata": {},
     "output_type": "execute_result"
    }
   ],
   "source": [
    "with_insurance = pd.DataFrame(insurance_df[insurance_df['travel_insurance'] == 'yes']['annual_income'])\n",
    "with_insurance.head()"
   ]
  },
  {
   "cell_type": "code",
   "execution_count": 41,
   "metadata": {},
   "outputs": [
    {
     "data": {
      "text/plain": [
       "710"
      ]
     },
     "execution_count": 41,
     "metadata": {},
     "output_type": "execute_result"
    }
   ],
   "source": [
    "len(with_insurance)"
   ]
  },
  {
   "cell_type": "code",
   "execution_count": 42,
   "metadata": {},
   "outputs": [
    {
     "data": {
      "text/html": [
       "<div>\n",
       "<style scoped>\n",
       "    .dataframe tbody tr th:only-of-type {\n",
       "        vertical-align: middle;\n",
       "    }\n",
       "\n",
       "    .dataframe tbody tr th {\n",
       "        vertical-align: top;\n",
       "    }\n",
       "\n",
       "    .dataframe thead th {\n",
       "        text-align: right;\n",
       "    }\n",
       "</style>\n",
       "<table border=\"1\" class=\"dataframe\">\n",
       "  <thead>\n",
       "    <tr style=\"text-align: right;\">\n",
       "      <th></th>\n",
       "      <th>annual_income</th>\n",
       "    </tr>\n",
       "  </thead>\n",
       "  <tbody>\n",
       "    <tr>\n",
       "      <th>0</th>\n",
       "      <td>400000</td>\n",
       "    </tr>\n",
       "    <tr>\n",
       "      <th>1</th>\n",
       "      <td>1250000</td>\n",
       "    </tr>\n",
       "    <tr>\n",
       "      <th>3</th>\n",
       "      <td>700000</td>\n",
       "    </tr>\n",
       "    <tr>\n",
       "      <th>4</th>\n",
       "      <td>700000</td>\n",
       "    </tr>\n",
       "    <tr>\n",
       "      <th>5</th>\n",
       "      <td>1150000</td>\n",
       "    </tr>\n",
       "  </tbody>\n",
       "</table>\n",
       "</div>"
      ],
      "text/plain": [
       "   annual_income\n",
       "0         400000\n",
       "1        1250000\n",
       "3         700000\n",
       "4         700000\n",
       "5        1150000"
      ]
     },
     "execution_count": 42,
     "metadata": {},
     "output_type": "execute_result"
    }
   ],
   "source": [
    "without_insurance = pd.DataFrame(insurance_df[insurance_df['travel_insurance'] == 'no']['annual_income'])\n",
    "without_insurance.head()"
   ]
  },
  {
   "cell_type": "code",
   "execution_count": 43,
   "metadata": {},
   "outputs": [
    {
     "data": {
      "text/plain": [
       "1277"
      ]
     },
     "execution_count": 43,
     "metadata": {},
     "output_type": "execute_result"
    }
   ],
   "source": [
    "len(without_insurance)"
   ]
  },
  {
   "cell_type": "markdown",
   "metadata": {},
   "source": [
    "* Checking the normality of distributions."
   ]
  },
  {
   "cell_type": "code",
   "execution_count": 44,
   "metadata": {},
   "outputs": [
    {
     "data": {
      "text/plain": [
       "<Figure size 720x720 with 0 Axes>"
      ]
     },
     "metadata": {},
     "output_type": "display_data"
    },
    {
     "data": {
      "image/png": "[encoded data removed]",
      "text/plain": [
       "<Figure size 432x288 with 2 Axes>"
      ]
     },
     "metadata": {},
     "output_type": "display_data"
    }
   ],
   "source": [
    "plt.figure(figsize=(10, 10))\n",
    "f, axes = plt.subplots(1, 2)\n",
    "\n",
    "with_insur_hist = sns.histplot(data= with_insurance, x='annual_income', kde=True, color='lightgreen', ax=axes[0])\n",
    "with_insur_hist.set(ylabel='')\n",
    "with_insur_hist.set(xlabel='annual_income')\n",
    "with_insur_hist.set_title(f'annual income - with insurance')\n",
    "\n",
    "without_insur_hist = sns.histplot(data=without_insurance, x='annual_income', kde=True, color='lightblue', ax=axes[1])\n",
    "without_insur_hist.set(ylabel='')\n",
    "without_insur_hist.set(xlabel='annual_income')\n",
    "without_insur_hist.set_title(f'annual income - without insurance')\n",
    "\n",
    "sns.despine(right=True, left=False)\n",
    "plt.show()\n"
   ]
  },
  {
   "cell_type": "code",
   "execution_count": 45,
   "metadata": {},
   "outputs": [
    {
     "data": {
      "text/html": [
       "<div>\n",
       "<style scoped>\n",
       "    .dataframe tbody tr th:only-of-type {\n",
       "        vertical-align: middle;\n",
       "    }\n",
       "\n",
       "    .dataframe tbody tr th {\n",
       "        vertical-align: top;\n",
       "    }\n",
       "\n",
       "    .dataframe thead th {\n",
       "        text-align: right;\n",
       "    }\n",
       "</style>\n",
       "<table border=\"1\" class=\"dataframe\">\n",
       "  <thead>\n",
       "    <tr style=\"text-align: right;\">\n",
       "      <th></th>\n",
       "      <th>n</th>\n",
       "      <th>mean</th>\n",
       "      <th>std</th>\n",
       "    </tr>\n",
       "  </thead>\n",
       "  <tbody>\n",
       "    <tr>\n",
       "      <th>with_insurance</th>\n",
       "      <td>710</td>\n",
       "      <td>1133239.44</td>\n",
       "      <td>374844.68</td>\n",
       "    </tr>\n",
       "    <tr>\n",
       "      <th>without_insurance</th>\n",
       "      <td>1277</td>\n",
       "      <td>821299.92</td>\n",
       "      <td>328898.90</td>\n",
       "    </tr>\n",
       "  </tbody>\n",
       "</table>\n",
       "</div>"
      ],
      "text/plain": [
       "                      n       mean       std\n",
       "with_insurance      710 1133239.44 374844.68\n",
       "without_insurance  1277  821299.92 328898.90"
      ]
     },
     "execution_count": 45,
     "metadata": {},
     "output_type": "execute_result"
    }
   ],
   "source": [
    "# Tables to use.\n",
    "table1 = pd.DataFrame({'n': [len(with_insurance),len(without_insurance)],\n",
    "'mean': [with_insurance['annual_income'].mean(),without_insurance['annual_income'].mean()],\n",
    "'std': [with_insurance['annual_income'].std(), without_insurance['annual_income'].std()]}, index=(['with_insurance', 'without_insurance']))\n",
    "table1"
   ]
  },
  {
   "cell_type": "markdown",
   "metadata": {},
   "source": [
    "**Assumptions**:\n",
    "1. I assume that those are simple random samples. Samples are independent one from each other.\n",
    "2. The distributions of annual income of both subpopulations doesn't seem normal, both are skewed to the different sides, but there are almost 2000 observations per both data sets, so accounting on Central limit theorem, I still proceed the t-testing.\n",
    "3. I assume that the standard deviations of these two populations are quite similar, according to very large total numbers of annual income. That's why I use the pooled approach."
   ]
  },
  {
   "cell_type": "markdown",
   "metadata": {},
   "source": [
    "* Power analysis, as sample sizes differ."
   ]
  },
  {
   "cell_type": "code",
   "execution_count": 46,
   "metadata": {},
   "outputs": [
    {
     "data": {
      "text/plain": [
       "311939.51492825395"
      ]
     },
     "execution_count": 46,
     "metadata": {},
     "output_type": "execute_result"
    }
   ],
   "source": [
    "# Difference in two means:\n",
    "\n",
    "diff_means_income = table1.iloc[0]['mean'] - table1.iloc[1]['mean']\n",
    "diff_means_income"
   ]
  },
  {
   "cell_type": "code",
   "execution_count": 47,
   "metadata": {},
   "outputs": [
    {
     "data": {
      "text/plain": [
       "352620.9130070868"
      ]
     },
     "execution_count": 47,
     "metadata": {},
     "output_type": "execute_result"
    }
   ],
   "source": [
    "# estimated standard deviation\n",
    "\n",
    "est_std_income = np.sqrt(\n",
    "    (table1.iloc[0]['std']**2 + table1.iloc[1]['std']**2)/2\n",
    "    )\n",
    "est_std_income"
   ]
  },
  {
   "cell_type": "code",
   "execution_count": 48,
   "metadata": {},
   "outputs": [],
   "source": [
    "# effect size\n",
    "\n",
    "effect_size_income = diff_means_income/est_std_income"
   ]
  },
  {
   "cell_type": "code",
   "execution_count": 49,
   "metadata": {},
   "outputs": [
    {
     "name": "stdout",
     "output_type": "stream",
     "text": [
      "16\n"
     ]
    }
   ],
   "source": [
    "# required sample sizes\n",
    "\n",
    "required_n = sms.NormalIndPower().solve_power(\n",
    "    effect_size_income,\n",
    "    power=0.8, \n",
    "    alpha=0.05, \n",
    "    ratio=1, \n",
    "    alternative='larger'\n",
    "    )                                                  # Calculating sample size needed\n",
    "\n",
    "required_n = ceil(required_n)                          # Rounding up to next whole number                          \n",
    "\n",
    "print(required_n)"
   ]
  },
  {
   "cell_type": "markdown",
   "metadata": {},
   "source": [
    "So I have larger sample sizes, p-hacking should be avoided."
   ]
  },
  {
   "cell_type": "code",
   "execution_count": 50,
   "metadata": {},
   "outputs": [
    {
     "name": "stdout",
     "output_type": "stream",
     "text": [
      "T-statistic: 19.257785253687544, p-value: 3.317508880176645e-76\n"
     ]
    }
   ],
   "source": [
    "# t-test pooled approach\n",
    "\n",
    "statistics, p_value = stats.ttest_ind(\n",
    "    with_insurance['annual_income'],\n",
    "    without_insurance['annual_income'],\n",
    "    equal_var=True, alternative='greater',\n",
    ")\n",
    "print(f\"T-statistic: {statistics}, p-value: {p_value}\")"
   ]
  },
  {
   "cell_type": "markdown",
   "metadata": {},
   "source": [
    "To conclude, the t - statistics:  19.25, so the difference between sample means of annual income, are above the hypothesized 0 value by more than 19 estimated standard errors, thats a lot. The p-value is so small, that almost equal to zero and is definitely smaller than the alpha of 0.05. So, there's enough evidence to reject the NULL hypothesis. When considering people, who bought travel insurance, interviewed in this data set, their mean of annual income is significantly higher than the mean of annual income of people, who did not buy travel insurance."
   ]
  },
  {
   "cell_type": "markdown",
   "metadata": {},
   "source": [
    "* Confidence interval of the difference between two means of annual income in the group of people with travel insurance and without.\n",
    "1. Confidence level of 95%.\n",
    "2. Significant level alpha = 0.05\n",
    "3. Pooled approach."
   ]
  },
  {
   "cell_type": "code",
   "execution_count": 51,
   "metadata": {},
   "outputs": [
    {
     "data": {
      "text/plain": [
       "(14067.670065052296, 9203.795667071314)"
      ]
     },
     "execution_count": 51,
     "metadata": {},
     "output_type": "execute_result"
    }
   ],
   "source": [
    "sem_with_insurance = with_insurance['annual_income'].std() / np.sqrt(\n",
    "    len(with_insurance)\n",
    ")\n",
    "sem_without_insurance = without_insurance['annual_income'].std() / np.sqrt(\n",
    "    len(without_insurance)\n",
    ")\n",
    "(sem_with_insurance, sem_without_insurance)"
   ]
  },
  {
   "cell_type": "code",
   "execution_count": 52,
   "metadata": {},
   "outputs": [
    {
     "data": {
      "text/plain": [
       "16810.98437749465"
      ]
     },
     "execution_count": 52,
     "metadata": {},
     "output_type": "execute_result"
    }
   ],
   "source": [
    "sem_diff_income = np.sqrt(sem_with_insurance ** 2 + sem_without_insurance ** 2)\n",
    "sem_diff_income"
   ]
  },
  {
   "cell_type": "code",
   "execution_count": 53,
   "metadata": {},
   "outputs": [
    {
     "name": "stdout",
     "output_type": "stream",
     "text": [
      "Confidence interval for the difference between the means of annual income of people with insurance and without:    278989.98554836446, 344889.04430814344\n"
     ]
    }
   ],
   "source": [
    "lower_conf_bound_income = diff_means_income - 1.96 * sem_diff_income\n",
    "upper_conf_bound_income= diff_means_income + 1.96 * sem_diff_income\n",
    "(lower_conf_bound_income, upper_conf_bound_income)\n",
    "print(\n",
    "    f'Confidence interval for the difference between the means of annual income of people with insurance and without:\\\n",
    "    {lower_conf_bound_income}, {upper_conf_bound_income}')"
   ]
  },
  {
   "cell_type": "markdown",
   "metadata": {},
   "source": [
    "With 95% confidence, the difference in means of annual income in these groups of people is estimated to be between 278989.98 and 344889.04 rupees. That means, that our NULL hypothesis with the difference of these two measured population mean to be 0, do not fall into this interval, so to reject the null hypothesis was the right decision. The counted difference of sample means 311939.51, falls into this interval and is a reasonable value. So there is a significant difference in these two means."
   ]
  },
  {
   "cell_type": "markdown",
   "metadata": {},
   "source": [
    "Conclusion: annual income could be one of the great predictors for travel insurance purchasing predictions, increasing annual income increases probability that a person will buy the insurance."
   ]
  },
  {
   "cell_type": "markdown",
   "metadata": {},
   "source": [
    "### 2.2.5. **family_members**"
   ]
  },
  {
   "cell_type": "code",
   "execution_count": 54,
   "metadata": {},
   "outputs": [
    {
     "data": {
      "text/plain": [
       "4    505\n",
       "5    426\n",
       "3    377\n",
       "6    294\n",
       "7    178\n",
       "2     93\n",
       "8     59\n",
       "9     55\n",
       "Name: family_members, dtype: int64"
      ]
     },
     "execution_count": 54,
     "metadata": {},
     "output_type": "execute_result"
    }
   ],
   "source": [
    "insurance_df.family_members.value_counts()"
   ]
  },
  {
   "cell_type": "code",
   "execution_count": 56,
   "metadata": {},
   "outputs": [
    {
     "data": {
      "image/png": "[encoded data removed]",
      "text/plain": [
       "<Figure size 576x288 with 1 Axes>"
      ]
     },
     "metadata": {},
     "output_type": "display_data"
    }
   ],
   "source": [
    "mf.plot_countplot(\n",
    "    insurance_df, \"family_members\", None, \"Count by the number of members in family\"\n",
    ")"
   ]
  },
  {
   "cell_type": "code",
   "execution_count": 57,
   "metadata": {},
   "outputs": [
    {
     "data": {
      "text/html": [
       "<div>\n",
       "<style scoped>\n",
       "    .dataframe tbody tr th:only-of-type {\n",
       "        vertical-align: middle;\n",
       "    }\n",
       "\n",
       "    .dataframe tbody tr th {\n",
       "        vertical-align: top;\n",
       "    }\n",
       "\n",
       "    .dataframe thead th {\n",
       "        text-align: right;\n",
       "    }\n",
       "</style>\n",
       "<table border=\"1\" class=\"dataframe\">\n",
       "  <thead>\n",
       "    <tr style=\"text-align: right;\">\n",
       "      <th>family_members</th>\n",
       "      <th>2</th>\n",
       "      <th>3</th>\n",
       "      <th>4</th>\n",
       "      <th>5</th>\n",
       "      <th>6</th>\n",
       "      <th>7</th>\n",
       "      <th>8</th>\n",
       "      <th>9</th>\n",
       "    </tr>\n",
       "    <tr>\n",
       "      <th>travel_insurance</th>\n",
       "      <th></th>\n",
       "      <th></th>\n",
       "      <th></th>\n",
       "      <th></th>\n",
       "      <th></th>\n",
       "      <th></th>\n",
       "      <th></th>\n",
       "      <th></th>\n",
       "    </tr>\n",
       "  </thead>\n",
       "  <tbody>\n",
       "    <tr>\n",
       "      <th>no</th>\n",
       "      <td>70.97</td>\n",
       "      <td>64.19</td>\n",
       "      <td>68.32</td>\n",
       "      <td>69.25</td>\n",
       "      <td>56.12</td>\n",
       "      <td>54.49</td>\n",
       "      <td>64.41</td>\n",
       "      <td>52.73</td>\n",
       "    </tr>\n",
       "    <tr>\n",
       "      <th>yes</th>\n",
       "      <td>29.03</td>\n",
       "      <td>35.81</td>\n",
       "      <td>31.68</td>\n",
       "      <td>30.75</td>\n",
       "      <td>43.88</td>\n",
       "      <td>45.51</td>\n",
       "      <td>35.59</td>\n",
       "      <td>47.27</td>\n",
       "    </tr>\n",
       "  </tbody>\n",
       "</table>\n",
       "</div>"
      ],
      "text/plain": [
       "family_members       2     3     4     5     6     7     8     9\n",
       "travel_insurance                                                \n",
       "no               70.97 64.19 68.32 69.25 56.12 54.49 64.41 52.73\n",
       "yes              29.03 35.81 31.68 30.75 43.88 45.51 35.59 47.27"
      ]
     },
     "execution_count": 57,
     "metadata": {},
     "output_type": "execute_result"
    }
   ],
   "source": [
    "family_perc = mf.make_crosstab_percent(insurance_df, 'family_members', 'travel_insurance')\n",
    "family_perc.T"
   ]
  },
  {
   "cell_type": "code",
   "execution_count": 59,
   "metadata": {},
   "outputs": [
    {
     "data": {
      "application/vnd.plotly.v1+json": {
       "config": {
        "plotlyServerURL": "https://plot.ly"
       },
       "data": [
        {
         "alignmentgroup": "True",
         "hovertemplate": "variable=no<br>family_members=%{x}<br>value=%{y}<extra></extra>",
         "legendgroup": "no",
         "marker": {
          "color": "#26828e",
          "pattern": {
           "shape": ""
          }
         },
         "name": "no",
         "offsetgroup": "no",
         "orientation": "v",
         "showlegend": true,
         "textposition": "auto",
         "texttemplate": "%{y}",
         "type": "bar",
         "x": [
          2,
          3,
          4,
          5,
          6,
          7,
          8,
          9
         ],
         "xaxis": "x",
         "y": [
          70.96774193548387,
          64.19098143236074,
          68.31683168316832,
          69.24882629107981,
          56.12244897959183,
          54.49438202247191,
          64.40677966101694,
          52.72727272727272
         ],
         "yaxis": "y"
        },
        {
         "alignmentgroup": "True",
         "hovertemplate": "variable=yes<br>family_members=%{x}<br>value=%{y}<extra></extra>",
         "legendgroup": "yes",
         "marker": {
          "color": "#35b779",
          "pattern": {
           "shape": ""
          }
         },
         "name": "yes",
         "offsetgroup": "yes",
         "orientation": "v",
         "showlegend": true,
         "textposition": "auto",
         "texttemplate": "%{y}",
         "type": "bar",
         "x": [
          2,
          3,
          4,
          5,
          6,
          7,
          8,
          9
         ],
         "xaxis": "x",
         "y": [
          29.03225806451613,
          35.80901856763926,
          31.683168316831683,
          30.751173708920188,
          43.87755102040816,
          45.50561797752809,
          35.59322033898305,
          47.27272727272727
         ],
         "yaxis": "y"
        }
       ],
       "layout": {
        "barmode": "relative",
        "legend": {
         "title": {
          "text": "Purchased insurance or not"
         },
         "tracegroupgap": 0
        },
        "template": {
         "data": {
          "bar": [
           {
            "error_x": {
             "color": "#2a3f5f"
            },
            "error_y": {
             "color": "#2a3f5f"
            },
            "marker": {
             "line": {
              "color": "#E5ECF6",
              "width": 0.5
             },
             "pattern": {
              "fillmode": "overlay",
              "size": 10,
              "solidity": 0.2
             }
            },
            "type": "bar"
           }
          ],
          "barpolar": [
           {
            "marker": {
             "line": {
              "color": "#E5ECF6",
              "width": 0.5
             },
             "pattern": {
              "fillmode": "overlay",
              "size": 10,
              "solidity": 0.2
             }
            },
            "type": "barpolar"
           }
          ],
          "carpet": [
           {
            "aaxis": {
             "endlinecolor": "#2a3f5f",
             "gridcolor": "white",
             "linecolor": "white",
             "minorgridcolor": "white",
             "startlinecolor": "#2a3f5f"
            },
            "baxis": {
             "endlinecolor": "#2a3f5f",
             "gridcolor": "white",
             "linecolor": "white",
             "minorgridcolor": "white",
             "startlinecolor": "#2a3f5f"
            },
            "type": "carpet"
           }
          ],
          "choropleth": [
           {
            "colorbar": {
             "outlinewidth": 0,
             "ticks": ""
            },
            "type": "choropleth"
           }
          ],
          "contour": [
           {
            "colorbar": {
             "outlinewidth": 0,
             "ticks": ""
            },
            "colorscale": [
             [
              0,
              "#0d0887"
             ],
             [
              0.1111111111111111,
              "#46039f"
             ],
             [
              0.2222222222222222,
              "#7201a8"
             ],
             [
              0.3333333333333333,
              "#9c179e"
             ],
             [
              0.4444444444444444,
              "#bd3786"
             ],
             [
              0.5555555555555556,
              "#d8576b"
             ],
             [
              0.6666666666666666,
              "#ed7953"
             ],
             [
              0.7777777777777778,
              "#fb9f3a"
             ],
             [
              0.8888888888888888,
              "#fdca26"
             ],
             [
              1,
              "#f0f921"
             ]
            ],
            "type": "contour"
           }
          ],
          "contourcarpet": [
           {
            "colorbar": {
             "outlinewidth": 0,
             "ticks": ""
            },
            "type": "contourcarpet"
           }
          ],
          "heatmap": [
           {
            "colorbar": {
             "outlinewidth": 0,
             "ticks": ""
            },
            "colorscale": [
             [
              0,
              "#0d0887"
             ],
             [
              0.1111111111111111,
              "#46039f"
             ],
             [
              0.2222222222222222,
              "#7201a8"
             ],
             [
              0.3333333333333333,
              "#9c179e"
             ],
             [
              0.4444444444444444,
              "#bd3786"
             ],
             [
              0.5555555555555556,
              "#d8576b"
             ],
             [
              0.6666666666666666,
              "#ed7953"
             ],
             [
              0.7777777777777778,
              "#fb9f3a"
             ],
             [
              0.8888888888888888,
              "#fdca26"
             ],
             [
              1,
              "#f0f921"
             ]
            ],
            "type": "heatmap"
           }
          ],
          "heatmapgl": [
           {
            "colorbar": {
             "outlinewidth": 0,
             "ticks": ""
            },
            "colorscale": [
             [
              0,
              "#0d0887"
             ],
             [
              0.1111111111111111,
              "#46039f"
             ],
             [
              0.2222222222222222,
              "#7201a8"
             ],
             [
              0.3333333333333333,
              "#9c179e"
             ],
             [
              0.4444444444444444,
              "#bd3786"
             ],
             [
              0.5555555555555556,
              "#d8576b"
             ],
             [
              0.6666666666666666,
              "#ed7953"
             ],
             [
              0.7777777777777778,
              "#fb9f3a"
             ],
             [
              0.8888888888888888,
              "#fdca26"
             ],
             [
              1,
              "#f0f921"
             ]
            ],
            "type": "heatmapgl"
           }
          ],
          "histogram": [
           {
            "marker": {
             "pattern": {
              "fillmode": "overlay",
              "size": 10,
              "solidity": 0.2
             }
            },
            "type": "histogram"
           }
          ],
          "histogram2d": [
           {
            "colorbar": {
             "outlinewidth": 0,
             "ticks": ""
            },
            "colorscale": [
             [
              0,
              "#0d0887"
             ],
             [
              0.1111111111111111,
              "#46039f"
             ],
             [
              0.2222222222222222,
              "#7201a8"
             ],
             [
              0.3333333333333333,
              "#9c179e"
             ],
             [
              0.4444444444444444,
              "#bd3786"
             ],
             [
              0.5555555555555556,
              "#d8576b"
             ],
             [
              0.6666666666666666,
              "#ed7953"
             ],
             [
              0.7777777777777778,
              "#fb9f3a"
             ],
             [
              0.8888888888888888,
              "#fdca26"
             ],
             [
              1,
              "#f0f921"
             ]
            ],
            "type": "histogram2d"
           }
          ],
          "histogram2dcontour": [
           {
            "colorbar": {
             "outlinewidth": 0,
             "ticks": ""
            },
            "colorscale": [
             [
              0,
              "#0d0887"
             ],
             [
              0.1111111111111111,
              "#46039f"
             ],
             [
              0.2222222222222222,
              "#7201a8"
             ],
             [
              0.3333333333333333,
              "#9c179e"
             ],
             [
              0.4444444444444444,
              "#bd3786"
             ],
             [
              0.5555555555555556,
              "#d8576b"
             ],
             [
              0.6666666666666666,
              "#ed7953"
             ],
             [
              0.7777777777777778,
              "#fb9f3a"
             ],
             [
              0.8888888888888888,
              "#fdca26"
             ],
             [
              1,
              "#f0f921"
             ]
            ],
            "type": "histogram2dcontour"
           }
          ],
          "mesh3d": [
           {
            "colorbar": {
             "outlinewidth": 0,
             "ticks": ""
            },
            "type": "mesh3d"
           }
          ],
          "parcoords": [
           {
            "line": {
             "colorbar": {
              "outlinewidth": 0,
              "ticks": ""
             }
            },
            "type": "parcoords"
           }
          ],
          "pie": [
           {
            "automargin": true,
            "type": "pie"
           }
          ],
          "scatter": [
           {
            "fillpattern": {
             "fillmode": "overlay",
             "size": 10,
             "solidity": 0.2
            },
            "type": "scatter"
           }
          ],
          "scatter3d": [
           {
            "line": {
             "colorbar": {
              "outlinewidth": 0,
              "ticks": ""
             }
            },
            "marker": {
             "colorbar": {
              "outlinewidth": 0,
              "ticks": ""
             }
            },
            "type": "scatter3d"
           }
          ],
          "scattercarpet": [
           {
            "marker": {
             "colorbar": {
              "outlinewidth": 0,
              "ticks": ""
             }
            },
            "type": "scattercarpet"
           }
          ],
          "scattergeo": [
           {
            "marker": {
             "colorbar": {
              "outlinewidth": 0,
              "ticks": ""
             }
            },
            "type": "scattergeo"
           }
          ],
          "scattergl": [
           {
            "marker": {
             "colorbar": {
              "outlinewidth": 0,
              "ticks": ""
             }
            },
            "type": "scattergl"
           }
          ],
          "scattermapbox": [
           {
            "marker": {
             "colorbar": {
              "outlinewidth": 0,
              "ticks": ""
             }
            },
            "type": "scattermapbox"
           }
          ],
          "scatterpolar": [
           {
            "marker": {
             "colorbar": {
              "outlinewidth": 0,
              "ticks": ""
             }
            },
            "type": "scatterpolar"
           }
          ],
          "scatterpolargl": [
           {
            "marker": {
             "colorbar": {
              "outlinewidth": 0,
              "ticks": ""
             }
            },
            "type": "scatterpolargl"
           }
          ],
          "scatterternary": [
           {
            "marker": {
             "colorbar": {
              "outlinewidth": 0,
              "ticks": ""
             }
            },
            "type": "scatterternary"
           }
          ],
          "surface": [
           {
            "colorbar": {
             "outlinewidth": 0,
             "ticks": ""
            },
            "colorscale": [
             [
              0,
              "#0d0887"
             ],
             [
              0.1111111111111111,
              "#46039f"
             ],
             [
              0.2222222222222222,
              "#7201a8"
             ],
             [
              0.3333333333333333,
              "#9c179e"
             ],
             [
              0.4444444444444444,
              "#bd3786"
             ],
             [
              0.5555555555555556,
              "#d8576b"
             ],
             [
              0.6666666666666666,
              "#ed7953"
             ],
             [
              0.7777777777777778,
              "#fb9f3a"
             ],
             [
              0.8888888888888888,
              "#fdca26"
             ],
             [
              1,
              "#f0f921"
             ]
            ],
            "type": "surface"
           }
          ],
          "table": [
           {
            "cells": {
             "fill": {
              "color": "#EBF0F8"
             },
             "line": {
              "color": "white"
             }
            },
            "header": {
             "fill": {
              "color": "#C8D4E3"
             },
             "line": {
              "color": "white"
             }
            },
            "type": "table"
           }
          ]
         },
         "layout": {
          "annotationdefaults": {
           "arrowcolor": "#2a3f5f",
           "arrowhead": 0,
           "arrowwidth": 1
          },
          "autotypenumbers": "strict",
          "coloraxis": {
           "colorbar": {
            "outlinewidth": 0,
            "ticks": ""
           }
          },
          "colorscale": {
           "diverging": [
            [
             0,
             "#8e0152"
            ],
            [
             0.1,
             "#c51b7d"
            ],
            [
             0.2,
             "#de77ae"
            ],
            [
             0.3,
             "#f1b6da"
            ],
            [
             0.4,
             "#fde0ef"
            ],
            [
             0.5,
             "#f7f7f7"
            ],
            [
             0.6,
             "#e6f5d0"
            ],
            [
             0.7,
             "#b8e186"
            ],
            [
             0.8,
             "#7fbc41"
            ],
            [
             0.9,
             "#4d9221"
            ],
            [
             1,
             "#276419"
            ]
           ],
           "sequential": [
            [
             0,
             "#0d0887"
            ],
            [
             0.1111111111111111,
             "#46039f"
            ],
            [
             0.2222222222222222,
             "#7201a8"
            ],
            [
             0.3333333333333333,
             "#9c179e"
            ],
            [
             0.4444444444444444,
             "#bd3786"
            ],
            [
             0.5555555555555556,
             "#d8576b"
            ],
            [
             0.6666666666666666,
             "#ed7953"
            ],
            [
             0.7777777777777778,
             "#fb9f3a"
            ],
            [
             0.8888888888888888,
             "#fdca26"
            ],
            [
             1,
             "#f0f921"
            ]
           ],
           "sequentialminus": [
            [
             0,
             "#0d0887"
            ],
            [
             0.1111111111111111,
             "#46039f"
            ],
            [
             0.2222222222222222,
             "#7201a8"
            ],
            [
             0.3333333333333333,
             "#9c179e"
            ],
            [
             0.4444444444444444,
             "#bd3786"
            ],
            [
             0.5555555555555556,
             "#d8576b"
            ],
            [
             0.6666666666666666,
             "#ed7953"
            ],
            [
             0.7777777777777778,
             "#fb9f3a"
            ],
            [
             0.8888888888888888,
             "#fdca26"
            ],
            [
             1,
             "#f0f921"
            ]
           ]
          },
          "colorway": [
           "#636efa",
           "#EF553B",
           "#00cc96",
           "#ab63fa",
           "#FFA15A",
           "#19d3f3",
           "#FF6692",
           "#B6E880",
           "#FF97FF",
           "#FECB52"
          ],
          "font": {
           "color": "#2a3f5f"
          },
          "geo": {
           "bgcolor": "white",
           "lakecolor": "white",
           "landcolor": "#E5ECF6",
           "showlakes": true,
           "showland": true,
           "subunitcolor": "white"
          },
          "hoverlabel": {
           "align": "left"
          },
          "hovermode": "closest",
          "mapbox": {
           "style": "light"
          },
          "paper_bgcolor": "white",
          "plot_bgcolor": "#E5ECF6",
          "polar": {
           "angularaxis": {
            "gridcolor": "white",
            "linecolor": "white",
            "ticks": ""
           },
           "bgcolor": "#E5ECF6",
           "radialaxis": {
            "gridcolor": "white",
            "linecolor": "white",
            "ticks": ""
           }
          },
          "scene": {
           "xaxis": {
            "backgroundcolor": "#E5ECF6",
            "gridcolor": "white",
            "gridwidth": 2,
            "linecolor": "white",
            "showbackground": true,
            "ticks": "",
            "zerolinecolor": "white"
           },
           "yaxis": {
            "backgroundcolor": "#E5ECF6",
            "gridcolor": "white",
            "gridwidth": 2,
            "linecolor": "white",
            "showbackground": true,
            "ticks": "",
            "zerolinecolor": "white"
           },
           "zaxis": {
            "backgroundcolor": "#E5ECF6",
            "gridcolor": "white",
            "gridwidth": 2,
            "linecolor": "white",
            "showbackground": true,
            "ticks": "",
            "zerolinecolor": "white"
           }
          },
          "shapedefaults": {
           "line": {
            "color": "#2a3f5f"
           }
          },
          "ternary": {
           "aaxis": {
            "gridcolor": "white",
            "linecolor": "white",
            "ticks": ""
           },
           "baxis": {
            "gridcolor": "white",
            "linecolor": "white",
            "ticks": ""
           },
           "bgcolor": "#E5ECF6",
           "caxis": {
            "gridcolor": "white",
            "linecolor": "white",
            "ticks": ""
           }
          },
          "title": {
           "x": 0.05
          },
          "xaxis": {
           "automargin": true,
           "gridcolor": "white",
           "linecolor": "white",
           "ticks": "",
           "title": {
            "standoff": 15
           },
           "zerolinecolor": "white",
           "zerolinewidth": 2
          },
          "yaxis": {
           "automargin": true,
           "gridcolor": "white",
           "linecolor": "white",
           "ticks": "",
           "title": {
            "standoff": 15
           },
           "zerolinecolor": "white",
           "zerolinewidth": 2
          }
         }
        },
        "title": {
         "text": "Percentage of (not) purchased travel insurances by the number of family member"
        },
        "xaxis": {
         "anchor": "y",
         "domain": [
          0,
          1
         ],
         "title": {
          "text": ""
         }
        },
        "yaxis": {
         "anchor": "x",
         "domain": [
          0,
          1
         ],
         "title": {
          "text": ""
         }
        }
       }
      }
     },
     "metadata": {},
     "output_type": "display_data"
    }
   ],
   "source": [
    "family_reseted = family_perc.reset_index()\n",
    "mf.plot_stacked_barchart_plotly(\n",
    "    family_reseted,\n",
    "    \"family_members\",\n",
    "    [\"no\", \"yes\"],\n",
    "    \"Percentage of (not) purchased travel insurances by the number of family member\",\n",
    "    \"Purchased insurance or not\",\n",
    ")"
   ]
  },
  {
   "cell_type": "code",
   "execution_count": 58,
   "metadata": {},
   "outputs": [
    {
     "data": {
      "image/png": "[encoded data removed]",
      "text/plain": [
       "<IPython.core.display.Image object>"
      ]
     },
     "execution_count": 58,
     "metadata": {},
     "output_type": "execute_result"
    }
   ],
   "source": [
    "# If plotly doesn't show a chart, here it is.\n",
    "Image(filename='png\\stacked_family_members.png')"
   ]
  },
  {
   "cell_type": "markdown",
   "metadata": {},
   "source": [
    "So we see, that respondents have from two to nine members in their families. The largest category was - 4, then 3 and 5 members. From the bar chart above we see that by percentage more travel insurance polices were bought by people with larger families (from 6 to 9), where the percentage of purchased insurances varies from 43 to 47 percent, except families of 7 people (37 percent). In the largest category (families of 4 members) - almost 32 percent out of 505 people bought this insurance. But no really strong patterns can be found by this category."
   ]
  },
  {
   "cell_type": "markdown",
   "metadata": {},
   "source": [
    "* In this part I want to add one more feature - annual_income_per person, as it can be very different in small and large families and could be a new indicator if a person even can afford to buy insurance."
   ]
  },
  {
   "cell_type": "code",
   "execution_count": 60,
   "metadata": {},
   "outputs": [
    {
     "data": {
      "text/html": [
       "<div>\n",
       "<style scoped>\n",
       "    .dataframe tbody tr th:only-of-type {\n",
       "        vertical-align: middle;\n",
       "    }\n",
       "\n",
       "    .dataframe tbody tr th {\n",
       "        vertical-align: top;\n",
       "    }\n",
       "\n",
       "    .dataframe thead th {\n",
       "        text-align: right;\n",
       "    }\n",
       "</style>\n",
       "<table border=\"1\" class=\"dataframe\">\n",
       "  <thead>\n",
       "    <tr style=\"text-align: right;\">\n",
       "      <th></th>\n",
       "      <th>age</th>\n",
       "      <th>employment_type</th>\n",
       "      <th>graduate_or_not</th>\n",
       "      <th>annual_income</th>\n",
       "      <th>family_members</th>\n",
       "      <th>chronic_diseases</th>\n",
       "      <th>frequent_flyer</th>\n",
       "      <th>ever_travelled_abroad</th>\n",
       "      <th>travel_insurance</th>\n",
       "      <th>annual_income_per_person</th>\n",
       "    </tr>\n",
       "  </thead>\n",
       "  <tbody>\n",
       "    <tr>\n",
       "      <th>0</th>\n",
       "      <td>31</td>\n",
       "      <td>government sector</td>\n",
       "      <td>yes</td>\n",
       "      <td>400000</td>\n",
       "      <td>6</td>\n",
       "      <td>yes</td>\n",
       "      <td>no</td>\n",
       "      <td>no</td>\n",
       "      <td>no</td>\n",
       "      <td>66666.67</td>\n",
       "    </tr>\n",
       "    <tr>\n",
       "      <th>1</th>\n",
       "      <td>31</td>\n",
       "      <td>private sector/self employed</td>\n",
       "      <td>yes</td>\n",
       "      <td>1250000</td>\n",
       "      <td>7</td>\n",
       "      <td>no</td>\n",
       "      <td>no</td>\n",
       "      <td>no</td>\n",
       "      <td>no</td>\n",
       "      <td>178571.43</td>\n",
       "    </tr>\n",
       "    <tr>\n",
       "      <th>2</th>\n",
       "      <td>34</td>\n",
       "      <td>private sector/self employed</td>\n",
       "      <td>yes</td>\n",
       "      <td>500000</td>\n",
       "      <td>4</td>\n",
       "      <td>yes</td>\n",
       "      <td>no</td>\n",
       "      <td>no</td>\n",
       "      <td>yes</td>\n",
       "      <td>125000.00</td>\n",
       "    </tr>\n",
       "    <tr>\n",
       "      <th>3</th>\n",
       "      <td>28</td>\n",
       "      <td>private sector/self employed</td>\n",
       "      <td>yes</td>\n",
       "      <td>700000</td>\n",
       "      <td>3</td>\n",
       "      <td>yes</td>\n",
       "      <td>no</td>\n",
       "      <td>no</td>\n",
       "      <td>no</td>\n",
       "      <td>233333.33</td>\n",
       "    </tr>\n",
       "    <tr>\n",
       "      <th>4</th>\n",
       "      <td>28</td>\n",
       "      <td>private sector/self employed</td>\n",
       "      <td>yes</td>\n",
       "      <td>700000</td>\n",
       "      <td>8</td>\n",
       "      <td>yes</td>\n",
       "      <td>yes</td>\n",
       "      <td>no</td>\n",
       "      <td>no</td>\n",
       "      <td>87500.00</td>\n",
       "    </tr>\n",
       "  </tbody>\n",
       "</table>\n",
       "</div>"
      ],
      "text/plain": [
       "   age               employment_type graduate_or_not  annual_income  \\\n",
       "0   31             government sector             yes         400000   \n",
       "1   31  private sector/self employed             yes        1250000   \n",
       "2   34  private sector/self employed             yes         500000   \n",
       "3   28  private sector/self employed             yes         700000   \n",
       "4   28  private sector/self employed             yes         700000   \n",
       "\n",
       "   family_members chronic_diseases frequent_flyer ever_travelled_abroad  \\\n",
       "0               6              yes             no                    no   \n",
       "1               7               no             no                    no   \n",
       "2               4              yes             no                    no   \n",
       "3               3              yes             no                    no   \n",
       "4               8              yes            yes                    no   \n",
       "\n",
       "  travel_insurance  annual_income_per_person  \n",
       "0               no                  66666.67  \n",
       "1               no                 178571.43  \n",
       "2              yes                 125000.00  \n",
       "3               no                 233333.33  \n",
       "4               no                  87500.00  "
      ]
     },
     "execution_count": 60,
     "metadata": {},
     "output_type": "execute_result"
    }
   ],
   "source": [
    "insurance_df['annual_income_per_person'] = insurance_df['annual_income']/insurance_df['family_members']\n",
    "insurance_df.head()"
   ]
  },
  {
   "cell_type": "markdown",
   "metadata": {},
   "source": [
    "### 2.2.6. **chronic_diseases**"
   ]
  },
  {
   "cell_type": "code",
   "execution_count": 61,
   "metadata": {},
   "outputs": [
    {
     "data": {
      "text/plain": [
       "1987"
      ]
     },
     "execution_count": 61,
     "metadata": {},
     "output_type": "execute_result"
    }
   ],
   "source": [
    "len(insurance_df)"
   ]
  },
  {
   "cell_type": "code",
   "execution_count": 62,
   "metadata": {},
   "outputs": [
    {
     "data": {
      "text/plain": [
       "no     1435\n",
       "yes     552\n",
       "Name: chronic_diseases, dtype: int64"
      ]
     },
     "execution_count": 62,
     "metadata": {},
     "output_type": "execute_result"
    }
   ],
   "source": [
    "insurance_df.chronic_diseases.value_counts()"
   ]
  },
  {
   "cell_type": "markdown",
   "metadata": {},
   "source": [
    "In the majority (1435 out of 1987) of observations in this data set people have specified, that they have no chronic diseases. Let's see which group was tend to buy insurances more."
   ]
  },
  {
   "cell_type": "code",
   "execution_count": 63,
   "metadata": {},
   "outputs": [
    {
     "data": {
      "image/png": "[encoded data removed]",
      "text/plain": [
       "<Figure size 576x288 with 1 Axes>"
      ]
     },
     "metadata": {},
     "output_type": "display_data"
    }
   ],
   "source": [
    "mf.plot_countplot(\n",
    "    insurance_df,\n",
    "    'travel_insurance',\n",
    "    'chronic_diseases',\n",
    "    'Travel insurance (not) purchased by chronic diseases',\n",
    ")"
   ]
  },
  {
   "cell_type": "code",
   "execution_count": 65,
   "metadata": {},
   "outputs": [
    {
     "data": {
      "text/html": [
       "<div>\n",
       "<style scoped>\n",
       "    .dataframe tbody tr th:only-of-type {\n",
       "        vertical-align: middle;\n",
       "    }\n",
       "\n",
       "    .dataframe tbody tr th {\n",
       "        vertical-align: top;\n",
       "    }\n",
       "\n",
       "    .dataframe thead th {\n",
       "        text-align: right;\n",
       "    }\n",
       "</style>\n",
       "<table border=\"1\" class=\"dataframe\">\n",
       "  <thead>\n",
       "    <tr style=\"text-align: right;\">\n",
       "      <th>travel_insurance</th>\n",
       "      <th>no</th>\n",
       "      <th>yes</th>\n",
       "    </tr>\n",
       "    <tr>\n",
       "      <th>chronic_diseases</th>\n",
       "      <th></th>\n",
       "      <th></th>\n",
       "    </tr>\n",
       "  </thead>\n",
       "  <tbody>\n",
       "    <tr>\n",
       "      <th>no</th>\n",
       "      <td>64.81</td>\n",
       "      <td>35.19</td>\n",
       "    </tr>\n",
       "    <tr>\n",
       "      <th>yes</th>\n",
       "      <td>62.86</td>\n",
       "      <td>37.14</td>\n",
       "    </tr>\n",
       "  </tbody>\n",
       "</table>\n",
       "</div>"
      ],
      "text/plain": [
       "travel_insurance    no   yes\n",
       "chronic_diseases            \n",
       "no               64.81 35.19\n",
       "yes              62.86 37.14"
      ]
     },
     "execution_count": 65,
     "metadata": {},
     "output_type": "execute_result"
    }
   ],
   "source": [
    "diseases_perc = mf.make_crosstab_percent(\n",
    "    insurance_df, 'chronic_diseases', 'travel_insurance'\n",
    ")\n",
    "diseases_perc"
   ]
  },
  {
   "cell_type": "markdown",
   "metadata": {},
   "source": [
    "It is quite surprising, but people with chronic diseases according to this bar chart and cross table doesn't look to be more interested in travel insurance with coverage from covid-19. There is only 2 percent increase in the group of people with chronic diseases to buy travel insurance than in the group of healthy (as they claim) people."
   ]
  },
  {
   "cell_type": "markdown",
   "metadata": {},
   "source": [
    "### 2.2.7. **frequent_flyer**"
   ]
  },
  {
   "cell_type": "code",
   "execution_count": 66,
   "metadata": {},
   "outputs": [
    {
     "data": {
      "text/plain": [
       "no     1570\n",
       "yes     417\n",
       "Name: frequent_flyer, dtype: int64"
      ]
     },
     "execution_count": 66,
     "metadata": {},
     "output_type": "execute_result"
    }
   ],
   "source": [
    "insurance_df.frequent_flyer.value_counts()"
   ]
  },
  {
   "cell_type": "markdown",
   "metadata": {},
   "source": [
    "The minority of people claimed to be frequent flyers."
   ]
  },
  {
   "cell_type": "code",
   "execution_count": 67,
   "metadata": {},
   "outputs": [
    {
     "data": {
      "image/png": "[encoded data removed]",
      "text/plain": [
       "<Figure size 576x288 with 1 Axes>"
      ]
     },
     "metadata": {},
     "output_type": "display_data"
    }
   ],
   "source": [
    "mf.plot_countplot(\n",
    "    insurance_df,\n",
    "    'travel_insurance',\n",
    "    'frequent_flyer',\n",
    "    'Travel insurance (not) purchased by frequent flyer or not',\n",
    ")"
   ]
  },
  {
   "cell_type": "code",
   "execution_count": 68,
   "metadata": {},
   "outputs": [
    {
     "data": {
      "text/html": [
       "<div>\n",
       "<style scoped>\n",
       "    .dataframe tbody tr th:only-of-type {\n",
       "        vertical-align: middle;\n",
       "    }\n",
       "\n",
       "    .dataframe tbody tr th {\n",
       "        vertical-align: top;\n",
       "    }\n",
       "\n",
       "    .dataframe thead th {\n",
       "        text-align: right;\n",
       "    }\n",
       "</style>\n",
       "<table border=\"1\" class=\"dataframe\">\n",
       "  <thead>\n",
       "    <tr style=\"text-align: right;\">\n",
       "      <th>travel_insurance</th>\n",
       "      <th>no</th>\n",
       "      <th>yes</th>\n",
       "    </tr>\n",
       "    <tr>\n",
       "      <th>frequent_flyer</th>\n",
       "      <th></th>\n",
       "      <th></th>\n",
       "    </tr>\n",
       "  </thead>\n",
       "  <tbody>\n",
       "    <tr>\n",
       "      <th>no</th>\n",
       "      <td>70.00</td>\n",
       "      <td>30.00</td>\n",
       "    </tr>\n",
       "    <tr>\n",
       "      <th>yes</th>\n",
       "      <td>42.69</td>\n",
       "      <td>57.31</td>\n",
       "    </tr>\n",
       "  </tbody>\n",
       "</table>\n",
       "</div>"
      ],
      "text/plain": [
       "travel_insurance    no   yes\n",
       "frequent_flyer              \n",
       "no               70.00 30.00\n",
       "yes              42.69 57.31"
      ]
     },
     "execution_count": 68,
     "metadata": {},
     "output_type": "execute_result"
    }
   ],
   "source": [
    "flyer_perc = mf.make_crosstab_percent(insurance_df, 'frequent_flyer', 'travel_insurance')\n",
    "flyer_perc"
   ]
  },
  {
   "cell_type": "markdown",
   "metadata": {},
   "source": [
    "There we can see stronger relationship between those, who claimed, that are frequent flyers and the purchased travel insurances. More than 57 percent in this group frequent_flyers had a travel insurance with covid-19 coverage, while in the non frequent flyers group - only 30 percent had this insurance. But it must be accounted, that there were only 417 frequent flyers in the whole group of 1987 observations."
   ]
  },
  {
   "cell_type": "markdown",
   "metadata": {},
   "source": [
    "### 2.2.8. **ever_travelled_abroad**"
   ]
  },
  {
   "cell_type": "code",
   "execution_count": 69,
   "metadata": {},
   "outputs": [
    {
     "data": {
      "text/plain": [
       "no     1607\n",
       "yes     380\n",
       "Name: ever_travelled_abroad, dtype: int64"
      ]
     },
     "execution_count": 69,
     "metadata": {},
     "output_type": "execute_result"
    }
   ],
   "source": [
    "insurance_df.ever_travelled_abroad.value_counts()"
   ]
  },
  {
   "cell_type": "markdown",
   "metadata": {},
   "source": [
    "There is also only the minority of people, who claimed ever traveled abroad (380 out of 1987). "
   ]
  },
  {
   "cell_type": "code",
   "execution_count": 70,
   "metadata": {},
   "outputs": [
    {
     "data": {
      "image/png": "[encoded data removed]",
      "text/plain": [
       "<Figure size 576x288 with 1 Axes>"
      ]
     },
     "metadata": {},
     "output_type": "display_data"
    }
   ],
   "source": [
    "mf.plot_countplot(\n",
    "    insurance_df,\n",
    "    'travel_insurance',\n",
    "    'ever_travelled_abroad',\n",
    "    'Travel insurance (not) purchased by ever traveled abroad or not',\n",
    ")"
   ]
  },
  {
   "cell_type": "code",
   "execution_count": 71,
   "metadata": {},
   "outputs": [
    {
     "data": {
      "text/html": [
       "<div>\n",
       "<style scoped>\n",
       "    .dataframe tbody tr th:only-of-type {\n",
       "        vertical-align: middle;\n",
       "    }\n",
       "\n",
       "    .dataframe tbody tr th {\n",
       "        vertical-align: top;\n",
       "    }\n",
       "\n",
       "    .dataframe thead th {\n",
       "        text-align: right;\n",
       "    }\n",
       "</style>\n",
       "<table border=\"1\" class=\"dataframe\">\n",
       "  <thead>\n",
       "    <tr style=\"text-align: right;\">\n",
       "      <th>travel_insurance</th>\n",
       "      <th>no</th>\n",
       "      <th>yes</th>\n",
       "    </tr>\n",
       "    <tr>\n",
       "      <th>ever_travelled_abroad</th>\n",
       "      <th></th>\n",
       "      <th></th>\n",
       "    </tr>\n",
       "  </thead>\n",
       "  <tbody>\n",
       "    <tr>\n",
       "      <th>no</th>\n",
       "      <td>74.36</td>\n",
       "      <td>25.64</td>\n",
       "    </tr>\n",
       "    <tr>\n",
       "      <th>yes</th>\n",
       "      <td>21.58</td>\n",
       "      <td>78.42</td>\n",
       "    </tr>\n",
       "  </tbody>\n",
       "</table>\n",
       "</div>"
      ],
      "text/plain": [
       "travel_insurance         no   yes\n",
       "ever_travelled_abroad            \n",
       "no                    74.36 25.64\n",
       "yes                   21.58 78.42"
      ]
     },
     "execution_count": 71,
     "metadata": {},
     "output_type": "execute_result"
    }
   ],
   "source": [
    "travelers_perc = mf.make_crosstab_percent(insurance_df, 'ever_travelled_abroad', 'travel_insurance')\n",
    "travelers_perc"
   ]
  },
  {
   "cell_type": "code",
   "execution_count": 72,
   "metadata": {},
   "outputs": [
    {
     "data": {
      "text/html": [
       "<div>\n",
       "<style scoped>\n",
       "    .dataframe tbody tr th:only-of-type {\n",
       "        vertical-align: middle;\n",
       "    }\n",
       "\n",
       "    .dataframe tbody tr th {\n",
       "        vertical-align: top;\n",
       "    }\n",
       "\n",
       "    .dataframe thead th {\n",
       "        text-align: right;\n",
       "    }\n",
       "</style>\n",
       "<table border=\"1\" class=\"dataframe\">\n",
       "  <thead>\n",
       "    <tr style=\"text-align: right;\">\n",
       "      <th>travel_insurance</th>\n",
       "      <th>no</th>\n",
       "      <th>yes</th>\n",
       "    </tr>\n",
       "    <tr>\n",
       "      <th>ever_travelled_abroad</th>\n",
       "      <th></th>\n",
       "      <th></th>\n",
       "    </tr>\n",
       "  </thead>\n",
       "  <tbody>\n",
       "    <tr>\n",
       "      <th>no</th>\n",
       "      <td>1195</td>\n",
       "      <td>412</td>\n",
       "    </tr>\n",
       "    <tr>\n",
       "      <th>yes</th>\n",
       "      <td>82</td>\n",
       "      <td>298</td>\n",
       "    </tr>\n",
       "  </tbody>\n",
       "</table>\n",
       "</div>"
      ],
      "text/plain": [
       "travel_insurance         no  yes\n",
       "ever_travelled_abroad           \n",
       "no                     1195  412\n",
       "yes                      82  298"
      ]
     },
     "execution_count": 72,
     "metadata": {},
     "output_type": "execute_result"
    }
   ],
   "source": [
    "travelers_numbers = mf.make_crosstab_number(insurance_df, 'ever_travelled_abroad', 'travel_insurance')\n",
    "travelers_numbers"
   ]
  },
  {
   "cell_type": "markdown",
   "metadata": {},
   "source": [
    "So these, who claimed to travel abroad, are strongly tended to buy travel insurance - more than 78 percent of them bought travel insurance. Let's see is this proportions statistically significant."
   ]
  },
  {
   "cell_type": "markdown",
   "metadata": {},
   "source": [
    "* **Inferential statistical analysis:**"
   ]
  },
  {
   "cell_type": "code",
   "execution_count": 73,
   "metadata": {},
   "outputs": [
    {
     "data": {
      "text/html": [
       "<div>\n",
       "<style scoped>\n",
       "    .dataframe tbody tr th:only-of-type {\n",
       "        vertical-align: middle;\n",
       "    }\n",
       "\n",
       "    .dataframe tbody tr th {\n",
       "        vertical-align: top;\n",
       "    }\n",
       "\n",
       "    .dataframe thead th {\n",
       "        text-align: right;\n",
       "    }\n",
       "</style>\n",
       "<table border=\"1\" class=\"dataframe\">\n",
       "  <thead>\n",
       "    <tr style=\"text-align: right;\">\n",
       "      <th></th>\n",
       "      <th>with_insurance</th>\n",
       "      <th>number_of_people</th>\n",
       "      <th>number_of_insurances</th>\n",
       "    </tr>\n",
       "  </thead>\n",
       "  <tbody>\n",
       "    <tr>\n",
       "      <th>traveled</th>\n",
       "      <td>0.78</td>\n",
       "      <td>380</td>\n",
       "      <td>298</td>\n",
       "    </tr>\n",
       "    <tr>\n",
       "      <th>not_traveled</th>\n",
       "      <td>0.26</td>\n",
       "      <td>1607</td>\n",
       "      <td>412</td>\n",
       "    </tr>\n",
       "  </tbody>\n",
       "</table>\n",
       "</div>"
      ],
      "text/plain": [
       "              with_insurance  number_of_people  number_of_insurances\n",
       "traveled                0.78               380                   298\n",
       "not_traveled            0.26              1607                   412"
      ]
     },
     "execution_count": 73,
     "metadata": {},
     "output_type": "execute_result"
    }
   ],
   "source": [
    "table2 = pd.DataFrame(\n",
    "    {\n",
    "        'with_insurance': [298 / 380, 412 / 1607],\n",
    "        'number_of_people': [380, 1607],\n",
    "        'number_of_insurances': [298, 412],\n",
    "    },\n",
    "    index=['traveled', 'not_traveled'],\n",
    ")\n",
    "table2"
   ]
  },
  {
   "cell_type": "markdown",
   "metadata": {},
   "source": [
    "**Research question:**\n",
    "Is the difference in proportions of people with travel insurance, who had ever traveled abroad and who hadn't, statistically significant?\n",
    "\n",
    "**Population** All people, who were interviewed.\n",
    "\n",
    "People, who claimed, they had traveled abroad = 380\n",
    "\n",
    "People, who claimed they had never traveled abroad = 1607\n",
    "\n",
    "**Parameter of interest** \n",
    "Difference in population proportions: (p(1) - p(2)) -> 0,78 - 0,26 = 0.52\n",
    "                                      \n",
    "\n",
    "**Power of the test** ($1 - \\beta$) - 0.8 \n",
    "\n",
    "**Significance level**: 0.05\n",
    "\n",
    "**Null Hypothesis:** p1 - p2 = 0  (there is no difference)\n",
    "\n",
    "**Alternative Hypothesis:** p1 - p2 > 0\n",
    "\n",
    "One tail testing, the difference is >0\n",
    "\n",
    "**Assumptions**:\n",
    "1. Our samples are independent from each other (taken from different people, different time)."
   ]
  },
  {
   "cell_type": "markdown",
   "metadata": {},
   "source": [
    "* Preliminary power test analysis, to get the needed sample size to avoid p-hacking."
   ]
  },
  {
   "cell_type": "code",
   "execution_count": 74,
   "metadata": {},
   "outputs": [
    {
     "name": "stdout",
     "output_type": "stream",
     "text": [
      "Required sample size:14\n"
     ]
    }
   ],
   "source": [
    "effect_size = sms.proportion_effectsize(\n",
    "    0.78, 0.26\n",
    ")\n",
    "\n",
    "required_n = sms.NormalIndPower().solve_power(\n",
    "    effect_size, power=0.8, alpha=0.05, ratio=1\n",
    ")  \n",
    "required_n = ceil(required_n)\n",
    "print(\n",
    "    f'Required sample size:{required_n}'\n",
    ")"
   ]
  },
  {
   "cell_type": "markdown",
   "metadata": {},
   "source": [
    "I have a much larger sample size, so I think p-hacking should be avoided."
   ]
  },
  {
   "cell_type": "markdown",
   "metadata": {},
   "source": [
    "* **Calculations**"
   ]
  },
  {
   "cell_type": "code",
   "execution_count": 75,
   "metadata": {},
   "outputs": [
    {
     "name": "stdout",
     "output_type": "stream",
     "text": [
      "T-statistics: 19.02292917138244, p-value: 1.101540146383427e-80\n"
     ]
    }
   ],
   "source": [
    "p_comb = (298+412)/1987  # the mean of all insurances\n",
    "va = p_comb * (1 - p_comb)\n",
    "se = np.sqrt(va * (1 / 380 + 1 / 1607))\n",
    "\n",
    "# Calculate the test statistic and its p-value\n",
    "test_stat = (0.78 - 0.26) / se\n",
    "pvalue = 2 * dist.norm.cdf(-np.abs(test_stat))\n",
    "print(f'T-statistics: {test_stat}, p-value: {pvalue}')"
   ]
  },
  {
   "cell_type": "markdown",
   "metadata": {},
   "source": [
    "The difference of the proportions of insurance buyers among people, who had traveled abroad and who hadn't is very large - 0.52. The aim was to check is this difference statistically significant, or maybe made by a chance. \n",
    "From this observed data we got, that the T -statistics in the difference of two proportions is large 19.02, so our observed difference in sample proportions is 19.02 estimated standard errors above our hypothesized mean (0) of equal population proportions. Based on our sample and our p-value is 1.101540146383427e-80, that is almost equal to 0 and is smaller than our set alpha value of 0.05, we have enough evidence to reject the null hypothesis. \n",
    "In this case, we conclude that there is significant difference between the population proportions of insurance buyers among people, who had traveled abroad and who hadn't. \n",
    "\n",
    "Let's check the Confidence interval."
   ]
  },
  {
   "cell_type": "markdown",
   "metadata": {},
   "source": [
    "**Confidence intervals**\n",
    "\n",
    "1. Confidence level of 95%.\n",
    "2. Significant level alpha = 0.05"
   ]
  },
  {
   "cell_type": "code",
   "execution_count": 76,
   "metadata": {},
   "outputs": [
    {
     "data": {
      "text/html": [
       "<div>\n",
       "<style scoped>\n",
       "    .dataframe tbody tr th:only-of-type {\n",
       "        vertical-align: middle;\n",
       "    }\n",
       "\n",
       "    .dataframe tbody tr th {\n",
       "        vertical-align: top;\n",
       "    }\n",
       "\n",
       "    .dataframe thead th {\n",
       "        text-align: right;\n",
       "    }\n",
       "</style>\n",
       "<table border=\"1\" class=\"dataframe\">\n",
       "  <thead>\n",
       "    <tr style=\"text-align: right;\">\n",
       "      <th></th>\n",
       "      <th>with_insurance</th>\n",
       "      <th>number_of_people</th>\n",
       "      <th>number_of_insurances</th>\n",
       "    </tr>\n",
       "  </thead>\n",
       "  <tbody>\n",
       "    <tr>\n",
       "      <th>traveled</th>\n",
       "      <td>0.78</td>\n",
       "      <td>380</td>\n",
       "      <td>298</td>\n",
       "    </tr>\n",
       "    <tr>\n",
       "      <th>not_traveled</th>\n",
       "      <td>0.26</td>\n",
       "      <td>1607</td>\n",
       "      <td>412</td>\n",
       "    </tr>\n",
       "  </tbody>\n",
       "</table>\n",
       "</div>"
      ],
      "text/plain": [
       "              with_insurance  number_of_people  number_of_insurances\n",
       "traveled                0.78               380                   298\n",
       "not_traveled            0.26              1607                   412"
      ]
     },
     "execution_count": 76,
     "metadata": {},
     "output_type": "execute_result"
    }
   ],
   "source": [
    "table2"
   ]
  },
  {
   "cell_type": "code",
   "execution_count": 77,
   "metadata": {},
   "outputs": [
    {
     "name": "stdout",
     "output_type": "stream",
     "text": [
      "CI in proportion of insurances among people, who travel abroad and not: (0.47219601919284643, 0.5678039808071537)\n"
     ]
    }
   ],
   "source": [
    "se_travelers = np.sqrt(0.78* (1 - 0.78) / 380)\n",
    "se_not_travelers = np.sqrt(0.26 * (1 - 0.26) / 1607)\n",
    "\n",
    "se_diff = np.sqrt(se_travelers**2 + se_not_travelers**2)\n",
    "\n",
    "lcb = 0.52- 2*se_diff\n",
    "ucb = 0.52 + 2*se_diff\n",
    "print(f'CI in proportion of insurances among people, who travel abroad and not: {lcb, ucb}')"
   ]
  },
  {
   "cell_type": "markdown",
   "metadata": {},
   "source": [
    "The 95% confidence interval above shows us that any value for the difference of population proportions is lying between 0.47 and 0.56, this is consistent with the observed data, and our estimated differences were 0.52 (more insurances bought people wth traveling abroad experience), which is in that range. 0 in not in this range, so the null hypothesis was rejected correctly."
   ]
  },
  {
   "cell_type": "markdown",
   "metadata": {},
   "source": [
    "Also I want to see how there people claimed to be frequent flyers and traveled abroad together."
   ]
  },
  {
   "cell_type": "code",
   "execution_count": 78,
   "metadata": {},
   "outputs": [
    {
     "data": {
      "text/html": [
       "<div>\n",
       "<style scoped>\n",
       "    .dataframe tbody tr th:only-of-type {\n",
       "        vertical-align: middle;\n",
       "    }\n",
       "\n",
       "    .dataframe tbody tr th {\n",
       "        vertical-align: top;\n",
       "    }\n",
       "\n",
       "    .dataframe thead th {\n",
       "        text-align: right;\n",
       "    }\n",
       "</style>\n",
       "<table border=\"1\" class=\"dataframe\">\n",
       "  <thead>\n",
       "    <tr style=\"text-align: right;\">\n",
       "      <th>frequent_flyer</th>\n",
       "      <th>no</th>\n",
       "      <th>yes</th>\n",
       "    </tr>\n",
       "    <tr>\n",
       "      <th>ever_travelled_abroad</th>\n",
       "      <th></th>\n",
       "      <th></th>\n",
       "    </tr>\n",
       "  </thead>\n",
       "  <tbody>\n",
       "    <tr>\n",
       "      <th>no</th>\n",
       "      <td>1358</td>\n",
       "      <td>249</td>\n",
       "    </tr>\n",
       "    <tr>\n",
       "      <th>yes</th>\n",
       "      <td>212</td>\n",
       "      <td>168</td>\n",
       "    </tr>\n",
       "  </tbody>\n",
       "</table>\n",
       "</div>"
      ],
      "text/plain": [
       "frequent_flyer           no  yes\n",
       "ever_travelled_abroad           \n",
       "no                     1358  249\n",
       "yes                     212  168"
      ]
     },
     "execution_count": 78,
     "metadata": {},
     "output_type": "execute_result"
    }
   ],
   "source": [
    "mf.make_crosstab_number(insurance_df, 'ever_travelled_abroad', 'frequent_flyer')"
   ]
  },
  {
   "cell_type": "markdown",
   "metadata": {},
   "source": [
    "It's an interesting aspect, that even 249 people, who claimed to be frequent flyers, have never traveled abroad. But also having in mind that this data set is from India, probably there may be some domestic flights to travel inside the country. But having other smaller countries in mind, I would think it could be a mistake in answers.\n",
    "\n",
    "* But in this part I want to add a new feature: 'yes' - when person is a frequent flyer and had traveled abroad, 'no' - if these two features do not match as 'yes'."
   ]
  },
  {
   "cell_type": "code",
   "execution_count": 79,
   "metadata": {},
   "outputs": [],
   "source": [
    "def traveler_feature(insurance_df) : \n",
    "    if (insurance_df['frequent_flyer'] == 'yes') & (insurance_df['ever_travelled_abroad'] == 'yes') : \n",
    "        return 'yes'\n",
    "    else : \n",
    "        return 'no'\n",
    "\n",
    "insurance_df['traveller'] = insurance_df.apply(lambda x : traveler_feature(x),axis=1)"
   ]
  },
  {
   "cell_type": "code",
   "execution_count": 80,
   "metadata": {},
   "outputs": [
    {
     "data": {
      "text/html": [
       "<div>\n",
       "<style scoped>\n",
       "    .dataframe tbody tr th:only-of-type {\n",
       "        vertical-align: middle;\n",
       "    }\n",
       "\n",
       "    .dataframe tbody tr th {\n",
       "        vertical-align: top;\n",
       "    }\n",
       "\n",
       "    .dataframe thead th {\n",
       "        text-align: right;\n",
       "    }\n",
       "</style>\n",
       "<table border=\"1\" class=\"dataframe\">\n",
       "  <thead>\n",
       "    <tr style=\"text-align: right;\">\n",
       "      <th></th>\n",
       "      <th>age</th>\n",
       "      <th>employment_type</th>\n",
       "      <th>graduate_or_not</th>\n",
       "      <th>annual_income</th>\n",
       "      <th>family_members</th>\n",
       "      <th>chronic_diseases</th>\n",
       "      <th>frequent_flyer</th>\n",
       "      <th>ever_travelled_abroad</th>\n",
       "      <th>travel_insurance</th>\n",
       "      <th>annual_income_per_person</th>\n",
       "      <th>traveller</th>\n",
       "    </tr>\n",
       "  </thead>\n",
       "  <tbody>\n",
       "    <tr>\n",
       "      <th>0</th>\n",
       "      <td>31</td>\n",
       "      <td>government sector</td>\n",
       "      <td>yes</td>\n",
       "      <td>400000</td>\n",
       "      <td>6</td>\n",
       "      <td>yes</td>\n",
       "      <td>no</td>\n",
       "      <td>no</td>\n",
       "      <td>no</td>\n",
       "      <td>66666.67</td>\n",
       "      <td>no</td>\n",
       "    </tr>\n",
       "    <tr>\n",
       "      <th>1</th>\n",
       "      <td>31</td>\n",
       "      <td>private sector/self employed</td>\n",
       "      <td>yes</td>\n",
       "      <td>1250000</td>\n",
       "      <td>7</td>\n",
       "      <td>no</td>\n",
       "      <td>no</td>\n",
       "      <td>no</td>\n",
       "      <td>no</td>\n",
       "      <td>178571.43</td>\n",
       "      <td>no</td>\n",
       "    </tr>\n",
       "    <tr>\n",
       "      <th>2</th>\n",
       "      <td>34</td>\n",
       "      <td>private sector/self employed</td>\n",
       "      <td>yes</td>\n",
       "      <td>500000</td>\n",
       "      <td>4</td>\n",
       "      <td>yes</td>\n",
       "      <td>no</td>\n",
       "      <td>no</td>\n",
       "      <td>yes</td>\n",
       "      <td>125000.00</td>\n",
       "      <td>no</td>\n",
       "    </tr>\n",
       "    <tr>\n",
       "      <th>3</th>\n",
       "      <td>28</td>\n",
       "      <td>private sector/self employed</td>\n",
       "      <td>yes</td>\n",
       "      <td>700000</td>\n",
       "      <td>3</td>\n",
       "      <td>yes</td>\n",
       "      <td>no</td>\n",
       "      <td>no</td>\n",
       "      <td>no</td>\n",
       "      <td>233333.33</td>\n",
       "      <td>no</td>\n",
       "    </tr>\n",
       "    <tr>\n",
       "      <th>4</th>\n",
       "      <td>28</td>\n",
       "      <td>private sector/self employed</td>\n",
       "      <td>yes</td>\n",
       "      <td>700000</td>\n",
       "      <td>8</td>\n",
       "      <td>yes</td>\n",
       "      <td>yes</td>\n",
       "      <td>no</td>\n",
       "      <td>no</td>\n",
       "      <td>87500.00</td>\n",
       "      <td>no</td>\n",
       "    </tr>\n",
       "  </tbody>\n",
       "</table>\n",
       "</div>"
      ],
      "text/plain": [
       "   age               employment_type graduate_or_not  annual_income  \\\n",
       "0   31             government sector             yes         400000   \n",
       "1   31  private sector/self employed             yes        1250000   \n",
       "2   34  private sector/self employed             yes         500000   \n",
       "3   28  private sector/self employed             yes         700000   \n",
       "4   28  private sector/self employed             yes         700000   \n",
       "\n",
       "   family_members chronic_diseases frequent_flyer ever_travelled_abroad  \\\n",
       "0               6              yes             no                    no   \n",
       "1               7               no             no                    no   \n",
       "2               4              yes             no                    no   \n",
       "3               3              yes             no                    no   \n",
       "4               8              yes            yes                    no   \n",
       "\n",
       "  travel_insurance  annual_income_per_person traveller  \n",
       "0               no                  66666.67        no  \n",
       "1               no                 178571.43        no  \n",
       "2              yes                 125000.00        no  \n",
       "3               no                 233333.33        no  \n",
       "4               no                  87500.00        no  "
      ]
     },
     "execution_count": 80,
     "metadata": {},
     "output_type": "execute_result"
    }
   ],
   "source": [
    "insurance_df.head()"
   ]
  },
  {
   "cell_type": "code",
   "execution_count": 81,
   "metadata": {},
   "outputs": [
    {
     "data": {
      "text/html": [
       "<div>\n",
       "<style scoped>\n",
       "    .dataframe tbody tr th:only-of-type {\n",
       "        vertical-align: middle;\n",
       "    }\n",
       "\n",
       "    .dataframe tbody tr th {\n",
       "        vertical-align: top;\n",
       "    }\n",
       "\n",
       "    .dataframe thead th {\n",
       "        text-align: right;\n",
       "    }\n",
       "</style>\n",
       "<table border=\"1\" class=\"dataframe\">\n",
       "  <thead>\n",
       "    <tr style=\"text-align: right;\">\n",
       "      <th>travel_insurance</th>\n",
       "      <th>no</th>\n",
       "      <th>yes</th>\n",
       "    </tr>\n",
       "    <tr>\n",
       "      <th>traveller</th>\n",
       "      <th></th>\n",
       "      <th></th>\n",
       "    </tr>\n",
       "  </thead>\n",
       "  <tbody>\n",
       "    <tr>\n",
       "      <th>no</th>\n",
       "      <td>69.10</td>\n",
       "      <td>30.90</td>\n",
       "    </tr>\n",
       "    <tr>\n",
       "      <th>yes</th>\n",
       "      <td>11.90</td>\n",
       "      <td>88.10</td>\n",
       "    </tr>\n",
       "  </tbody>\n",
       "</table>\n",
       "</div>"
      ],
      "text/plain": [
       "travel_insurance    no   yes\n",
       "traveller                   \n",
       "no               69.10 30.90\n",
       "yes              11.90 88.10"
      ]
     },
     "execution_count": 81,
     "metadata": {},
     "output_type": "execute_result"
    }
   ],
   "source": [
    "travelers = mf.make_crosstab_percent(insurance_df, 'traveller', 'travel_insurance')\n",
    "travelers"
   ]
  },
  {
   "cell_type": "markdown",
   "metadata": {},
   "source": [
    "Oh, well, so yes, even 88 percent of travelers had the insurance."
   ]
  },
  {
   "cell_type": "markdown",
   "metadata": {},
   "source": [
    "## 2.3. Dependencies between variables"
   ]
  },
  {
   "cell_type": "markdown",
   "metadata": {},
   "source": [
    "\n",
    "But first of all we need to replace categorical (boolean) values with numbers."
   ]
  },
  {
   "cell_type": "code",
   "execution_count": 82,
   "metadata": {},
   "outputs": [
    {
     "data": {
      "text/html": [
       "<div>\n",
       "<style scoped>\n",
       "    .dataframe tbody tr th:only-of-type {\n",
       "        vertical-align: middle;\n",
       "    }\n",
       "\n",
       "    .dataframe tbody tr th {\n",
       "        vertical-align: top;\n",
       "    }\n",
       "\n",
       "    .dataframe thead th {\n",
       "        text-align: right;\n",
       "    }\n",
       "</style>\n",
       "<table border=\"1\" class=\"dataframe\">\n",
       "  <thead>\n",
       "    <tr style=\"text-align: right;\">\n",
       "      <th></th>\n",
       "      <th>age</th>\n",
       "      <th>employment_type</th>\n",
       "      <th>graduate_or_not</th>\n",
       "      <th>annual_income</th>\n",
       "      <th>family_members</th>\n",
       "      <th>chronic_diseases</th>\n",
       "      <th>frequent_flyer</th>\n",
       "      <th>ever_travelled_abroad</th>\n",
       "      <th>travel_insurance</th>\n",
       "      <th>annual_income_per_person</th>\n",
       "      <th>traveller</th>\n",
       "    </tr>\n",
       "  </thead>\n",
       "  <tbody>\n",
       "    <tr>\n",
       "      <th>0</th>\n",
       "      <td>31</td>\n",
       "      <td>government sector</td>\n",
       "      <td>yes</td>\n",
       "      <td>400000</td>\n",
       "      <td>6</td>\n",
       "      <td>yes</td>\n",
       "      <td>no</td>\n",
       "      <td>no</td>\n",
       "      <td>no</td>\n",
       "      <td>66666.67</td>\n",
       "      <td>no</td>\n",
       "    </tr>\n",
       "    <tr>\n",
       "      <th>1</th>\n",
       "      <td>31</td>\n",
       "      <td>private sector/self employed</td>\n",
       "      <td>yes</td>\n",
       "      <td>1250000</td>\n",
       "      <td>7</td>\n",
       "      <td>no</td>\n",
       "      <td>no</td>\n",
       "      <td>no</td>\n",
       "      <td>no</td>\n",
       "      <td>178571.43</td>\n",
       "      <td>no</td>\n",
       "    </tr>\n",
       "    <tr>\n",
       "      <th>2</th>\n",
       "      <td>34</td>\n",
       "      <td>private sector/self employed</td>\n",
       "      <td>yes</td>\n",
       "      <td>500000</td>\n",
       "      <td>4</td>\n",
       "      <td>yes</td>\n",
       "      <td>no</td>\n",
       "      <td>no</td>\n",
       "      <td>yes</td>\n",
       "      <td>125000.00</td>\n",
       "      <td>no</td>\n",
       "    </tr>\n",
       "    <tr>\n",
       "      <th>3</th>\n",
       "      <td>28</td>\n",
       "      <td>private sector/self employed</td>\n",
       "      <td>yes</td>\n",
       "      <td>700000</td>\n",
       "      <td>3</td>\n",
       "      <td>yes</td>\n",
       "      <td>no</td>\n",
       "      <td>no</td>\n",
       "      <td>no</td>\n",
       "      <td>233333.33</td>\n",
       "      <td>no</td>\n",
       "    </tr>\n",
       "    <tr>\n",
       "      <th>4</th>\n",
       "      <td>28</td>\n",
       "      <td>private sector/self employed</td>\n",
       "      <td>yes</td>\n",
       "      <td>700000</td>\n",
       "      <td>8</td>\n",
       "      <td>yes</td>\n",
       "      <td>yes</td>\n",
       "      <td>no</td>\n",
       "      <td>no</td>\n",
       "      <td>87500.00</td>\n",
       "      <td>no</td>\n",
       "    </tr>\n",
       "  </tbody>\n",
       "</table>\n",
       "</div>"
      ],
      "text/plain": [
       "   age               employment_type graduate_or_not  annual_income  \\\n",
       "0   31             government sector             yes         400000   \n",
       "1   31  private sector/self employed             yes        1250000   \n",
       "2   34  private sector/self employed             yes         500000   \n",
       "3   28  private sector/self employed             yes         700000   \n",
       "4   28  private sector/self employed             yes         700000   \n",
       "\n",
       "   family_members chronic_diseases frequent_flyer ever_travelled_abroad  \\\n",
       "0               6              yes             no                    no   \n",
       "1               7               no             no                    no   \n",
       "2               4              yes             no                    no   \n",
       "3               3              yes             no                    no   \n",
       "4               8              yes            yes                    no   \n",
       "\n",
       "  travel_insurance  annual_income_per_person traveller  \n",
       "0               no                  66666.67        no  \n",
       "1               no                 178571.43        no  \n",
       "2              yes                 125000.00        no  \n",
       "3               no                 233333.33        no  \n",
       "4               no                  87500.00        no  "
      ]
     },
     "execution_count": 82,
     "metadata": {},
     "output_type": "execute_result"
    }
   ],
   "source": [
    "insurance_df.head()"
   ]
  },
  {
   "cell_type": "code",
   "execution_count": 84,
   "metadata": {},
   "outputs": [],
   "source": [
    "insurance_numeric_df = insurance_df.replace(\n",
    "    to_replace={\n",
    "        \"no\": 0,\n",
    "        \"yes\": 1,\n",
    "        \"government sector\": 0,\n",
    "        \"private sector/self employed\": 1,\n",
    "    }\n",
    ")"
   ]
  },
  {
   "cell_type": "code",
   "execution_count": 85,
   "metadata": {},
   "outputs": [
    {
     "data": {
      "text/html": [
       "<div>\n",
       "<style scoped>\n",
       "    .dataframe tbody tr th:only-of-type {\n",
       "        vertical-align: middle;\n",
       "    }\n",
       "\n",
       "    .dataframe tbody tr th {\n",
       "        vertical-align: top;\n",
       "    }\n",
       "\n",
       "    .dataframe thead th {\n",
       "        text-align: right;\n",
       "    }\n",
       "</style>\n",
       "<table border=\"1\" class=\"dataframe\">\n",
       "  <thead>\n",
       "    <tr style=\"text-align: right;\">\n",
       "      <th></th>\n",
       "      <th>age</th>\n",
       "      <th>employment_type</th>\n",
       "      <th>graduate_or_not</th>\n",
       "      <th>annual_income</th>\n",
       "      <th>family_members</th>\n",
       "      <th>chronic_diseases</th>\n",
       "      <th>frequent_flyer</th>\n",
       "      <th>ever_travelled_abroad</th>\n",
       "      <th>travel_insurance</th>\n",
       "      <th>annual_income_per_person</th>\n",
       "      <th>traveller</th>\n",
       "    </tr>\n",
       "  </thead>\n",
       "  <tbody>\n",
       "    <tr>\n",
       "      <th>0</th>\n",
       "      <td>31</td>\n",
       "      <td>0</td>\n",
       "      <td>1</td>\n",
       "      <td>400000</td>\n",
       "      <td>6</td>\n",
       "      <td>1</td>\n",
       "      <td>0</td>\n",
       "      <td>0</td>\n",
       "      <td>0</td>\n",
       "      <td>66666.67</td>\n",
       "      <td>0</td>\n",
       "    </tr>\n",
       "    <tr>\n",
       "      <th>1</th>\n",
       "      <td>31</td>\n",
       "      <td>1</td>\n",
       "      <td>1</td>\n",
       "      <td>1250000</td>\n",
       "      <td>7</td>\n",
       "      <td>0</td>\n",
       "      <td>0</td>\n",
       "      <td>0</td>\n",
       "      <td>0</td>\n",
       "      <td>178571.43</td>\n",
       "      <td>0</td>\n",
       "    </tr>\n",
       "    <tr>\n",
       "      <th>2</th>\n",
       "      <td>34</td>\n",
       "      <td>1</td>\n",
       "      <td>1</td>\n",
       "      <td>500000</td>\n",
       "      <td>4</td>\n",
       "      <td>1</td>\n",
       "      <td>0</td>\n",
       "      <td>0</td>\n",
       "      <td>1</td>\n",
       "      <td>125000.00</td>\n",
       "      <td>0</td>\n",
       "    </tr>\n",
       "    <tr>\n",
       "      <th>3</th>\n",
       "      <td>28</td>\n",
       "      <td>1</td>\n",
       "      <td>1</td>\n",
       "      <td>700000</td>\n",
       "      <td>3</td>\n",
       "      <td>1</td>\n",
       "      <td>0</td>\n",
       "      <td>0</td>\n",
       "      <td>0</td>\n",
       "      <td>233333.33</td>\n",
       "      <td>0</td>\n",
       "    </tr>\n",
       "    <tr>\n",
       "      <th>4</th>\n",
       "      <td>28</td>\n",
       "      <td>1</td>\n",
       "      <td>1</td>\n",
       "      <td>700000</td>\n",
       "      <td>8</td>\n",
       "      <td>1</td>\n",
       "      <td>1</td>\n",
       "      <td>0</td>\n",
       "      <td>0</td>\n",
       "      <td>87500.00</td>\n",
       "      <td>0</td>\n",
       "    </tr>\n",
       "  </tbody>\n",
       "</table>\n",
       "</div>"
      ],
      "text/plain": [
       "   age  employment_type  graduate_or_not  annual_income  family_members  \\\n",
       "0   31                0                1         400000               6   \n",
       "1   31                1                1        1250000               7   \n",
       "2   34                1                1         500000               4   \n",
       "3   28                1                1         700000               3   \n",
       "4   28                1                1         700000               8   \n",
       "\n",
       "   chronic_diseases  frequent_flyer  ever_travelled_abroad  travel_insurance  \\\n",
       "0                 1               0                      0                 0   \n",
       "1                 0               0                      0                 0   \n",
       "2                 1               0                      0                 1   \n",
       "3                 1               0                      0                 0   \n",
       "4                 1               1                      0                 0   \n",
       "\n",
       "   annual_income_per_person  traveller  \n",
       "0                  66666.67          0  \n",
       "1                 178571.43          0  \n",
       "2                 125000.00          0  \n",
       "3                 233333.33          0  \n",
       "4                  87500.00          0  "
      ]
     },
     "execution_count": 85,
     "metadata": {},
     "output_type": "execute_result"
    }
   ],
   "source": [
    "insurance_numeric_df.head()"
   ]
  },
  {
   "cell_type": "code",
   "execution_count": 86,
   "metadata": {},
   "outputs": [
    {
     "data": {
      "text/plain": [
       "age                           int64\n",
       "employment_type               int64\n",
       "graduate_or_not               int64\n",
       "annual_income                 int64\n",
       "family_members                int64\n",
       "chronic_diseases              int64\n",
       "frequent_flyer                int64\n",
       "ever_travelled_abroad         int64\n",
       "travel_insurance              int64\n",
       "annual_income_per_person    float64\n",
       "traveller                     int64\n",
       "dtype: object"
      ]
     },
     "execution_count": 86,
     "metadata": {},
     "output_type": "execute_result"
    }
   ],
   "source": [
    "insurance_numeric_df.dtypes"
   ]
  },
  {
   "cell_type": "markdown",
   "metadata": {},
   "source": [
    "Now let's check the correlation between all features."
   ]
  },
  {
   "cell_type": "code",
   "execution_count": 87,
   "metadata": {},
   "outputs": [
    {
     "data": {
      "image/png": "[encoded data removed]",
      "text/plain": [
       "<Figure size 720x576 with 2 Axes>"
      ]
     },
     "metadata": {},
     "output_type": "display_data"
    }
   ],
   "source": [
    "mf.plot_heatmap(insurance_numeric_df, 'Correlation heat map of all features of the insurance_df')"
   ]
  },
  {
   "cell_type": "markdown",
   "metadata": {},
   "source": [
    "We can see that mostly correlated are:\n",
    "- target variable - travel_insurance with annual_income, frequent_flyer and ever_traveled_abroad;\n",
    "- independent features:\n",
    "as we see my newly made features ('children') has the largest correlation between the 'parent' features, but still they do not exceed 0.8.\n",
    "But all in all these features aren't totally independent between each other. On the other hand the correlation scores are too (lower than 0.8) small to identify high correlation between them, so that shouldn't cause Multicollinearity in models. I will also check the VIF and conclude some assumptions, related with linear models."
   ]
  },
  {
   "cell_type": "markdown",
   "metadata": {},
   "source": [
    "## 2.4. Checking some assumptions for modeling"
   ]
  },
  {
   "cell_type": "markdown",
   "metadata": {},
   "source": [
    "* *Appropriate outcome type*\n",
    "\n",
    "The dependent variable from - travel_insurance is a categorical variable with total 2 outcomes: 1 - bought insurance; 0 - did not buy insurance. So we have a binary classification problem (with two possible outcomes). Models to use: classifiers.\n",
    "\n",
    "* *Sufficiently large sample size*\n",
    "\n",
    "Total number of observations should be greater than 500 and it is so, total number of observations: 1987. it's not a very big sample size, so we will not have problem with to long performance.\n",
    "\n",
    "* *Absence of multicollinearity*\n",
    "\n",
    "There are no multicollinearity bertween independent variables. I assumed that any features with a correlation coefficient exceeding 0.80 are suspected of causing multicollinearity. From EDA in chapter 2.3 and the heatmap of Pearson's correlation coefficients we see that no features, that I will use in modeling, correlation coefficients reach or exceed 0.8. But let's count the VIF:"
   ]
  },
  {
   "cell_type": "code",
   "execution_count": 88,
   "metadata": {},
   "outputs": [
    {
     "data": {
      "text/html": [
       "<div>\n",
       "<style scoped>\n",
       "    .dataframe tbody tr th:only-of-type {\n",
       "        vertical-align: middle;\n",
       "    }\n",
       "\n",
       "    .dataframe tbody tr th {\n",
       "        vertical-align: top;\n",
       "    }\n",
       "\n",
       "    .dataframe thead th {\n",
       "        text-align: right;\n",
       "    }\n",
       "</style>\n",
       "<table border=\"1\" class=\"dataframe\">\n",
       "  <thead>\n",
       "    <tr style=\"text-align: right;\">\n",
       "      <th></th>\n",
       "      <th>variables</th>\n",
       "      <th>VIF</th>\n",
       "    </tr>\n",
       "  </thead>\n",
       "  <tbody>\n",
       "    <tr>\n",
       "      <th>0</th>\n",
       "      <td>const</td>\n",
       "      <td>149.15</td>\n",
       "    </tr>\n",
       "    <tr>\n",
       "      <th>1</th>\n",
       "      <td>age</td>\n",
       "      <td>1.03</td>\n",
       "    </tr>\n",
       "    <tr>\n",
       "      <th>2</th>\n",
       "      <td>employment_type</td>\n",
       "      <td>1.19</td>\n",
       "    </tr>\n",
       "    <tr>\n",
       "      <th>3</th>\n",
       "      <td>graduate_or_not</td>\n",
       "      <td>1.05</td>\n",
       "    </tr>\n",
       "    <tr>\n",
       "      <th>4</th>\n",
       "      <td>annual_income</td>\n",
       "      <td>5.07</td>\n",
       "    </tr>\n",
       "    <tr>\n",
       "      <th>5</th>\n",
       "      <td>family_members</td>\n",
       "      <td>3.35</td>\n",
       "    </tr>\n",
       "    <tr>\n",
       "      <th>6</th>\n",
       "      <td>chronic_diseases</td>\n",
       "      <td>1.00</td>\n",
       "    </tr>\n",
       "    <tr>\n",
       "      <th>7</th>\n",
       "      <td>frequent_flyer</td>\n",
       "      <td>1.69</td>\n",
       "    </tr>\n",
       "    <tr>\n",
       "      <th>8</th>\n",
       "      <td>ever_travelled_abroad</td>\n",
       "      <td>1.97</td>\n",
       "    </tr>\n",
       "    <tr>\n",
       "      <th>9</th>\n",
       "      <td>annual_income_per_person</td>\n",
       "      <td>6.92</td>\n",
       "    </tr>\n",
       "    <tr>\n",
       "      <th>10</th>\n",
       "      <td>traveller</td>\n",
       "      <td>2.41</td>\n",
       "    </tr>\n",
       "  </tbody>\n",
       "</table>\n",
       "</div>"
      ],
      "text/plain": [
       "                   variables    VIF\n",
       "0                      const 149.15\n",
       "1                        age   1.03\n",
       "2            employment_type   1.19\n",
       "3            graduate_or_not   1.05\n",
       "4              annual_income   5.07\n",
       "5             family_members   3.35\n",
       "6           chronic_diseases   1.00\n",
       "7             frequent_flyer   1.69\n",
       "8      ever_travelled_abroad   1.97\n",
       "9   annual_income_per_person   6.92\n",
       "10                 traveller   2.41"
      ]
     },
     "execution_count": 88,
     "metadata": {},
     "output_type": "execute_result"
    }
   ],
   "source": [
    "# Calculating Variance Inflation Factor (VIF)\n",
    "X_temp = insurance_numeric_df.copy()\n",
    "X_temp = X_temp.drop(['travel_insurance'], axis=1)\n",
    "X_temp_constant = add_constant(X_temp)\n",
    "\n",
    "mf.calc_vif(X_temp_constant) "
   ]
  },
  {
   "cell_type": "markdown",
   "metadata": {},
   "source": [
    "The threshold for VIF is usually 5 (i.e. values above 5 means there may be presence of multicollinearity).\n",
    "Annual_income and annual_income_per_person \n",
    "\n",
    "* *Independence of observations*\n",
    "\n",
    "All the observations in this data set are independent.\n",
    "\n",
    "* *No strongly influential outliers*\n",
    "\n",
    "Most of the data is binary. In other columns no very strong outliers were found.\n",
    "\n",
    "* *Linear relationship between any continuous independent variables and the logit transformation of the dependent variable*\n",
    "\n",
    "One of the critical assumptions of logistic regression is that the relationship between the logit (aka log-odds) of the outcome and each continuous independent variable is linear."
   ]
  },
  {
   "cell_type": "code",
   "execution_count": 89,
   "metadata": {},
   "outputs": [
    {
     "data": {
      "image/png": "[encoded data removed]",
      "text/plain": [
       "<Figure size 1440x720 with 10 Axes>"
      ]
     },
     "metadata": {},
     "output_type": "display_data"
    }
   ],
   "source": [
    "# Re-running logistic regression on the original set of X and y variable\n",
    "\n",
    "y_temp = insurance_numeric_df.travel_insurance\n",
    "logit_results = sm.GLM(y_temp, X_temp_constant, family=families.Binomial()).fit()\n",
    "predicted = logit_results.predict(X_temp_constant)\n",
    "\n",
    "# Getting log odds values\n",
    "log_odds = np.log(predicted / (1 - predicted))\n",
    "\n",
    "# Visualize predictor variable vs logit values for all columns:\n",
    "plt.figure(figsize=(20, 10))\n",
    "cmap = sns.diverging_palette(250, 20, as_cmap=True)\n",
    "\n",
    "for i in range(1, len(X_temp.columns) + 1):\n",
    "    plt.subplot(4, 3, i)\n",
    "    ax = sns.scatterplot(x=X_temp[X_temp.columns[i - 1]].values, y=log_odds, alpha=0.03)\n",
    "    ax.set_title(f'Log_odds of travel_insurance vs. {X_temp.columns[i-1]}')\n",
    "    sns.despine(right=True, left=False)\n",
    "plt.tight_layout()\n",
    "plt.show()"
   ]
  },
  {
   "cell_type": "markdown",
   "metadata": {},
   "source": [
    "**Conclusion** Quite clear linear patterns are with annual_income, family_members, frequent_flyer, ever_traveled_abroad, traveler, . Other's, especially with binary outcome, not so clear. Having in mind all other assumptions confirmed, logistic regression, Linear SVM could be tried first."
   ]
  },
  {
   "cell_type": "code",
   "execution_count": null,
   "metadata": {},
   "outputs": [],
   "source": [
    "insurance_df.to_csv('insurance_df.csv', index=False)"
   ]
  },
  {
   "cell_type": "code",
   "execution_count": null,
   "metadata": {},
   "outputs": [],
   "source": [
    "insurance_numeric_df.to_csv('insurance_numeric_df.csv', index=False)"
   ]
  },
  {
   "cell_type": "markdown",
   "metadata": {},
   "source": [
    "# Conclusion"
   ]
  },
  {
   "cell_type": "markdown",
   "metadata": {},
   "source": [
    "* It is an imbalanced data set, as we have data about 1277 people, who did not buy this package of travel insurance with covid-19 coverage, and 710 who did. And from those who didn't we have 511 duplicated instances, so it could be considered to remove them. On the other hand data set ir very small and it will be hard to split it into train/test sets and remove such a large number of values. This step could be considered, if the models will not show good accuracy/recall.\n",
    "\n",
    "* **Features that matters**:\n",
    "\n",
    "* Employment type. The difference between proportions of people working in government sector and in private sector, who bought travel insurance, was statistically significant - about 15 percent more insurances were bought by people, working in private sector. Confident interval shows, that there tend to be from 10 to 19 percent more insurance buyers in private sector than in government sector employees. \n",
    "\n",
    "* Annual income/Annual income per person - could be one of the best predictors. We can see that people, who tend to buy travel insurance with covid-19 protection have much higher mean of the annual income, the difference is more than 400 000 rupees (than in the group of non buyers). This difference in mean values of annual incomes is statistically significant.\n",
    "\n",
    "* Frequent flyer - there is a quite strong relationship between those, who claimed, that are frequent flyers and  purchased travel insurances. More than 57 percent in this group of frequent flyers had a travel insurance with covid-19 coverage, while in the non frequent flyers group - only 30 percent had this insurance. But it must be accounted, that there were only 417 frequent flyers in the whole group of 1987 observations.\n",
    "\n",
    "* Traveled abroad/Traveler - there is significant difference between the population proportions of insurance buyers among people, who had traveled abroad and who hadn't. In the group of travelers abroad even 78 percent of members bought the insurance, while in the non traveler - only 26 percent.\n",
    "\n",
    "* **Features that doesn't really matter**:\n",
    "\n",
    "* Age. The age boundaries of respondents are very narrow - from 25 to 25 years. Mostly this covid-19 insurance package was offered to people of age 28 (506 times), then 34 years  - 266 times and 31 years old - 234 times. There are no really strong tendencies that would show larger interest in covid-19 insurance in this age period. \n",
    "Data in this data set doesn't cover older people, which are in the risk group of more complicated covid-19 forms and could be more interested in this kind of insurance. \n",
    "\n",
    "* Chronic diseases - people with chronic diseases do not look to be more interested in travel insurance with coverage from covid-19. There is only 2 percent increase in the group of people with chronic diseases to buy travel insurance than in the group of healthy (as they claim) people.\n",
    "\n",
    "* Graduate or not - almost the same percentage of graduates and non graduates tend to buy this insurance - about 34-36 percent. \n",
    "\n",
    "* Family members - respondents had from two to nine family members. By percentage more travel insurances were bought by people with larger families (from 6 to 9), where the percentage of purchased insurances varies from 43 to 47 percent, except families of 7 people (37 percent). No really strong patterns can be found by this category.\n",
    "\n",
    "\n",
    "\n",
    "**Sooo...**\n",
    "\n",
    "**It looks like a person (not old, younger than 36, so than me ;) with quite large family (from 6 persons), who is a frequent flyer (I don't know with what, maybe with a broom - that you really need with more than 4 kids at home :), who was abroad (counts even once), works in private sector and earns a lot of rupees in India (more than 1,4 million per year, in Euros not so much ;), had graduated college, but has some chronic diseases will probably buy covid-19 insurance :).**"
   ]
  }
 ],
 "metadata": {
  "kernelspec": {
   "display_name": "Python 3.9.7 ('base')",
   "language": "python",
   "name": "python3"
  },
  "language_info": {
   "codemirror_mode": {
    "name": "ipython",
    "version": 3
   },
   "file_extension": ".py",
   "mimetype": "text/x-python",
   "name": "python",
   "nbconvert_exporter": "python",
   "pygments_lexer": "ipython3",
   "version": "3.9.12"
  },
  "orig_nbformat": 4,
  "vscode": {
   "interpreter": {
    "hash": "0c5fee0f00ea2c742b92b76075fa8dbcc0b49d869dc703f5f6953fe6305a2f31"
   }
  }
 },
 "nbformat": 4,
 "nbformat_minor": 2
}
